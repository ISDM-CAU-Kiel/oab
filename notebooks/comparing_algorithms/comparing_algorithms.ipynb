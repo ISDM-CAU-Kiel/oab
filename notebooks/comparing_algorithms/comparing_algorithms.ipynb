{
 "cells": [
  {
   "cell_type": "code",
   "execution_count": 1,
   "metadata": {
    "executionInfo": {
     "elapsed": 8403,
     "status": "ok",
     "timestamp": 1626964119394,
     "user": {
      "displayName": "Jan Deller",
      "photoUrl": "",
      "userId": "00505075318196950908"
     },
     "user_tz": -120
    },
    "id": "0RRyzqGZIhq6"
   },
   "outputs": [],
   "source": [
    "import sys\n",
    "sys.path.append('../..')\n",
    "\n",
    "%load_ext autoreload\n",
    "%autoreload 2"
   ]
  },
  {
   "cell_type": "code",
   "execution_count": 2,
   "metadata": {
    "executionInfo": {
     "elapsed": 2751,
     "status": "ok",
     "timestamp": 1626964122138,
     "user": {
      "displayName": "Jan Deller",
      "photoUrl": "",
      "userId": "00505075318196950908"
     },
     "user_tz": -120
    },
    "id": "pDFT9oz9LQdP"
   },
   "outputs": [],
   "source": [
    "# import function to load datasets\n",
    "from oab.data.load_dataset import load_dataset\n",
    "# import objects for evaluation\n",
    "from oab.evaluation import EvaluationObject, ComparisonObject\n",
    "\n",
    "# import anomaly detection algorithms from pyod\n",
    "from pyod.models.knn import KNN # fit and decision_scores_\n",
    "from pyod.models.lof import LOF\n",
    "from pyod.models.iforest import IForest"
   ]
  },
  {
   "cell_type": "code",
   "execution_count": 3,
   "metadata": {},
   "outputs": [],
   "source": [
    "sampling_size = 100\n",
    "n_steps = 5\n",
    "contamination_rate = 0.05"
   ]
  },
  {
   "cell_type": "code",
   "execution_count": 4,
   "metadata": {
    "colab": {
     "base_uri": "https://localhost:8080/"
    },
    "executionInfo": {
     "elapsed": 11614,
     "status": "ok",
     "timestamp": 1626964133743,
     "user": {
      "displayName": "Jan Deller",
      "photoUrl": "",
      "userId": "00505075318196950908"
     },
     "user_tz": -120
    },
    "id": "QnAfCGTGL7xv",
    "outputId": "1e970050-3184-425d-b53a-65cdb0ccc742"
   },
   "outputs": [
    {
     "name": "stdout",
     "output_type": "stream",
     "text": [
      "Credits: Dua, D. and Graff, C. (2019). UCI Machine Learning Repository [http://archive.ics.uci.edu/ml]. Irvine, CA: University of California, School of Information and Computer Science.\n",
      "Credits: Dua, D. and Graff, C. (2019). UCI Machine Learning Repository [http://archive.ics.uci.edu/ml]. Irvine, CA: University of California, School of Information and Computer Science.\n",
      "Credits: Sayyad Shirabad, J. and Menzies, T.J. (2005) The PROMISE Repository of Software Engineering Databases. School of Information Technology and Engineering, University of Ottawa, Canada.\n"
     ]
    }
   ],
   "source": [
    "# create comparison object that holds all evaluations\n",
    "co = ComparisonObject()\n",
    "\n",
    "# load datasets and store them in a list\n",
    "wilt = load_dataset('wilt')\n",
    "forest_cover = load_dataset('forest_cover')\n",
    "nasa = load_dataset('NASA_ground_data')\n",
    "datasets = [wilt, forest_cover, nasa]\n",
    "\n",
    "# specify which algorithms to use and what their name is\n",
    "algorithms = [KNN, LOF, IForest]\n",
    "algorithm_names = [\"kNN (5)\", \"LOF (5)\", \"IForest\"]\n",
    "\n",
    "# run algorithms on datasets\n",
    "for dataset in datasets:\n",
    "    for algorithm, algorithm_name in zip(algorithms, algorithm_names):\n",
    "        # eval_obj stores predictions and ground truths\n",
    "        eval_obj = EvaluationObject(algorithm_name=algorithm_name)\n",
    "\n",
    "        # sample multiple times from each dataset\n",
    "        for (x, y), sample_config in dataset.sample_multiple(n=sampling_size, n_steps=n_steps, \n",
    "                                                             contamination_rate=contamination_rate):\n",
    "            # instantiate anomaly detection algorithm\n",
    "            algo = algorithm()\n",
    "            # fit data to algorithm\n",
    "            algo.fit(x)\n",
    "            # get prediction scores\n",
    "            pred = algo.decision_scores_\n",
    "            # add ground truth and prediction to evaluation object\n",
    "            eval_obj.add(ground_truth=y, prediction=pred, description=sample_config)\n",
    "        # calculate mean values for metrics based on previously added ground truths\n",
    "        # and predictions\n",
    "        eval_desc = eval_obj.evaluate(print=False)\n",
    "        # add resulting evaluation to the comparison object\n",
    "        co.add_evaluation(eval_desc)"
   ]
  },
  {
   "cell_type": "code",
   "execution_count": 5,
   "metadata": {
    "colab": {
     "base_uri": "https://localhost:8080/"
    },
    "executionInfo": {
     "elapsed": 35,
     "status": "ok",
     "timestamp": 1626964133746,
     "user": {
      "displayName": "Jan Deller",
      "photoUrl": "",
      "userId": "00505075318196950908"
     },
     "user_tz": -120
    },
    "id": "xH9DL5HKL-WQ",
    "outputId": "264bb8bb-ae4a-4653-bc97-91184eb4c159"
   },
   "outputs": [
    {
     "name": "stdout",
     "output_type": "stream",
     "text": [
      "For roc_auc:\n",
      "             wilt  forest_cover  NASA_ground_data   Average\n",
      "kNN (5)  0.535368      0.921263          0.714526  0.723719\n",
      "LOF (5)  0.443368      0.930105          0.651368  0.674947\n",
      "IForest  0.445895      0.958737          0.725895  0.710175\n",
      "Average  0.474877      0.936702          0.697263       NaN\n",
      "For average_precision:\n",
      "             wilt  forest_cover  NASA_ground_data   Average\n",
      "kNN (5)  0.065572      0.350800          0.170956  0.195776\n",
      "LOF (5)  0.054281      0.365948          0.110461  0.176897\n",
      "IForest  0.053718      0.563469          0.178292  0.265160\n",
      "Average  0.057857      0.426739          0.153236       NaN\n",
      "For adjusted_average_precision:\n",
      "             wilt  forest_cover  NASA_ground_data   Average\n",
      "kNN (5)  0.016392      0.316632          0.127322  0.153448\n",
      "LOF (5)  0.004507      0.332577          0.063643  0.133576\n",
      "IForest  0.003914      0.540494          0.135044  0.226484\n",
      "Average  0.008271      0.396568          0.108669       NaN\n"
     ]
    }
   ],
   "source": [
    "# print results in easily readable format\n",
    "co.print_results()"
   ]
  },
  {
   "cell_type": "code",
   "execution_count": 6,
   "metadata": {
    "colab": {
     "base_uri": "https://localhost:8080/"
    },
    "executionInfo": {
     "elapsed": 35,
     "status": "ok",
     "timestamp": 1626964133749,
     "user": {
      "displayName": "Jan Deller",
      "photoUrl": "",
      "userId": "00505075318196950908"
     },
     "user_tz": -120
    },
    "id": "BHkyCloWFCse",
    "outputId": "3889499c-64a6-497e-a999-3b0481d8de99"
   },
   "outputs": [
    {
     "name": "stdout",
     "output_type": "stream",
     "text": [
      "For roc_auc:\n",
      "                 wilt  forest_cover NASA_ground_data   Average\n",
      "kNN (5)  0.535+-0.122  0.921+-0.035     0.715+-0.145  0.723719\n",
      "LOF (5)  0.443+-0.083  0.930+-0.043     0.651+-0.152  0.674947\n",
      "IForest  0.446+-0.069  0.959+-0.016     0.726+-0.124  0.710175\n",
      "Average         0.475         0.937            0.697       NaN\n",
      "\n",
      "For average_precision:\n",
      "                 wilt  forest_cover NASA_ground_data   Average\n",
      "kNN (5)  0.066+-0.016  0.351+-0.130     0.171+-0.067  0.195776\n",
      "LOF (5)  0.054+-0.013  0.366+-0.134     0.110+-0.036  0.176897\n",
      "IForest  0.054+-0.008  0.563+-0.052     0.178+-0.080  0.265160\n",
      "Average         0.058         0.427            0.153       NaN\n",
      "\n",
      "For adjusted_average_precision:\n",
      "                 wilt  forest_cover NASA_ground_data   Average\n",
      "kNN (5)  0.016+-0.017  0.317+-0.137     0.127+-0.071  0.153448\n",
      "LOF (5)  0.005+-0.013  0.333+-0.141     0.064+-0.038  0.133576\n",
      "IForest  0.004+-0.009  0.540+-0.055     0.135+-0.084  0.226484\n",
      "Average         0.008         0.397            0.109       NaN\n",
      "\n"
     ]
    }
   ],
   "source": [
    "# print results in easily readable format with standard deviations\n",
    "co.print_results(include_stdevs=True)"
   ]
  },
  {
   "cell_type": "code",
   "execution_count": 7,
   "metadata": {
    "colab": {
     "base_uri": "https://localhost:8080/"
    },
    "executionInfo": {
     "elapsed": 30,
     "status": "ok",
     "timestamp": 1626964133751,
     "user": {
      "displayName": "Jan Deller",
      "photoUrl": "",
      "userId": "00505075318196950908"
     },
     "user_tz": -120
    },
    "id": "Fqi3fUTRL_NV",
    "outputId": "7a052b09-9136-44f0-f9af-2ef5ad2615a9"
   },
   "outputs": [
    {
     "name": "stdout",
     "output_type": "stream",
     "text": [
      "For roc_auc:\n",
      "\\begin{center}\n",
      "\\begin{tabular}{  c c c c c  }\n",
      "  & wilt & forest\\_cover & NASA\\_ground\\_data & Average \\\\\n",
      "  kNN (5) & \\textbf{0.535} & 0.921 & \\textit{0.715} & \\textbf{0.724} \\\\\n",
      "  LOF (5) & 0.443 & \\textit{0.930} & 0.651 & 0.675 \\\\\n",
      "  IForest & \\textit{0.446} & \\textbf{0.959} & \\textbf{0.726} & \\textit{0.710} \\\\\n",
      "  Average & 0.475 & 0.937 & 0.697 &    \\\\\n",
      "\\end{tabular}\n",
      "\\end{center}\n",
      "\n",
      "For average_precision:\n",
      "\\begin{center}\n",
      "\\begin{tabular}{  c c c c c  }\n",
      "  & wilt & forest\\_cover & NASA\\_ground\\_data & Average \\\\\n",
      "  kNN (5) & \\textbf{0.066} & 0.351 & \\textit{0.171} & \\textit{0.196} \\\\\n",
      "  LOF (5) & \\textit{0.054} & \\textit{0.366} & 0.110 & 0.177 \\\\\n",
      "  IForest & 0.054 & \\textbf{0.563} & \\textbf{0.178} & \\textbf{0.265} \\\\\n",
      "  Average & 0.058 & 0.427 & 0.153 &    \\\\\n",
      "\\end{tabular}\n",
      "\\end{center}\n",
      "\n",
      "For adjusted_average_precision:\n",
      "\\begin{center}\n",
      "\\begin{tabular}{  c c c c c  }\n",
      "  & wilt & forest\\_cover & NASA\\_ground\\_data & Average \\\\\n",
      "  kNN (5) & \\textbf{0.016} & 0.317 & \\textit{0.127} & \\textit{0.153} \\\\\n",
      "  LOF (5) & \\textit{0.005} & \\textit{0.333} & 0.064 & 0.134 \\\\\n",
      "  IForest & 0.004 & \\textbf{0.540} & \\textbf{0.135} & \\textbf{0.226} \\\\\n",
      "  Average & 0.008 & 0.397 & 0.109 &    \\\\\n",
      "\\end{tabular}\n",
      "\\end{center}\n",
      "\n"
     ]
    }
   ],
   "source": [
    "# print results in latex format (note: also has parameter include_stdevs)\n",
    "co.print_latex()"
   ]
  },
  {
   "cell_type": "code",
   "execution_count": 8,
   "metadata": {
    "colab": {
     "base_uri": "https://localhost:8080/"
    },
    "executionInfo": {
     "elapsed": 10,
     "status": "ok",
     "timestamp": 1626964134061,
     "user": {
      "displayName": "Jan Deller",
      "photoUrl": "",
      "userId": "00505075318196950908"
     },
     "user_tz": -120
    },
    "id": "OPEMZHgHGUtr",
    "outputId": "efc3c192-993e-44f4-c3f6-2abf8979abde"
   },
   "outputs": [
    {
     "name": "stdout",
     "output_type": "stream",
     "text": [
      "                      wilt  forest_cover  NASA_ground_data\n",
      "n                   100.00        100.00            100.00\n",
      "contamination_rate    0.05          0.05              0.05\n",
      "sampling_steps        5.00          5.00              5.00\n"
     ]
    }
   ],
   "source": [
    "# see what the sampling configs are\n",
    "co.print_sampling_configs()"
   ]
  },
  {
   "cell_type": "code",
   "execution_count": 9,
   "metadata": {
    "colab": {
     "base_uri": "https://localhost:8080/",
     "height": 484
    },
    "executionInfo": {
     "elapsed": 1823,
     "status": "error",
     "timestamp": 1626964135879,
     "user": {
      "displayName": "Jan Deller",
      "photoUrl": "",
      "userId": "00505075318196950908"
     },
     "user_tz": -120
    },
    "id": "FIqib8JNFQtX",
    "outputId": "8fe074df-b5cb-4848-bde7-61d34186f37c"
   },
   "outputs": [],
   "source": [
    "# if we include another algorithm that samples with a different config, it will notice:\n",
    "from pyod.models.abod import ABOD\n",
    "\n",
    "# run algorithms on datasets\n",
    "for dataset in datasets:\n",
    "    algorithm, algorithm_name = ABOD, \"ABOD\"\n",
    "    # eval_obj stores predictions and ground truths\n",
    "    eval_obj = EvaluationObject(algorithm_name=algorithm_name)\n",
    "\n",
    "    # sample multiple times from each dataset\n",
    "    for (x, y), sample_config in dataset.sample_multiple(n=40, n_steps=5, \n",
    "                                                             contamination_rate=0.1):\n",
    "        # instantiate anomaly detection algorithm\n",
    "        algo = algorithm()\n",
    "        # fit data to algorithm\n",
    "        algo.fit(x)\n",
    "        # get prediction scores\n",
    "        pred = algo.decision_scores_\n",
    "        # add ground truth and prediction to evaluation object\n",
    "        eval_obj.add(ground_truth=y, prediction=pred, description=sample_config)\n",
    "    # calculate mean values for metrics based on previously added ground truths\n",
    "    # and predictions\n",
    "    eval_desc = eval_obj.evaluate(print=False)\n",
    "    # add resulting evaluation to the comparison object\n",
    "    co.add_evaluation(eval_desc)"
   ]
  },
  {
   "cell_type": "code",
   "execution_count": 10,
   "metadata": {
    "executionInfo": {
     "elapsed": 39,
     "status": "aborted",
     "timestamp": 1626964135875,
     "user": {
      "displayName": "Jan Deller",
      "photoUrl": "",
      "userId": "00505075318196950908"
     },
     "user_tz": -120
    },
    "id": "rb5uJxpPFn-2"
   },
   "outputs": [
    {
     "ename": "Exception",
     "evalue": "Evaluation objects are not matching, i.e., not all results from the same dataset are sampled in the same way. More specifically, for dataset wilt, expected value for n was 100.0 but got 40 on algorithm ABOD.",
     "output_type": "error",
     "traceback": [
      "\u001b[0;31m---------------------------------------------------------------------------\u001b[0m",
      "\u001b[0;31mException\u001b[0m                                 Traceback (most recent call last)",
      "\u001b[0;32m<ipython-input-10-49f8f5be68e7>\u001b[0m in \u001b[0;36m<module>\u001b[0;34m\u001b[0m\n\u001b[0;32m----> 1\u001b[0;31m \u001b[0mco\u001b[0m\u001b[0;34m.\u001b[0m\u001b[0mprint_sampling_configs\u001b[0m\u001b[0;34m(\u001b[0m\u001b[0;34m)\u001b[0m\u001b[0;34m\u001b[0m\u001b[0;34m\u001b[0m\u001b[0m\n\u001b[0m",
      "\u001b[0;32m~/Desktop/oab-isdm/oab/evaluation.py\u001b[0m in \u001b[0;36mprint_sampling_configs\u001b[0;34m(self)\u001b[0m\n\u001b[1;32m    536\u001b[0m                     \u001b[0mevaluation_value\u001b[0m \u001b[0;34m=\u001b[0m \u001b[0mgetattr\u001b[0m\u001b[0;34m(\u001b[0m\u001b[0mevaluation_value\u001b[0m\u001b[0;34m,\u001b[0m \u001b[0mattr\u001b[0m\u001b[0;34m)\u001b[0m\u001b[0;34m\u001b[0m\u001b[0;34m\u001b[0m\u001b[0m\n\u001b[1;32m    537\u001b[0m                 \u001b[0;32mif\u001b[0m \u001b[0;32mnot\u001b[0m \u001b[0mmath\u001b[0m\u001b[0;34m.\u001b[0m\u001b[0misclose\u001b[0m\u001b[0;34m(\u001b[0m\u001b[0mseries_value\u001b[0m\u001b[0;34m,\u001b[0m \u001b[0mevaluation_value\u001b[0m\u001b[0;34m)\u001b[0m\u001b[0;34m:\u001b[0m\u001b[0;34m\u001b[0m\u001b[0;34m\u001b[0m\u001b[0m\n\u001b[0;32m--> 538\u001b[0;31m                     raise Exception(f\"Evaluation objects are not matching, i.e., not all \"\\\n\u001b[0m\u001b[1;32m    539\u001b[0m                         \u001b[0;34mf\"results from the same dataset are sampled in the same way. \"\u001b[0m\u001b[0;31m\\\u001b[0m\u001b[0;34m\u001b[0m\u001b[0;34m\u001b[0m\u001b[0m\n\u001b[1;32m    540\u001b[0m                         \u001b[0;34mf\"More specifically, for dataset {ds_name}, expected value for \"\u001b[0m\u001b[0;31m\\\u001b[0m\u001b[0;34m\u001b[0m\u001b[0;34m\u001b[0m\u001b[0m\n",
      "\u001b[0;31mException\u001b[0m: Evaluation objects are not matching, i.e., not all results from the same dataset are sampled in the same way. More specifically, for dataset wilt, expected value for n was 100.0 but got 40 on algorithm ABOD."
     ]
    }
   ],
   "source": [
    "co.print_sampling_configs()"
   ]
  },
  {
   "cell_type": "code",
   "execution_count": null,
   "metadata": {
    "id": "pee33EGMF1ry"
   },
   "outputs": [],
   "source": []
  }
 ],
 "metadata": {
  "colab": {
   "authorship_tag": "ABX9TyMTuh1dRxoXUPo3gE46K1hM",
   "collapsed_sections": [],
   "name": "ComparingAlgorithms.ipynb",
   "provenance": []
  },
  "kernelspec": {
   "display_name": "Python 3",
   "language": "python",
   "name": "python3"
  },
  "language_info": {
   "codemirror_mode": {
    "name": "ipython",
    "version": 3
   },
   "file_extension": ".py",
   "mimetype": "text/x-python",
   "name": "python",
   "nbconvert_exporter": "python",
   "pygments_lexer": "ipython3",
   "version": "3.9.0"
  }
 },
 "nbformat": 4,
 "nbformat_minor": 4
}
