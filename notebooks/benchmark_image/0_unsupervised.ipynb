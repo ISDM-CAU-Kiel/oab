{
 "cells": [
  {
   "cell_type": "code",
   "execution_count": null,
   "metadata": {
    "id": "BNB9yVw0ms5c"
   },
   "outputs": [],
   "source": [
    "import sys\n",
    "sys.path.append('../..')\n",
    "\n",
    "%load_ext autoreload\n",
    "%autoreload 2"
   ]
  },
  {
   "cell_type": "code",
   "execution_count": null,
   "metadata": {
    "id": "IfUXz_DDm1Gq"
   },
   "outputs": [],
   "source": [
    "from oab.data.load_dataset import load_dataset\n",
    "from oab.evaluation import EvaluationObject, ComparisonObject"
   ]
  },
  {
   "cell_type": "code",
   "execution_count": null,
   "metadata": {
    "id": "E0t7NclLm1Jx"
   },
   "outputs": [],
   "source": [
    "# load all algorithms\n",
    "from conv_ae import ConvAutoEncoder\n",
    "from cae_ABOD import CAEABOD\n",
    "from cae_KNN import CAEKNN\n",
    "from cae_LOF import CAELOF\n",
    "from cae_iforest import CAEIForest"
   ]
  },
  {
   "cell_type": "code",
   "execution_count": null,
   "metadata": {
    "id": "e_n-x7QEm1Mw"
   },
   "outputs": [],
   "source": [
    "# define hyperparameters for all algorithms\n",
    "CAE_parameters = {'latent_dim': 100, 'epochs': 50, 'verbose': 0}\n",
    "\n",
    "def conv_ae_init(*args, **kwargs):\n",
    "    return ConvAutoEncoder(**CAE_parameters)\n",
    "\n",
    "# CAE+KNN\n",
    "knn_factor = 0.05\n",
    "knn_minimum = 10\n",
    "def cae_KNN_init(n: int, *args, **kwargs):\n",
    "    k = int(max(knn_factor * n, knn_minimum))\n",
    "    KNN_parameters = {'n_neighbors': k}\n",
    "    return CAEKNN(CAE_parameters=CAE_parameters, KNN_parameters=KNN_parameters)\n",
    "\n",
    "\n",
    "# CAE+LOF\n",
    "lof_factor = 0.1\n",
    "lof_minimum = 10\n",
    "def cae_LOF_init(n: int, *args, **kwargs):\n",
    "    k = int(max(lof_factor * n, lof_minimum))\n",
    "    LOF_parameters = {'n_neighbors': k}\n",
    "    return CAELOF(CAE_parameters=CAE_parameters, LOF_parameters=LOF_parameters)\n",
    "\n",
    "# CAE+ABOD\n",
    "abod_factor = 0.01\n",
    "abod_minimum = 10\n",
    "def cae_ABOD_init(n: int, *args, **kwargs):\n",
    "    k = int(max(abod_factor * n, abod_minimum))\n",
    "    ABOD_parameters = {'n_neighbors': k}\n",
    "    return CAEABOD(CAE_parameters=CAE_parameters, ABOD_parameters=ABOD_parameters)\n",
    "\n",
    "def cae_IForest_init(*args, **kwargs):\n",
    "    IForest_parameters = {'random_state': 42}\n",
    "    return CAEIForest(CAE_parameters=CAE_parameters, IForest_parameters=IForest_parameters)\n",
    "\n",
    "algo_names = [\n",
    "    'caeknn',\n",
    "    'caelof',              \n",
    "    'caeabod',\n",
    "    'caeiforest',     \n",
    "    'cae',   \n",
    "]\n",
    "\n",
    "name_to_init = {\n",
    "    'cae': conv_ae_init,\n",
    "    'caeabod': cae_ABOD_init,\n",
    "    'caelof': cae_LOF_init,\n",
    "    'caeknn': cae_KNN_init,\n",
    "    'caeiforest': cae_IForest_init,\n",
    "}"
   ]
  },
  {
   "cell_type": "code",
   "execution_count": null,
   "metadata": {
    "id": "oL47QxG0qz9d"
   },
   "outputs": [],
   "source": [
    "# define data sets to load (by name)\n",
    "dataset_names = [\n",
    "    'mnist', 'cifar10',\n",
    "    'mvtec_ad_transistor', 'mvtec_ad_screw', 'mvtec_ad_pill', 'mvtec_ad_carpet', 'mvtec_ad_hazelnut'\n",
    "                 ]"
   ]
  },
  {
   "cell_type": "code",
   "execution_count": null,
   "metadata": {
    "colab": {
     "base_uri": "https://localhost:8080/"
    },
    "id": "-hoZs0NLm1RY",
    "outputId": "7979f9e3-ca83-4ae4-f81c-eded88623674"
   },
   "outputs": [],
   "source": [
    "co = ComparisonObject() # object that collects all results\n",
    "\n",
    "n_steps = 10 # number of sampling steps\n",
    "\n",
    "# iterate through all data sets\n",
    "for dataset_name in dataset_names:\n",
    "    # load dataset\n",
    "    dataset = 0\n",
    "    del dataset\n",
    "    dataset = load_dataset(dataset_name) # per default makes unsupervised anomaly dataset\n",
    "    print(f\"{dataset.classification_dataset.name}\") # update to see progress\n",
    "    \n",
    "    # iterate through all algorithms\n",
    "    for algorithm_name in algo_names:\n",
    "        print(f\"---{algorithm_name}\") # update to see progress\n",
    "        init = name_to_init[algorithm_name]\n",
    "        eval_obj = EvaluationObject(algorithm_name=algorithm_name) # object that collects results for one algorithm on one data set\n",
    "        for (x, y), sample_config in dataset.sample_multiple(**dataset.get_sampling_parameters(), n_steps=n_steps, flatten_images=False): # sample n_steps times with sampling parameters as described in paper\n",
    "            print('.', end='') # update to see progress\n",
    "            algo = init(n=len(x))\n",
    "            algo.fit(x)\n",
    "            pred = algo.decision_scores_\n",
    "            eval_obj.add(ground_truth=y, prediction=pred, description=sample_config)\n",
    "        eval_desc = eval_obj.evaluate(print=False, metrics=['roc_auc', 'adjusted_average_precision', 'precision_recall_auc'])\n",
    "        co.add_evaluation(eval_desc) # append evaluation of one algorithm on one data set to object that collects all results"
   ]
  },
  {
   "cell_type": "code",
   "execution_count": null,
   "metadata": {
    "colab": {
     "base_uri": "https://localhost:8080/"
    },
    "id": "il41-xgjnA_a",
    "outputId": "681189bf-d3eb-4c35-d55f-6ab233937339"
   },
   "outputs": [],
   "source": [
    "co.print_results() # print results in human-readable form"
   ]
  },
  {
   "cell_type": "code",
   "execution_count": null,
   "metadata": {
    "colab": {
     "base_uri": "https://localhost:8080/"
    },
    "id": "XiGtLvlonBCh",
    "outputId": "70668853-7b02-4407-adb6-77ddd0810c67"
   },
   "outputs": [],
   "source": [
    "co.print_latex() # print results as latex table"
   ]
  }
 ],
 "metadata": {
  "accelerator": "GPU",
  "colab": {
   "collapsed_sections": [],
   "name": "Image_unsupervised.ipynb",
   "provenance": []
  },
  "kernelspec": {
   "display_name": "Python 3",
   "language": "python",
   "name": "python3"
  },
  "language_info": {
   "codemirror_mode": {
    "name": "ipython",
    "version": 3
   },
   "file_extension": ".py",
   "mimetype": "text/x-python",
   "name": "python",
   "nbconvert_exporter": "python",
   "pygments_lexer": "ipython3",
   "version": "3.9.0"
  }
 },
 "nbformat": 4,
 "nbformat_minor": 4
}
