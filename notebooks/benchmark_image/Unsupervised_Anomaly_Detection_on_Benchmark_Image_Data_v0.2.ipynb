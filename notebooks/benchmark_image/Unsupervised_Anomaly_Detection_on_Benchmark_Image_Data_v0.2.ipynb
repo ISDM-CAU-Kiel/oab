{
 "cells": [
  {
   "cell_type": "markdown",
   "id": "100a6f8d",
   "metadata": {
    "id": "100a6f8d"
   },
   "source": [
    "\n",
    "## In this notebook, you will see all the steps sequentially performed to be able to utilize the complete functionality of OAB framework. The steps are as follows :\n",
    "0. SETUP\n",
    "1. DATA\n",
    "2. DATA SELECTION\n",
    "3. PREPROCESSING\n",
    "4. SAMPLING\n",
    "5. ALGORITHM TRAINING AND TESTING\n",
    "6. EVALUATION\n",
    "7. SHOW BENCHMARK RESULTS\n",
    "8. REPRODUCIBILTY\n",
    "9. EXTENDING THE BENCHMARK(with own Algorithm)\n",
    "\n",
    "This notebook focuses on <b>Unsupervised Image Data</b>. Let's begin!"
   ]
  },
  {
   "cell_type": "markdown",
   "id": "VXCXUMi0bRJA",
   "metadata": {
    "id": "VXCXUMi0bRJA"
   },
   "source": [
    "# **0. SETUP**"
   ]
  },
  {
   "cell_type": "markdown",
   "id": "kkhqUcFybZ56",
   "metadata": {
    "id": "kkhqUcFybZ56"
   },
   "source": [
    "`oab` framework can be integrated in your Python environment  as a `PyPi package`  using the following command:"
   ]
  },
  {
   "cell_type": "code",
   "execution_count": null,
   "id": "9rc17bsZbbnb",
   "metadata": {
    "id": "9rc17bsZbbnb"
   },
   "outputs": [],
   "source": [
    "#ID 1(0)\n",
    "\n",
    "#%%capture\n",
    "# pip install oab\n",
    "!pip install example-pkg-jd-kiel --extra-index-url=https://test.pypi.org/simple/"
   ]
  },
  {
   "cell_type": "markdown",
   "id": "bbf6e716",
   "metadata": {},
   "source": [
    "`Cloning` the repository:\n",
    "\n",
    "`oab` is an open-source framework which can be accessed at https://github.com/ISDM-CAU-Kiel/oab. To use this .ipynb notebook successfully, the formerly mentioned repository needs to be cloned with the following command and this notebook must be run(if this is not the case already) within the cloned repository from the path:\n",
    "\n",
    "<b>/oab/notebooks/benchmark_image/Unsupervised_Anomaly_Detection_on_Benchmark_Image_Data_v0.2.ipynb</b>"
   ]
  },
  {
   "cell_type": "code",
   "execution_count": null,
   "id": "230998a5",
   "metadata": {},
   "outputs": [],
   "source": [
    "#ID 2(0)\n",
    "!git clone https://github.com/ISDM-CAU-Kiel/oab.git"
   ]
  },
  {
   "cell_type": "markdown",
   "id": "c14effef",
   "metadata": {},
   "source": [
    "Now, importing the necessary functions and internal variables :"
   ]
  },
  {
   "cell_type": "code",
   "execution_count": 2,
   "id": "8dcd5290",
   "metadata": {
    "scrolled": true
   },
   "outputs": [
    {
     "name": "stdout",
     "output_type": "stream",
     "text": [
      "The autoreload extension is already loaded. To reload it, use:\n",
      "  %reload_ext autoreload\n"
     ]
    }
   ],
   "source": [
    "#ID 3(0)\n",
    "\n",
    "import sys\n",
    "import os\n",
    "from datetime import datetime \n",
    "from pathlib import Path         \n",
    "sys.path.insert(0,f\"{Path(os.getcwd()).parent.parent}\")  \n",
    "%load_ext autoreload\n",
    "%autoreload 2\n",
    "\n",
    "# necessary imports for loading datasets as well as information from recipe files\n",
    "from oab.data.unsupervised import UnsupervisedAnomalyDataset\n",
    "from oab.algorithms.unsupervised_wrapper import UnsupervisedWrapperToRecipe\n",
    "from oab.data.load_image_dataset import _load_image_dataset\n",
    "from oab.data.load_dataset import load_dataset\n",
    "from oab.data.utils_image import image_datasets\n",
    "from oab.data.utils import _append_to_yaml\n",
    "from oab.data.load_recipe_functions import *\n",
    "\n",
    "# necessary imports for algorithm comparisons and defining seeds\n",
    "from oab.evaluation import EvaluationObject, ComparisonObject,all_metrics\n",
    "import tensorflow as tf\n",
    "import numpy as np\n",
    "import random\n",
    "import torch"
   ]
  },
  {
   "cell_type": "markdown",
   "id": "50eb70c2",
   "metadata": {
    "id": "50eb70c2"
   },
   "source": [
    "## **0.1 NOTEBOOK AND CELL STRUCTURE** "
   ]
  },
  {
   "cell_type": "markdown",
   "id": "bca4cbba",
   "metadata": {
    "id": "bca4cbba"
   },
   "source": [
    "In this notebook there are certain sections where the user is required to enter its own information which are marked as comments of the form :\n",
    "\n",
    "<b>### ADD YOUR CODE ###</b>  , so <b>###</b> can be searched to know what are those sections.\n",
    "\n",
    "All cells are assigned an ID, as a comment at the top of the cell,for example as: <b>#ID 10(5)</b>, where 10 denotes the cell ID and 5 denotes the Section."
   ]
  },
  {
   "cell_type": "markdown",
   "id": "ac87d392",
   "metadata": {},
   "source": [
    "## 0.2 DETAILS OF THIS BENCHMARK RUN"
   ]
  },
  {
   "cell_type": "code",
   "execution_count": 3,
   "id": "8a11d6ac",
   "metadata": {},
   "outputs": [
    {
     "name": "stdout",
     "output_type": "stream",
     "text": [
      "Paper_A/20211223120704-usi/20211223120704-Paper_A\n"
     ]
    }
   ],
   "source": [
    "#ID 4(0)\n",
    "\n",
    "\n",
    "#timestamp is set  for this run  \n",
    "\n",
    "time=datetime.now().strftime(\"%Y%m%d%H%M%S\")\n",
    "\n",
    "### ADD YOUR OWN BENCHMARK NAME ###\n",
    "benchmark_name=\"Paper_A\"\n",
    "benchmark_type=\"usi\"      #(usi denotes unsupervised image benchmark)\n",
    "dataset_folder=\"datasets\"\n",
    "#creating folder for this benchmark with current timestamp name to store recipes of this run\n",
    "if not os.path.exists(f\"{benchmark_name}/{time}-{benchmark_type}\"): #creating directory for this benchhmark run for storing recipes\n",
    "    os.makedirs(f\"{benchmark_name}/{time}-{benchmark_type}\")\n",
    "    \n",
    "new_recipe_path=f\"{benchmark_name}/{time}-{benchmark_type}/{time}-{benchmark_name}\" \n",
    "print(f\"{benchmark_name}/{time}-{benchmark_type}/{time}-{benchmark_name}\")"
   ]
  },
  {
   "cell_type": "markdown",
   "id": "30d6f57f",
   "metadata": {},
   "source": [
    "### For reproducing  previously-created recipes of another benchmark run, without adding new datasets and algorithms from this benchmark  ,  skip to :\n",
    "\n",
    "### `#ID 20(5)`"
   ]
  },
  {
   "cell_type": "markdown",
   "id": "Ge7C0gfOXtkJ",
   "metadata": {
    "id": "Ge7C0gfOXtkJ"
   },
   "source": [
    "# **1. DATA**"
   ]
  },
  {
   "cell_type": "markdown",
   "id": "7714d531",
   "metadata": {
    "id": "7714d531"
   },
   "source": [
    "First of all, we will have a look at the Datasets that are pre-installed in OAB which can be used for benchmarking"
   ]
  },
  {
   "cell_type": "code",
   "execution_count": 4,
   "id": "1c45b98e",
   "metadata": {
    "id": "1c45b98e",
    "outputId": "de6c3c28-b6c3-4dd5-cf4d-c9dbc018a5fc"
   },
   "outputs": [
    {
     "name": "stdout",
     "output_type": "stream",
     "text": [
      "0.mnist\n",
      "1.fashion_mnist\n",
      "2.cifar10\n",
      "3.cifar100\n",
      "4.mvtec_ad_carpet\n",
      "5.mvtec_ad_grid\n",
      "6.mvtec_ad_leather\n",
      "7.mvtec_ad_tile\n",
      "8.mvtec_ad_wood\n",
      "9.mvtec_ad_bottle\n",
      "10.mvtec_ad_cable\n",
      "11.mvtec_ad_capsule\n",
      "12.mvtec_ad_hazelnut\n",
      "13.mvtec_ad_metal_nut\n",
      "14.mvtec_ad_pill\n",
      "15.mvtec_ad_screw\n",
      "16.mvtec_ad_toothbrush\n",
      "17.mvtec_ad_transistor\n",
      "18.mvtec_ad_zipper\n",
      "19.crack\n"
     ]
    }
   ],
   "source": [
    "#ID 5(1)\n",
    "lst_all_datasetnames =image_datasets\n",
    "for i,dataset in enumerate(lst_all_datasetnames):\n",
    "    print(f\"{i}.{dataset}\")"
   ]
  },
  {
   "cell_type": "markdown",
   "id": "5GfTylvidJUs",
   "metadata": {
    "id": "5GfTylvidJUs"
   },
   "source": [
    "\n",
    "`oab` provides a variety of image datasets that can easily be loaded, in either of the following ways: \n",
    "\n",
    "`1.` If a user is interested in using her own image dataset  loading **via local folder directory**, the following steps have to be followed: (1) Ensure that the format is readable by oab. This requires there to be a folder for the dataset with the subfolders `normal` and `anomaly`. Naturally, all normal images are in the folder `normal` and all images of anomalies in the folder `anomaly`. (2) Based on this folder structure, the dataset can be loaded.\n",
    "\n",
    "\n",
    "\"**Local folder structure - without URL usage**\" :\n",
    "```\n",
    "dataset_name\n",
    "        │\n",
    "        ├── normal\n",
    "        │    \n",
    "        └── anomaly\n",
    "``` \n",
    "\n",
    "`2.` If user's dataset is provided **via a URL**, then it would be downloaded and stored in the OAB's \"datasets\" folder, given that it is already formatted as per the required folder heirarchy, where the folder :\n",
    "\n",
    "`good`(which should not be renamed) : contains normal images whereas \n",
    "\n",
    "`anomaly_folder_n`(can be renamed):  contains anomalous images\n",
    "\n",
    "\n",
    "\n",
    "\"**Uploaded folder structure - with URL usage**\" :\n",
    "```\n",
    "dataset_name\n",
    "        │\n",
    "        ├── train\n",
    "        │   ├── good\n",
    "        │\n",
    "        │  \n",
    "        └── test\n",
    "            ├── good\n",
    "            ├── anomaly_folder_1\n",
    "            ├── ...\n",
    "            ├── ...\n",
    "            ├── anomaly_folder_2\n",
    "```\n",
    " \n",
    "Note: Alternatively, it is of course possible to load the images into `numpy` arrays and treat them as if they were tabular data. If this approach is to be followed, please look at the notebooks for tabular data.\n",
    "\n",
    "\n",
    "- Notes: Limited to 256x256"
   ]
  },
  {
   "cell_type": "code",
   "execution_count": 5,
   "id": "Jap0jcY8JQwb",
   "metadata": {
    "id": "Jap0jcY8JQwb",
    "outputId": "56d80fce-d7ea-4693-aa71-41e58b766d07"
   },
   "outputs": [
    {
     "name": "stdout",
     "output_type": "stream",
     "text": [
      " Dataset(s) successfully added as :  ['mvtec_ad_myImageDataset']\n",
      "Datasets of OAB:\n",
      "0.mnist\n",
      "1.fashion_mnist\n",
      "2.cifar10\n",
      "3.cifar100\n",
      "4.mvtec_ad_carpet\n",
      "5.mvtec_ad_grid\n",
      "6.mvtec_ad_leather\n",
      "7.mvtec_ad_tile\n",
      "8.mvtec_ad_wood\n",
      "9.mvtec_ad_bottle\n",
      "10.mvtec_ad_cable\n",
      "11.mvtec_ad_capsule\n",
      "12.mvtec_ad_hazelnut\n",
      "13.mvtec_ad_metal_nut\n",
      "14.mvtec_ad_pill\n",
      "15.mvtec_ad_screw\n",
      "16.mvtec_ad_toothbrush\n",
      "17.mvtec_ad_transistor\n",
      "18.mvtec_ad_zipper\n",
      "19.crack\n",
      "20.mvtec_ad_myImageDataset\n"
     ]
    }
   ],
   "source": [
    "#ID 6(1)\n",
    "\n",
    "\n",
    "#### ADD YOUR DATASETNAME(S) HERE ###\n",
    "\n",
    "own_datasets_list=[\"myImageDataset\"]  # More of user's own datasets can be added in this list\n",
    "benchmark_datasets_list=['mnist']   # More of OAB's datasets can be added to this list\n",
    "\n",
    "\n",
    "# 'myImageDataset' is the name of the Dataset(which the user loads for benchmarking as well as the name of the folder containing normal and anomaly folders\n",
    "#  which further contain the respective images\n",
    "#  and make sure folder structure is correct ({dataset_folder}/{name-without mvtec_ad_}/[normal/anomaly])\n",
    "\n",
    "\n",
    "\n",
    "\n",
    "# calling the helper function to update internal OAB variables \n",
    "mvtec_ad_own_datasets_list=[]\n",
    "for dataset_name in own_datasets_list:\n",
    " \n",
    "  mvtec_ad_own_datasets_list.append(add_own_dataset(dataset_name))\n",
    "print( f\" Dataset(s) successfully added as :  {mvtec_ad_own_datasets_list}\")\n",
    "\n",
    "\n",
    "\n",
    "\n",
    "#Now,  we'll have a look at all the datasets again which are pre-installed in OAB,after adding own_datasets \n",
    "lst_all_datasetnames =image_datasets\n",
    "print(\"Datasets of OAB:\")\n",
    "for i,dataset in enumerate(lst_all_datasetnames):\n",
    "    print(f\"{i}.{dataset}\")"
   ]
  },
  {
   "cell_type": "markdown",
   "id": "k2lQC5bsi87O",
   "metadata": {
    "id": "k2lQC5bsi87O"
   },
   "source": [
    "Now, If this dataset(s) was already stored in the dataset_folder, structured as mentioned in the initial description of this section above, then we have to create the file \"applied_modification.txt\" in Path(dataset_folder)/dataset_name/ \"applied_modification.txt\"). If this is not available in the location, then we download the dataset from the given URL(When data is downloaded for the URL, the orientation of the folders as well as the image resizing operation is performed and  information about that is stored in \"applied_modification.txt\")"
   ]
  },
  {
   "cell_type": "code",
   "execution_count": 6,
   "id": "sQUa14_KqO9C",
   "metadata": {
    "colab": {
     "base_uri": "https://localhost:8080/",
     "height": 235
    },
    "id": "sQUa14_KqO9C",
    "outputId": "0c98a9cb-5eef-4107-bed5-04e19aebd23c"
   },
   "outputs": [],
   "source": [
    "#ID 7(1)\n",
    "for dataset_name in own_datasets_list:\n",
    "   open(Path(dataset_folder)/dataset_name/\"applied_modification.txt\", \"w\") \n",
    "   \n",
    "  "
   ]
  },
  {
   "cell_type": "markdown",
   "id": "c0c1bdac",
   "metadata": {
    "id": "c0c1bdac"
   },
   "source": [
    "# **2. DATA SELECTION**"
   ]
  },
  {
   "cell_type": "markdown",
   "id": "NZ9L0Cc-NPsB",
   "metadata": {
    "id": "NZ9L0Cc-NPsB"
   },
   "source": [
    "\n",
    "Datasets can either be loaded directly as anomaly datasets or as classification datasets. In the former case, the dataset is automatically fully prepared and ready for sampling. In the latter case, further preprocessing is still possible and necessary.\n",
    "\n",
    "Note that the automatic preprocessing for image datasets is to scale each value by `1/255`."
   ]
  },
  {
   "cell_type": "markdown",
   "id": "f11dpL-kh5qX",
   "metadata": {
    "id": "f11dpL-kh5qX"
   },
   "source": [
    "**After adding own dataset(s) in #ID 6(1),the user is able to load own dataset(s) using this method :**"
   ]
  },
  {
   "cell_type": "code",
   "execution_count": 7,
   "id": "BkZNi850qMy6",
   "metadata": {
    "id": "BkZNi850qMy6"
   },
   "outputs": [],
   "source": [
    "#ID 8(2)\n",
    "\n",
    "\n",
    "datasets={}  # contain dataset objects of own dataset names \n",
    "\n",
    "\n",
    "for dataset_name in mvtec_ad_own_datasets_list:  # loading own datasets \n",
    "    \n",
    "    datasets[dataset_name[9:]]=_load_image_dataset(dataset_name ,anomaly_dataset=False,preprocess_classification_dataset=False,dataset_folder=dataset_folder)"
   ]
  },
  {
   "cell_type": "markdown",
   "id": "jZrY4gxINSqv",
   "metadata": {
    "id": "jZrY4gxINSqv"
   },
   "source": [
    "### **2.1 Load anomaly detection datasets (with or without further preprocessing)**"
   ]
  },
  {
   "cell_type": "markdown",
   "id": "1GoNZY8YNSu0",
   "metadata": {
    "id": "1GoNZY8YNSu0"
   },
   "source": [
    "In this section, we load some pre-installed data sets. This can be achieved using the `load_dataset` function. By default, it creates an anomaly dataset from which sampling is directly possible  but we can first create classifcation dataset and then anomaly dataset,either with the preprocessing applied (`preprocess_classification_dataset=True`) i.e. Scaling is performed on all values by the factor of 1/255, or without (`preprocess_classification_dataset=False`, default).\n",
    "\n",
    "`In our case` we set have already imported own datasets with `anomaly_dataset=False ` and `preprocess_classification_dataset=False` in <b>#ID 8(2)</b> and we will also load the OAB datasets in the same way in <b>#ID 9(2)</b>\n",
    "\n",
    "\n",
    "Note that as discussed in the paper, multiclass classification datasets like Cifar10 and MNIST are loaded with the class label `0` as normal label and all other labels as anomaly labels by default. (Alternatively, `oab` can automatically iterate through all classes as normal classes. This is not covered here.)"
   ]
  },
  {
   "cell_type": "code",
   "execution_count": 8,
   "id": "6VrjgVJANX8V",
   "metadata": {
    "id": "6VrjgVJANX8V"
   },
   "outputs": [],
   "source": [
    "#ID 9(2)\n",
    "\n",
    "#### ADD YOUR OWN NUMBER OF DATASETS AND FROM OAB FOR BENCHMARKING  ###\n",
    "\n",
    "for dataset_name in benchmark_datasets_list:  # loading benchmark's datasets\n",
    "    datasets[dataset_name]=load_dataset(dataset_name,anomaly_dataset=False,preprocess_classification_dataset=False,dataset_folder=dataset_folder)\n"
   ]
  },
  {
   "cell_type": "code",
   "execution_count": 9,
   "id": "84c91f3e",
   "metadata": {},
   "outputs": [
    {
     "name": "stdout",
     "output_type": "stream",
     "text": [
      "{'myImageDataset': <oab.data.classification_dataset.ClassificationDataset object at 0x7f8fd4eeb510>, 'mnist': <oab.data.classification_dataset.ClassificationDataset object at 0x7f8fbbc54950>}\n"
     ]
    }
   ],
   "source": [
    "#ID 10(2)\n",
    "print(datasets)"
   ]
  },
  {
   "cell_type": "markdown",
   "id": "7ad12196",
   "metadata": {
    "id": "7ad12196"
   },
   "source": [
    "# **3. PREPROCESSING**"
   ]
  },
  {
   "cell_type": "markdown",
   "id": "x-q3roMEtFfJ",
   "metadata": {
    "id": "x-q3roMEtFfJ"
   },
   "source": [
    "The  resizing of images(only when dataset is downloaded using URL) and scaling of images has already been performed while loading the datasets as shown in previous the Sections."
   ]
  },
  {
   "cell_type": "markdown",
   "id": "Balwbv2ANnT-",
   "metadata": {
    "id": "Balwbv2ANnT-"
   },
   "source": [
    "Standard preprocessing steps like deleting columns, encoding categorical values differently, or removing missing values do not apply to image data. Therefore, these methods (as well as own preprocessing steps and how these are captured) are covered in the tabular dataset benchmarks.\n",
    "\n",
    "Here, we only show two preprocessing steps that are applied to datasets stored in `datasets` dictionary(loaded in 2.2), which can also be performed individually depending upon requirement :\n",
    "- `Scale` all values by `1/255`.\n",
    "- `Transform the dataset into an anomaly dataset` for unsupervised anomaly detection by setting the class label `0` to normal and all other class labels to anomalous."
   ]
  },
  {
   "cell_type": "code",
   "execution_count": 12,
   "id": "FhPX8wPfNmwF",
   "metadata": {
    "id": "FhPX8wPfNmwF"
   },
   "outputs": [],
   "source": [
    "#ID 11(3)                            SCALING APPLIED\n",
    "\n",
    "                                         \n",
    "for dataset_name in datasets:\n",
    "    \n",
    "    datasets[dataset_name].scale(scaling_factor=1/255)\n",
    "    operations=datasets[dataset_name].operations_performed\n",
    "    #NEW RECIPE CREATED\n",
    "    datasets[dataset_name].write_operations_to_yaml(f\"{new_recipe_path}-[{dataset_name}]-dataset-recipe.yaml\")\n",
    "#print(\"Scaling performed on datasets!\")    \n",
    "#print(datasets)"
   ]
  },
  {
   "cell_type": "markdown",
   "id": "IZUpLqmtsyGc",
   "metadata": {
    "id": "IZUpLqmtsyGc"
   },
   "source": [
    "The individual recipe files now contains information about how to preprocess(i.e. perform scaling) the datasets"
   ]
  },
  {
   "cell_type": "code",
   "execution_count": 13,
   "id": "DWm4l0mUstgE",
   "metadata": {
    "id": "DWm4l0mUstgE",
    "outputId": "5519f8cf-7f05-4a88-8c53-75382ee30475"
   },
   "outputs": [
    {
     "name": "stdout",
     "output_type": "stream",
     "text": [
      "1.Paper_A/20211223120704-usi/20211223120704-Paper_A-[myImageDataset]-dataset-recipe.yaml\n",
      "\n",
      "standard_functions:\n",
      "- name: scale\n",
      "  parameters:\n",
      "    scaling_factor: 0.00392156862745098\n",
      "2.Paper_A/20211223120704-usi/20211223120704-Paper_A-[mnist]-dataset-recipe.yaml\n",
      "\n",
      "standard_functions:\n",
      "- name: scale\n",
      "  parameters:\n",
      "    scaling_factor: 0.00392156862745098\n"
     ]
    }
   ],
   "source": [
    "#ID 12(3)\n",
    "\n",
    "\n",
    "for (i,dataset_name) in enumerate(datasets):\n",
    "    print(f\"{i+1}.{new_recipe_path}-[{dataset_name}]-dataset-recipe.yaml\\n\")\n",
    "    !cat {new_recipe_path}-[{dataset_name}]-dataset-recipe.yaml"
   ]
  },
  {
   "cell_type": "code",
   "execution_count": 14,
   "id": "ZSTGiI5Qsi6e",
   "metadata": {
    "id": "ZSTGiI5Qsi6e"
   },
   "outputs": [
    {
     "name": "stdout",
     "output_type": "stream",
     "text": [
      "datasets after adding anomaly-conversion datasets: \n",
      "{'myImageDataset': <oab.data.unsupervised.UnsupervisedAnomalyDataset object at 0x7f90780e4810>, 'mnist': <oab.data.unsupervised.UnsupervisedAnomalyDataset object at 0x7f8fbbf34e50>}\n"
     ]
    }
   ],
   "source": [
    "#ID 13(3)                            ANOMALY-DATASET CONVERSION PERFORMED\n",
    " \n",
    "\n",
    "datasets_ad={}    \n",
    "    # for storing dataset objects converted to anomaly-dataset\n",
    "for dataset_name in datasets:   \n",
    "     datasets_ad[dataset_name]= UnsupervisedAnomalyDataset(classification_dataset=datasets[dataset_name],\n",
    "                                                       normal_labels=0,\n",
    "                                                       yamlpath_append=f\"{new_recipe_path}-[{dataset_name}]-dataset-recipe.yaml\")   \n",
    "     \n",
    "        \n",
    "                                                                            \n",
    "print(\"datasets after adding anomaly-conversion datasets: \")    \n",
    "print(datasets_ad)"
   ]
  },
  {
   "cell_type": "code",
   "execution_count": 15,
   "id": "4HSf5lCJczbu",
   "metadata": {
    "colab": {
     "base_uri": "https://localhost:8080/"
    },
    "id": "4HSf5lCJczbu",
    "outputId": "8573e270-eb3c-4c2e-e399-084b104a21b9"
   },
   "outputs": [
    {
     "name": "stdout",
     "output_type": "stream",
     "text": [
      "1.Paper_A/20211223120704-usi/20211223120704-Paper_A-[myImageDataset]-dataset-recipe.yaml\n",
      "\n",
      "standard_functions:\n",
      "- name: scale\n",
      "  parameters:\n",
      "    scaling_factor: 0.00392156862745098\n",
      "anomaly_dataset:\n",
      "  arguments:\n",
      "    normal_labels: 0\n",
      "    anomaly_labels:\n",
      "2.Paper_A/20211223120704-usi/20211223120704-Paper_A-[mnist]-dataset-recipe.yaml\n",
      "\n",
      "standard_functions:\n",
      "- name: scale\n",
      "  parameters:\n",
      "    scaling_factor: 0.00392156862745098\n",
      "anomaly_dataset:\n",
      "  arguments:\n",
      "    normal_labels: 0\n",
      "    anomaly_labels:\n"
     ]
    }
   ],
   "source": [
    "#ID 14(3)\n",
    "\n",
    "for (i,dataset_name) in enumerate(datasets):\n",
    "    print(f\"{i+1}.{new_recipe_path}-[{dataset_name}]-dataset-recipe.yaml\\n\")\n",
    "    !cat {new_recipe_path}-[{dataset_name}]-dataset-recipe.yaml"
   ]
  },
  {
   "cell_type": "markdown",
   "id": "4f600e5a",
   "metadata": {
    "id": "4f600e5a"
   },
   "source": [
    "# **4. SAMPLING**"
   ]
  },
  {
   "cell_type": "markdown",
   "id": "f817a6ab",
   "metadata": {
    "id": "f817a6ab"
   },
   "source": [
    "Here, we define the sampling parameters to sample from the datasets"
   ]
  },
  {
   "cell_type": "code",
   "execution_count": 16,
   "id": "6bae62b9",
   "metadata": {
    "id": "6bae62b9"
   },
   "outputs": [],
   "source": [
    "#ID 15(4)\n",
    "\n",
    "\n",
    "### ADD YOUR OWN SAMPLING PARAMETERS ###\n",
    "\n",
    "# sampling parameters\n",
    "\n",
    "n=25                              #Number of data points to sample                    \n",
    "contamination_rate = 0.5         #Contamination rate when sampling, defaults to 0.05\n",
    "n_steps = 1        # n_steps=10  #Number of samples to take, i.e., number of times sampling is repeated, defaults to 10   \n",
    "\n",
    "#These below are the possible sampling types to sample from datasets\n",
    "sampling_types=['unsupervised_multiple','unsupervised_single','unsupervised_multiple_benchmark']\n",
    "\n",
    "\n",
    "sampling_type='unsupervised_multiple'  #by default for this run\n",
    "\n",
    "sampling_params={'n':n,'contamination_rate':contamination_rate,'n_steps':n_steps,'flatten_images':False}\n",
    "\n"
   ]
  },
  {
   "cell_type": "markdown",
   "id": "ZpZe-6r6tdIl",
   "metadata": {
    "id": "ZpZe-6r6tdIl"
   },
   "source": [
    "The above sampling parameters are utilized in\n",
    "<b>#ID 23(5)</b> \n",
    "for sampling the datasets(except the pre-installed mv_tec_ad_datasets) before training the algorithms."
   ]
  },
  {
   "cell_type": "code",
   "execution_count": 17,
   "id": "3a49db16",
   "metadata": {},
   "outputs": [
    {
     "name": "stdout",
     "output_type": "stream",
     "text": [
      "{'myImageDataset': <oab.data.unsupervised.UnsupervisedAnomalyDataset object at 0x7f90780e4810>, 'mnist': <oab.data.unsupervised.UnsupervisedAnomalyDataset object at 0x7f8fbbf34e50>}\n"
     ]
    }
   ],
   "source": [
    "#ID 16(4)\n",
    "\n",
    "benchmarking_datasets={}\n",
    "\n",
    "for (x,y) in datasets_ad.items():\n",
    "    benchmarking_datasets[x]=y\n",
    "\n",
    "print(benchmarking_datasets)      "
   ]
  },
  {
   "cell_type": "markdown",
   "id": "e248c3ad",
   "metadata": {},
   "source": [
    "The above dictionary <b>benchmarking_datasets</b> will be used for the Benchmarking as it contains all the information:\"\n",
    "    \n",
    "    \n",
    "    1.dataset_name\n",
    "    2.final_dataset_object(preprocessed and anomaly-converted)"
   ]
  },
  {
   "cell_type": "markdown",
   "id": "babd1b0f",
   "metadata": {
    "id": "babd1b0f"
   },
   "source": [
    "\n",
    "\n",
    "# **5. ALGORITHM TRAINING AND TESTING**"
   ]
  },
  {
   "cell_type": "markdown",
   "id": "6d7baa91",
   "metadata": {},
   "source": [
    "<b>To load own algorithm(s), refer to #ID 30(9) and #ID 31(9)</b> where an example algorithm is loaded, then \n",
    "\n",
    "come back to this cell  and <b>load own algorithm(s) details in #ID 17(5),#ID 18(5) AND #ID 19(5)</b> in the same way as benchmark algorithms."
   ]
  },
  {
   "cell_type": "markdown",
   "id": "tjmqC3lBaMwX",
   "metadata": {
    "id": "tjmqC3lBaMwX"
   },
   "source": [
    "We first download and import algorithms used for anomaly decection."
   ]
  },
  {
   "cell_type": "code",
   "execution_count": 18,
   "id": "OZFq2XBfaMRN",
   "metadata": {
    "collapsed": true,
    "id": "OZFq2XBfaMRN"
   },
   "outputs": [
    {
     "name": "stdout",
     "output_type": "stream",
     "text": [
      "100% [............................................................] 1930 / 1930"
     ]
    },
    {
     "data": {
      "text/plain": [
       "'cae_KNN (2).py'"
      ]
     },
     "execution_count": 18,
     "metadata": {},
     "output_type": "execute_result"
    }
   ],
   "source": [
    "#ID 17(5)\n",
    "\n",
    "import wget\n",
    "\n",
    "import wget\n",
    "\n",
    "wget.download('https://raw.githubusercontent.com/ISDM-CAU-Kiel/oab/master/notebooks/benchmark_image/cae_ABOD.py', \"cae_ABOD.py\")\n",
    "wget.download('https://raw.githubusercontent.com/ISDM-CAU-Kiel/oab/master/notebooks/benchmark_image/cae_iforest.py', \"cae_iforest.py\")\n",
    "wget.download('https://raw.githubusercontent.com/ISDM-CAU-Kiel/oab/master/notebooks/benchmark_image/conv_ae.py', \"conv_ae.py\")\n",
    "wget.download('https://raw.githubusercontent.com/ISDM-CAU-Kiel/oab/master/notebooks/benchmark_image/cae_LOF.py', \"cae_LOF.py\")\n",
    "wget.download('https://raw.githubusercontent.com/ISDM-CAU-Kiel/oab/master/notebooks/benchmark_image/cae_KNN.py', \"cae_KNN.py\")\n",
    "### ADD your algo import(s) below ###\n"
   ]
  },
  {
   "cell_type": "code",
   "execution_count": 19,
   "id": "NmVNOM7Uak1i",
   "metadata": {
    "id": "NmVNOM7Uak1i"
   },
   "outputs": [],
   "source": [
    "#ID 18(5)\n",
    "\n",
    "\n",
    "\n",
    "### ADD your algo import(s) below ###\n",
    "\n",
    "#from module_name import class_name\n",
    "\n",
    "# load all algorithms\n",
    "from conv_ae import ConvAutoEncoder\n",
    "from cae_ABOD import CAEABOD\n",
    "from cae_KNN import CAEKNN\n",
    "from cae_LOF import CAELOF\n",
    "from cae_iforest import CAEIForest\n"
   ]
  },
  {
   "cell_type": "markdown",
   "id": "637590bb",
   "metadata": {
    "id": "637590bb"
   },
   "source": [
    "Firstly, we define hyperparameters for all algorithms and choose for benchmarking:"
   ]
  },
  {
   "cell_type": "code",
   "execution_count": 20,
   "id": "eef70b70",
   "metadata": {},
   "outputs": [],
   "source": [
    "#ID 19(5)\n",
    "\n",
    "   \n",
    "\n",
    "\n",
    "### ADD YOUR OWN (HYPER)PARAMETERS AND THEIR VALUES FOR PRE-INSTALLED ALGOS###\n",
    "\n",
    "# CAE+KNN\n",
    "knn_factor = 0.05\n",
    "knn_minimum = 10\n",
    "\n",
    "\n",
    "# CAE+LOF\n",
    "lof_factor = 0.1\n",
    "lof_minimum = 10\n",
    "\n",
    "# CAE+ABOD\n",
    "abod_factor = 0.01\n",
    "abod_minimum = 10\n",
    "\n",
    "\n",
    "\n",
    "lst_benchmark_algorithms =[\n",
    "   \n",
    "      {   \n",
    "       \"algo_module_name\": \"cae_ABOD\" , \n",
    "       \"algo_class_name\": \"CAEABOD\",\n",
    "       \"algo_name_in_result_table\": \"CAE v3\",\n",
    "       \"algo_parameters\": {\"CAE_parameters\": {'latent_dim': 100, 'epochs': 50, 'verbose': 0},\n",
    "                           \"ABOD_parameters\": {'n_neighbors':{'abod_factor':0.1 ,'abod_minimum':10 }}}, \n",
    "       \"fit\": {'method_name': 'fit', 'params': {}}, \n",
    "       \"decision_scores\": {'field_name': 'decision_scores_'}\n",
    "    } \n",
    "    \n",
    "]\n",
    "'''\n",
    " ### uncomment to use these algos  for benchmarking\n",
    " ,  \n",
    " \n",
    " {\n",
    "       \"algo_module_name\": \"conv_ae\"   ,\n",
    "       \"algo_class_name\": \"ConvAutoEncoder\",\n",
    "       \"algo_name_in_result_table\": \"CAE v1\",\n",
    "       \"algo_parameters\":   {'latent_dim': 100, 'epochs': 50, 'verbose': 0},\n",
    "        \"fit\": {'method_name': 'fit', 'params': {}}, \n",
    "       \"decision_scores\": {'field_name': 'decision_scores_'}\n",
    "       } \n",
    " ,\n",
    "{   \n",
    "       \"algo_module_name\": \"cae_LOF\" , \n",
    "       \"algo_class_name\": \"CAELOF\",\n",
    "       \"algo_name_in_result_table\": \"CAE v5\",\n",
    "       \"algo_parameters\": {\"CAE_parameters\": {'latent_dim': 100, 'epochs': 50, 'verbose': 0},\n",
    "                           \"LOF_parameters\": {'n_neighbors': {'lof_factor':0.1 ,'lof_minimum':10 }}},\n",
    "       \"fit\": {'method_name': 'fit', 'params': {}}, \n",
    "       \"decision_scores\": {'field_name': 'decision_scores_'}\n",
    "    }\n",
    "\n",
    " \n",
    "    ,\n",
    "\n",
    "    {   \n",
    "       \"algo_module_name\": \"cae_KNN\" , \n",
    "       \"algo_class_name\": \"CAEKNN\",\n",
    "       \"algo_name_in_result_table\": \"CAE v4\",\n",
    "       \"algo_parameters\": {\"CAE_parameters\": {'latent_dim': 100, 'epochs': 50, 'verbose': 0},\n",
    "                           \"KNN_parameters\": {'n_neighbors': {'knn_factor':0.05 ,'knn_minimum':10 }}},\n",
    "       \"fit\": {'method_name': 'fit', 'params': {}}, \n",
    "       \"decision_scores\": {'field_name': 'decision_scores_'}\n",
    "    },\n",
    "     {\n",
    "       \"algo_module_name\": \"cae_iforest\",   \n",
    "       \"algo_class_name\": \"CAEIForest\",\n",
    "       \"algo_name_in_result_table\": \"CAE v2\",\n",
    "       \"algo_parameters\": {\"CAE_parameters\": {'latent_dim': 100, 'epochs': 50, 'verbose': 0}, \"IForest_parameters\": {'random_state': 42} },\n",
    "        \"fit\": {'method_name': 'fit', 'params': {}}, \n",
    "        \"decision_scores\": {'field_name': 'decision_scores_'}\n",
    "        }\n",
    "    \n",
    "    \n",
    "]    \n",
    "'''    \n",
    "\n",
    "### ADD OWN ALGORITHMS NAME(S) with algorithm specifications as shown above for OAB algorithms ###   \n",
    "\n",
    "own_algorithms=[]   #add to this list e.g. { \"algo_module_name\": \"own_algo\" , \"algo_class_name\": \"ownAlgoClass\",..........\"decision_scores\": 'decision_scores_'} \n",
    "\n",
    "lst_benchmark_algorithms.extend(own_algorithms)\n",
    "recipe_datasets={}\n",
    "\n",
    "#seed defined for ths benchmark run for obtaining consistent results \n",
    "seed=42\n"
   ]
  },
  {
   "cell_type": "markdown",
   "id": "00de5187",
   "metadata": {},
   "source": [
    "<b>LOAD YOUR RECIPE FOLDER CONTAINING ALL RECIPES</b> to be repdroduced and use it in the current benchmark run."
   ]
  },
  {
   "cell_type": "code",
   "execution_count": 21,
   "id": "38327e77",
   "metadata": {
    "scrolled": true
   },
   "outputs": [
    {
     "name": "stdout",
     "output_type": "stream",
     "text": [
      "1.20211222162118-Paper_B-[myImageDataset2]-dataset-recipe.yaml\n",
      "\n",
      "standard_functions:\n",
      "- name: scale\n",
      "  parameters:\n",
      "    scaling_factor: 0.00392156862745098\n",
      "anomaly_dataset:\n",
      "  arguments:\n",
      "    normal_labels: 0\n",
      "    anomaly_labels:\n",
      "seed: 42\n",
      "sampling:\n",
      "  unsupervised_multiple:\n",
      "    n: 25\n",
      "    n_steps: 1\n",
      "    contamination_rate: 0.5\n",
      "    shuffle: true\n",
      "    random_seed: 42\n",
      "    apply_random_seed: true\n",
      "    keep_frequency_ratio_normals: false\n",
      "    equal_frequency_normals: false\n",
      "    keep_frequency_ratio_anomalies: false\n",
      "    equal_frequency_anomalies: false\n",
      "    include_description: true\n",
      "    flatten_images: false\n",
      "\n",
      "\n",
      "2.20211222162118-Paper_B-[mvtec_ad_transistor]-dataset-recipe.yaml\n",
      "\n",
      "standard_functions:\n",
      "- name: scale\n",
      "  parameters:\n",
      "    scaling_factor: 0.00392156862745098\n",
      "anomaly_dataset:\n",
      "  arguments:\n",
      "    normal_labels: 0\n",
      "    anomaly_labels:\n",
      "seed: 42\n",
      "sampling:\n",
      "  unsupervised_multiple:\n",
      "    n: 25\n",
      "    n_steps: 1\n",
      "    contamination_rate: 0.5\n",
      "    shuffle: true\n",
      "    random_seed: 42\n",
      "    apply_random_seed: true\n",
      "    keep_frequency_ratio_normals: false\n",
      "    equal_frequency_normals: false\n",
      "    keep_frequency_ratio_anomalies: false\n",
      "    equal_frequency_anomalies: false\n",
      "    include_description: true\n",
      "    flatten_images: false\n",
      "\n",
      "\n",
      "3.20211222162118-Paper_B-[cae_LOF][CAELOF]-algo-recipe.yaml\n",
      "\n",
      "decision_scores:\n",
      "  field_name: decision_scores_\n",
      "fit:\n",
      "  method_name: fit\n",
      "  params: {}\n",
      "init:\n",
      "  params:\n",
      "    CAE_parameters:\n",
      "      epochs: 50\n",
      "      latent_dim: 100\n",
      "      verbose: 0\n",
      "    LOF_parameters:\n",
      "      n_neighbors: \n",
      "        lof_factor: 0.1\n",
      "        lof_minimum: 10      \n",
      "\n",
      "seed: 42\n",
      "\n",
      "\n"
     ]
    }
   ],
   "source": [
    "#ID 20(5)        # Execute this cell only when you already have a recipe folder  to load from \n",
    "\n",
    "### ADD AN OPTIONAL RECIPE FOLDER CONTAINING ALL DATASETS AND ALGOS RECIPES PATH TO ADD TO THIS BENCHMARK RUN START ###   \n",
    "\n",
    "# Note: recipe folders of benchmarking type \"unsupervised image(ssi) \" i.e. of the format: \n",
    "#               \"timestamp-usi\"\n",
    "# can only be used for benchmarking in this notebook.\n",
    "\n",
    "recipes_folder= \"Paper_B/20211222162118-usi\" \n",
    "\n",
    "### ADD AN OPTIONAL RECIPE FOLDER CONATAINING ALL DATASETS AND ALGOS RECIPES PATH TO ADD TO THIS BENCHMARK RUN END ###   \n",
    " \n",
    "    \n",
    "    \n",
    "### UNCOMMENT ONLY IF NO NEW DATASETS WERE ADDED IN THE BENCHMARK EXCEPT FROM RECIPE FOLDER START ###     \n",
    "\n",
    "#benchmarking_datasets={}\n",
    "#lst_benchmark_algorithms=[]\n",
    "\n",
    "### UNCOMMENT ONLY IF NO NEW DATASETS WERE ADDED IN THE BENCHMARK EXCEPT FROM RECIPE FOLDER END ###  \n",
    "\n",
    "for i,file in enumerate(os.listdir(recipes_folder)):\n",
    "    print(f\"{i+1}.{file}\\n\")\n",
    "    !cat {recipes_folder}/{file}\n",
    "    print(\"\\n\")"
   ]
  },
  {
   "cell_type": "code",
   "execution_count": 22,
   "id": "28253b28",
   "metadata": {},
   "outputs": [
    {
     "name": "stdout",
     "output_type": "stream",
     "text": [
      "\n",
      "myImageDataset2-----\n",
      "\n",
      "preprocessing performed!!\n",
      "anomaly-dataset transformation performed!!\n",
      "\n",
      "mvtec_ad_transistor-----\n",
      "\n",
      "preprocessing performed!!\n",
      "anomaly-dataset transformation performed!!\n",
      "\n",
      "cae_LOF----\n",
      "\n"
     ]
    }
   ],
   "source": [
    "#ID 21(5)    # Execute this cell only when you already have a recipe fOlder  to load from \n",
    "\n",
    "recipe_datasets,recipe_algos,seed=data_from_multiple_recipes(recipes_folder,new_recipe_path) # get information of all datasets and algos from the files in the recipes_folder \n",
    "\n",
    "# adding recipe_datasets to benchmarking_datasets\n",
    "for dataset_name in recipe_datasets:\n",
    "    benchmarking_datasets[dataset_name]=recipe_datasets[dataset_name][0]\n",
    "#print(f\"benchmarking_datasets: {benchmarking_datasets}\") \n",
    "                                         \n",
    "#adding algos from recipe_algos to lst_benchmarking_algos\n",
    "for algo in recipe_algos:\n",
    "    if algo not in lst_benchmark_algorithms:\n",
    "     lst_benchmark_algorithms.append(algo)\n",
    "    \n",
    "#print(lst_benchmark_algorithms)   "
   ]
  },
  {
   "cell_type": "code",
   "execution_count": 23,
   "id": "4ef08908",
   "metadata": {
    "id": "4ef08908",
    "outputId": "55a09390-24c1-47e1-bab9-37a84891604e"
   },
   "outputs": [
    {
     "name": "stdout",
     "output_type": "stream",
     "text": [
      "\n",
      "All Datasets for this benchmark run:\n",
      "myImageDataset\n",
      "mnist\n",
      "myImageDataset2\n",
      "mvtec_ad_transistor\n",
      "\n",
      "All algos for this benchmark run:\n",
      "cae_ABOD\n",
      "cae_LOF\n"
     ]
    }
   ],
   "source": [
    "#ID 22(5)\n",
    "\n",
    "  \n",
    "print(\"\\nAll Datasets for this benchmark run:\")    \n",
    "for dataset_name in benchmarking_datasets:\n",
    "    print(dataset_name)\n",
    "\n",
    "    \n",
    " \n",
    "print(\"\\nAll algos for this benchmark run:\")\n",
    "for algo in lst_benchmark_algorithms:\n",
    "    #print(algo)\n",
    "    print(algo['algo_module_name'])\n",
    "\n"
   ]
  },
  {
   "cell_type": "markdown",
   "id": "1eb76fd8",
   "metadata": {
    "id": "1eb76fd8"
   },
   "source": [
    "Now, For every benchmark dataset , we sample from that dataset to train the algorithms and then predict the outcomes for each dataset with each algortihm and then store results in a evaluation object, which is then added to the comparison object to show the final Benchmarking results"
   ]
  },
  {
   "cell_type": "code",
   "execution_count": 25,
   "id": "0763aeb2",
   "metadata": {
    "colab": {
     "base_uri": "https://localhost:8080/"
    },
    "id": "0763aeb2",
    "outputId": "5b15015f-6bb6-4d74-f7ea-5ba4e7082c91"
   },
   "outputs": [
    {
     "name": "stdout",
     "output_type": "stream",
     "text": [
      "-------myImageDataset-------\n",
      "------cae_ABOD\n",
      ".Evaluation on dataset mvtec_ad_myImageDataset with normal labels [0] and anomaly labels [1.0].\n",
      "Total of 1 datasets. Per dataset:\n",
      "25 instances, contamination_rate 0.5.\n",
      "Mean \t Std_dev \t Metric\n",
      "0.282 \t 0.000 \t\t roc_auc\n",
      "-0.205 \t 0.000 \t\t adjusted_average_precision\n",
      "0.387 \t 0.000 \t\t precision_recall_auc\n",
      "\n",
      "\n",
      "------cae_LOF\n",
      ".Evaluation on dataset mvtec_ad_myImageDataset with normal labels [0] and anomaly labels [1.0].\n",
      "Total of 1 datasets. Per dataset:\n",
      "25 instances, contamination_rate 0.5.\n",
      "Mean \t Std_dev \t Metric\n",
      "0.442 \t 0.000 \t\t roc_auc\n",
      "-0.029 \t 0.000 \t\t adjusted_average_precision\n",
      "0.463 \t 0.000 \t\t precision_recall_auc\n",
      "\n",
      "\n",
      "-------mnist-------\n",
      "------cae_ABOD\n",
      ".Evaluation on dataset mnist with normal labels [0] and anomaly labels [1, 2, 3, 4, 5, 6, 7, 8, 9].\n",
      "Total of 1 datasets. Per dataset:\n",
      "25 instances, contamination_rate 0.5.\n",
      "Mean \t Std_dev \t Metric\n",
      "0.673 \t 0.000 \t\t roc_auc\n",
      "0.329 \t 0.000 \t\t adjusted_average_precision\n",
      "0.661 \t 0.000 \t\t precision_recall_auc\n",
      "\n",
      "\n",
      "------cae_LOF\n",
      ".Evaluation on dataset mnist with normal labels [0] and anomaly labels [1, 2, 3, 4, 5, 6, 7, 8, 9].\n",
      "Total of 1 datasets. Per dataset:\n",
      "25 instances, contamination_rate 0.5.\n",
      "Mean \t Std_dev \t Metric\n",
      "0.526 \t 0.000 \t\t roc_auc\n",
      "0.130 \t 0.000 \t\t adjusted_average_precision\n",
      "0.558 \t 0.000 \t\t precision_recall_auc\n",
      "\n",
      "\n",
      "-------myImageDataset2-------\n",
      "------cae_ABOD\n",
      ".WARNING:tensorflow:5 out of the last 5 calls to <function Model.make_predict_function.<locals>.predict_function at 0x7f8f8f2c9a70> triggered tf.function retracing. Tracing is expensive and the excessive number of tracings could be due to (1) creating @tf.function repeatedly in a loop, (2) passing tensors with different shapes, (3) passing Python objects instead of tensors. For (1), please define your @tf.function outside of the loop. For (2), @tf.function has experimental_relax_shapes=True option that relaxes argument shapes that can avoid unnecessary retracing. For (3), please refer to https://www.tensorflow.org/guide/function#controlling_retracing and https://www.tensorflow.org/api_docs/python/tf/function for  more details.\n",
      "Evaluation on dataset mvtec_ad_myImageDataset2 with normal labels [0] and anomaly labels [1.0].\n",
      "Total of 1 datasets. Per dataset:\n",
      "25 instances, contamination_rate 0.5.\n",
      "Mean \t Std_dev \t Metric\n",
      "0.404 \t 0.000 \t\t roc_auc\n",
      "-0.076 \t 0.000 \t\t adjusted_average_precision\n",
      "0.447 \t 0.000 \t\t precision_recall_auc\n",
      "\n",
      "\n",
      "------cae_LOF\n",
      ".WARNING:tensorflow:6 out of the last 6 calls to <function Model.make_predict_function.<locals>.predict_function at 0x7f8f57e6a8c0> triggered tf.function retracing. Tracing is expensive and the excessive number of tracings could be due to (1) creating @tf.function repeatedly in a loop, (2) passing tensors with different shapes, (3) passing Python objects instead of tensors. For (1), please define your @tf.function outside of the loop. For (2), @tf.function has experimental_relax_shapes=True option that relaxes argument shapes that can avoid unnecessary retracing. For (3), please refer to https://www.tensorflow.org/guide/function#controlling_retracing and https://www.tensorflow.org/api_docs/python/tf/function for  more details.\n",
      "Evaluation on dataset mvtec_ad_myImageDataset2 with normal labels [0] and anomaly labels [1.0].\n",
      "Total of 1 datasets. Per dataset:\n",
      "25 instances, contamination_rate 0.5.\n",
      "Mean \t Std_dev \t Metric\n",
      "0.397 \t 0.000 \t\t roc_auc\n",
      "-0.073 \t 0.000 \t\t adjusted_average_precision\n",
      "0.448 \t 0.000 \t\t precision_recall_auc\n",
      "\n",
      "\n",
      "-------mvtec_ad_transistor-------\n",
      "------cae_ABOD\n",
      ".WARNING:tensorflow:7 out of the last 7 calls to <function Model.make_predict_function.<locals>.predict_function at 0x7f8f59e35680> triggered tf.function retracing. Tracing is expensive and the excessive number of tracings could be due to (1) creating @tf.function repeatedly in a loop, (2) passing tensors with different shapes, (3) passing Python objects instead of tensors. For (1), please define your @tf.function outside of the loop. For (2), @tf.function has experimental_relax_shapes=True option that relaxes argument shapes that can avoid unnecessary retracing. For (3), please refer to https://www.tensorflow.org/guide/function#controlling_retracing and https://www.tensorflow.org/api_docs/python/tf/function for  more details.\n",
      "Evaluation on dataset mvtec_ad_transistor with normal labels [0] and anomaly labels [1.0].\n",
      "Total of 1 datasets. Per dataset:\n",
      "25 instances, contamination_rate 0.5.\n",
      "Mean \t Std_dev \t Metric\n",
      "0.532 \t 0.000 \t\t roc_auc\n",
      "0.303 \t 0.000 \t\t adjusted_average_precision\n",
      "0.652 \t 0.000 \t\t precision_recall_auc\n",
      "\n",
      "\n",
      "------cae_LOF\n",
      ".WARNING:tensorflow:8 out of the last 8 calls to <function Model.make_predict_function.<locals>.predict_function at 0x7f8f59c349e0> triggered tf.function retracing. Tracing is expensive and the excessive number of tracings could be due to (1) creating @tf.function repeatedly in a loop, (2) passing tensors with different shapes, (3) passing Python objects instead of tensors. For (1), please define your @tf.function outside of the loop. For (2), @tf.function has experimental_relax_shapes=True option that relaxes argument shapes that can avoid unnecessary retracing. For (3), please refer to https://www.tensorflow.org/guide/function#controlling_retracing and https://www.tensorflow.org/api_docs/python/tf/function for  more details.\n",
      "Evaluation on dataset mvtec_ad_transistor with normal labels [0] and anomaly labels [1.0].\n",
      "Total of 1 datasets. Per dataset:\n",
      "25 instances, contamination_rate 0.5.\n",
      "Mean \t Std_dev \t Metric\n",
      "0.519 \t 0.000 \t\t roc_auc\n",
      "0.279 \t 0.000 \t\t adjusted_average_precision\n",
      "0.640 \t 0.000 \t\t precision_recall_auc\n",
      "\n",
      "\n"
     ]
    }
   ],
   "source": [
    "#ID 23(5)                # RUNNING THE BENCHMARK\n",
    "co = ComparisonObject()\n",
    "for dataset_name in benchmarking_datasets:\n",
    "    print(f'-------{dataset_name}-------') \n",
    "    _append_to_yaml(f\"{new_recipe_path}-[{dataset_name}]-dataset-recipe.yaml\",'seed',seed)\n",
    "    #print(mvtec_ad_own_datasets_list)\n",
    "    for alg in lst_benchmark_algorithms:\n",
    "        name=alg[\"algo_module_name\"]\n",
    "        c_name=alg[\"algo_class_name\"]\n",
    "        print(f\"------{name}\")\n",
    "        eval_obj = EvaluationObject(algorithm_name=alg[\"algo_name_in_result_table\"])\n",
    "        \n",
    "        if dataset_name in recipe_datasets:\n",
    "            \n",
    "          for (x,y), sample_config in benchmarking_datasets[dataset_name].sample_from_yaml(recipe_datasets[dataset_name][1]):\n",
    "            print('.', end='') # update to see progress \n",
    "            w = UnsupervisedWrapperToRecipe()\n",
    "            torch.manual_seed(seed)\n",
    "            random.seed(seed)\n",
    "            tf.random.set_seed(seed)\n",
    "            np.random.seed(seed) \n",
    "            os.environ['PYTHONHASHSEED'] = str(seed)\n",
    "            torch.cuda.manual_seed(seed)\n",
    "            torch.cuda.manual_seed_all(seed)\n",
    "            torch.backends.cudnn.deterministic = True\n",
    "            torch.backends.cudnn.benchmark = False\n",
    "            torch.use_deterministic_algorithms(True)\n",
    "            #print(alg[\"algo_parameters\"])\n",
    "            algo_parameters=algo_params(alg,l=len(x))\n",
    "            #print(algo_parameters)\n",
    "            algo= getattr(__import__(alg[\"algo_module_name\"]),alg[\"algo_class_name\"]) # Algo object imported from class \n",
    "            algo_initialized=algo(**algo_parameters)\n",
    "            w.track_init(algo, params=alg[\"algo_parameters\"])\n",
    "            w.track_fit(x=x, obj=algo_initialized, params=alg['fit']['params'], fit_method=alg['fit']['method_name']) # the last parameter is the name of the method used for fitting\n",
    "            pred = w.track_decision_scores(algo_initialized,field_name=alg['decision_scores']['field_name']) # the last parameter is the field name used to store anomaly scores by the model\n",
    "            w.store_recipe(f\"{new_recipe_path}-[{name}][{c_name}]-algo-recipe.yaml\")\n",
    "            _append_to_yaml(f\"{new_recipe_path}-[{name}][{c_name}]-algo-recipe.yaml\",'seed',seed)\n",
    "            eval_obj.add(ground_truth=y, prediction=pred, description=sample_config) \n",
    "               \n",
    "        else:\n",
    "          \n",
    "          for (x,y), sample_config in sample_v2(dataset_name,sampling_type,sampling_params,new_recipe_path,benchmarking_datasets[dataset_name]):\n",
    "            print('.', end='') # update to see progress \n",
    "            w = UnsupervisedWrapperToRecipe()\n",
    "            torch.manual_seed(seed)\n",
    "            random.seed(seed)\n",
    "            tf.random.set_seed(seed)\n",
    "            np.random.seed(seed) \n",
    "            os.environ['PYTHONHASHSEED'] = str(seed)\n",
    "            torch.cuda.manual_seed(seed)\n",
    "            torch.cuda.manual_seed_all(seed)\n",
    "            torch.backends.cudnn.deterministic = True\n",
    "            torch.backends.cudnn.benchmark = False\n",
    "            torch.use_deterministic_algorithms(True)\n",
    "            #print(alg[\"algo_parameters\"])\n",
    "            algo_parameters=algo_params(alg,l=len(x))\n",
    "            \n",
    "            #print(algo_parameters)\n",
    "            algo= getattr(__import__(alg[\"algo_module_name\"]),alg[\"algo_class_name\"]) # Algo object imported from class \n",
    "            algo_initialized=algo(**algo_parameters)\n",
    "            \n",
    "            w.track_init(algo, params=alg[\"algo_parameters\"])\n",
    "            w.track_fit(x=x, obj=algo_initialized, params=alg['fit']['params'], fit_method=alg['fit']['method_name']) # the last parameter is the name of the method used for fitting\n",
    "            pred = w.track_decision_scores(algo_initialized,field_name=alg['decision_scores']['field_name']) # the last parameter is the field name used to store anomaly scores by the model\n",
    "            w.store_recipe(f\"{new_recipe_path}-[{name}][{c_name}]-algo-recipe.yaml\")\n",
    "            _append_to_yaml(f\"{new_recipe_path}-[{name}][{c_name}]-algo-recipe.yaml\",'seed',seed)\n",
    "            eval_obj.add(ground_truth=y, prediction=pred, description=sample_config) \n",
    "               \n",
    "            \n",
    "            \n",
    "        eval_desc = eval_obj.evaluate(print=True,metrics=['roc_auc', 'adjusted_average_precision', 'precision_recall_auc'])\n",
    "        co.add_evaluation(eval_desc)\n",
    "        print(\"\\n\")\n",
    "      "
   ]
  },
  {
   "cell_type": "markdown",
   "id": "501c585e",
   "metadata": {
    "id": "501c585e"
   },
   "source": [
    "# **6. EVALUATION**"
   ]
  },
  {
   "cell_type": "markdown",
   "id": "e57beebf",
   "metadata": {
    "id": "e57beebf"
   },
   "source": [
    "Here , we will see how different metrics can be selected when evaluating an algorithm's performance."
   ]
  },
  {
   "cell_type": "markdown",
   "id": "d05bc232",
   "metadata": {
    "id": "d05bc232"
   },
   "source": [
    "In previous section while creating an evalutation description,  we used all metrics for evaluation:\n",
    "\n",
    "     eval_desc = eval_obj.evaluate(print=False, metrics=all_metrics)\n",
    "    \n",
    "    "
   ]
  },
  {
   "cell_type": "code",
   "execution_count": 26,
   "id": "f97869e2",
   "metadata": {
    "id": "f97869e2"
   },
   "outputs": [
    {
     "name": "stdout",
     "output_type": "stream",
     "text": [
      "['roc_auc', 'average_precision', 'adjusted_average_precision', 'precision_n', 'adjusted_precision_n', 'precision_recall_auc']\n"
     ]
    }
   ],
   "source": [
    "#ID 24(6)\n",
    "\n",
    "# to use a subset, first see which ones are available\n",
    "\n",
    "print(all_metrics)"
   ]
  },
  {
   "cell_type": "code",
   "execution_count": 27,
   "id": "c32d570c",
   "metadata": {
    "id": "c32d570c"
   },
   "outputs": [],
   "source": [
    "#ID 25(6)\n",
    "\n",
    "#### ADD YOUR OWN NUMBER OF METRICS ###\n",
    "\n",
    "#Then we can  select an arbitrary subset\n",
    "metrics=['roc_auc', 'precision_recall_auc']"
   ]
  },
  {
   "cell_type": "markdown",
   "id": "39507d64",
   "metadata": {
    "id": "39507d64"
   },
   "source": [
    "# **7. SHOW BENCHMARK RESULTS**"
   ]
  },
  {
   "cell_type": "markdown",
   "id": "c97932df",
   "metadata": {
    "id": "c97932df"
   },
   "source": [
    "We compare by printing, the results of the evaluations of different Algo-Dataset combinations.\n",
    "\n",
    "\\[Latex version: bold for highest, italics for second highest, ?\\]"
   ]
  },
  {
   "cell_type": "code",
   "execution_count": 28,
   "id": "6e3a61a8",
   "metadata": {
    "id": "6e3a61a8"
   },
   "outputs": [
    {
     "name": "stdout",
     "output_type": "stream",
     "text": [
      "For roc_auc:\n",
      "         mvtec_ad_myImageDataset     mnist  mvtec_ad_myImageDataset2  \\\n",
      "CAE v3                  0.282051  0.673077                  0.403846   \n",
      "cae_LOF                 0.442308  0.525641                  0.397436   \n",
      "Average                 0.362179  0.599359                  0.400641   \n",
      "\n",
      "         mvtec_ad_transistor   Average  \n",
      "CAE v3              0.532051  0.472756  \n",
      "cae_LOF             0.519231  0.471154  \n",
      "Average             0.525641       NaN  \n",
      "For adjusted_average_precision:\n",
      "         mvtec_ad_myImageDataset     mnist  mvtec_ad_myImageDataset2  \\\n",
      "CAE v3                 -0.204803  0.328967                 -0.075947   \n",
      "cae_LOF                -0.029050  0.130423                 -0.073227   \n",
      "Average                -0.116927  0.229695                 -0.074587   \n",
      "\n",
      "         mvtec_ad_transistor   Average  \n",
      "CAE v3              0.302684  0.087725  \n",
      "cae_LOF             0.278510  0.076664  \n",
      "Average             0.290597       NaN  \n",
      "For precision_recall_auc:\n",
      "         mvtec_ad_myImageDataset     mnist  mvtec_ad_myImageDataset2  \\\n",
      "CAE v3                  0.387112  0.660640                  0.446506   \n",
      "cae_LOF                 0.463180  0.558325                  0.447794   \n",
      "Average                 0.425146  0.609483                  0.447150   \n",
      "\n",
      "         mvtec_ad_transistor   Average  \n",
      "CAE v3              0.652153  0.536603  \n",
      "cae_LOF             0.639843  0.527286  \n",
      "Average             0.645998       NaN  \n"
     ]
    }
   ],
   "source": [
    "#ID 26(7)\n",
    "\n",
    "# print results in easily readable format\n",
    "co.print_results()"
   ]
  },
  {
   "cell_type": "code",
   "execution_count": 29,
   "id": "6f3b0f46",
   "metadata": {
    "id": "6f3b0f46"
   },
   "outputs": [
    {
     "name": "stdout",
     "output_type": "stream",
     "text": [
      "For roc_auc:\n",
      "        mvtec_ad_myImageDataset         mnist mvtec_ad_myImageDataset2  \\\n",
      "CAE v3             0.282+-0.000  0.673+-0.000             0.404+-0.000   \n",
      "cae_LOF            0.442+-0.000  0.526+-0.000             0.397+-0.000   \n",
      "Average                   0.362         0.599                    0.401   \n",
      "\n",
      "        mvtec_ad_transistor   Average  \n",
      "CAE v3         0.532+-0.000  0.472756  \n",
      "cae_LOF        0.519+-0.000  0.471154  \n",
      "Average               0.526       NaN  \n",
      "\n",
      "For adjusted_average_precision:\n",
      "        mvtec_ad_myImageDataset         mnist mvtec_ad_myImageDataset2  \\\n",
      "CAE v3            -0.205+-0.000  0.329+-0.000            -0.076+-0.000   \n",
      "cae_LOF           -0.029+-0.000  0.130+-0.000            -0.073+-0.000   \n",
      "Average                  -0.117         0.230                   -0.075   \n",
      "\n",
      "        mvtec_ad_transistor   Average  \n",
      "CAE v3         0.303+-0.000  0.087725  \n",
      "cae_LOF        0.279+-0.000  0.076664  \n",
      "Average               0.291       NaN  \n",
      "\n",
      "For precision_recall_auc:\n",
      "        mvtec_ad_myImageDataset         mnist mvtec_ad_myImageDataset2  \\\n",
      "CAE v3             0.387+-0.000  0.661+-0.000             0.447+-0.000   \n",
      "cae_LOF            0.463+-0.000  0.558+-0.000             0.448+-0.000   \n",
      "Average                   0.425         0.609                    0.447   \n",
      "\n",
      "        mvtec_ad_transistor   Average  \n",
      "CAE v3         0.652+-0.000  0.536603  \n",
      "cae_LOF        0.640+-0.000  0.527286  \n",
      "Average               0.646       NaN  \n",
      "\n"
     ]
    }
   ],
   "source": [
    "#ID 27(7)\n",
    "\n",
    "# print results in easily readable format with standard deviations\n",
    "co.print_results(include_stdevs=True)"
   ]
  },
  {
   "cell_type": "code",
   "execution_count": 30,
   "id": "sZfxpO-5UPfp",
   "metadata": {
    "id": "sZfxpO-5UPfp"
   },
   "outputs": [
    {
     "name": "stdout",
     "output_type": "stream",
     "text": [
      "For roc_auc:\n",
      "\\begin{center}\n",
      "\\begin{tabular}{  c c c c c c  }\n",
      "  & mvtec\\_ad\\_myImageDataset & mnist & mvtec\\_ad\\_myImageDataset2 & mvtec\\_ad\\_transistor & Average \\\\\n",
      "  CAE v3 & \\textit{0.282$\\pm$0.000} & \\textbf{0.673$\\pm$0.000} & \\textbf{0.404$\\pm$0.000} & \\textbf{0.532$\\pm$0.000} & \\textbf{0.473} \\\\\n",
      "  cae\\_LOF & \\textbf{0.442$\\pm$0.000} & \\textit{0.526$\\pm$0.000} & \\textit{0.397$\\pm$0.000} & \\textit{0.519$\\pm$0.000} & \\textit{0.471} \\\\\n",
      "  Average & 0.362 & 0.599 & 0.401 & 0.526 &    \\\\\n",
      "\\end{tabular}\n",
      "\\end{center}\n",
      "\n",
      "For adjusted_average_precision:\n",
      "\\begin{center}\n",
      "\\begin{tabular}{  c c c c c c  }\n",
      "  & mvtec\\_ad\\_myImageDataset & mnist & mvtec\\_ad\\_myImageDataset2 & mvtec\\_ad\\_transistor & Average \\\\\n",
      "  CAE v3 & \\textit{-0.205$\\pm$0.000} & \\textbf{0.329$\\pm$0.000} & \\textit{-0.076$\\pm$0.000} & \\textbf{0.303$\\pm$0.000} & \\textbf{0.088} \\\\\n",
      "  cae\\_LOF & \\textbf{-0.029$\\pm$0.000} & \\textit{0.130$\\pm$0.000} & \\textbf{-0.073$\\pm$0.000} & \\textit{0.279$\\pm$0.000} & \\textit{0.077} \\\\\n",
      "  Average & -0.117 & 0.230 & -0.075 & 0.291 &    \\\\\n",
      "\\end{tabular}\n",
      "\\end{center}\n",
      "\n",
      "For precision_recall_auc:\n",
      "\\begin{center}\n",
      "\\begin{tabular}{  c c c c c c  }\n",
      "  & mvtec\\_ad\\_myImageDataset & mnist & mvtec\\_ad\\_myImageDataset2 & mvtec\\_ad\\_transistor & Average \\\\\n",
      "  CAE v3 & \\textit{0.387$\\pm$0.000} & \\textbf{0.661$\\pm$0.000} & \\textit{0.447$\\pm$0.000} & \\textbf{0.652$\\pm$0.000} & \\textbf{0.537} \\\\\n",
      "  cae\\_LOF & \\textbf{0.463$\\pm$0.000} & \\textit{0.558$\\pm$0.000} & \\textbf{0.448$\\pm$0.000} & \\textit{0.640$\\pm$0.000} & \\textit{0.527} \\\\\n",
      "  Average & 0.425 & 0.609 & 0.447 & 0.646 &    \\\\\n",
      "\\end{tabular}\n",
      "\\end{center}\n",
      "\n"
     ]
    }
   ],
   "source": [
    "# ID 28(7)\n",
    "\n",
    "co.print_latex(include_stdevs=True)"
   ]
  },
  {
   "cell_type": "markdown",
   "id": "1ZlXKXx64aAl",
   "metadata": {
    "id": "1ZlXKXx64aAl"
   },
   "source": [
    "# **8. REPRODUCIBILITY**"
   ]
  },
  {
   "cell_type": "markdown",
   "id": "7eBbV_ZNYiiC",
   "metadata": {
    "id": "7eBbV_ZNYiiC"
   },
   "source": [
    " ## **8.1 Creating recipes**"
   ]
  },
  {
   "cell_type": "markdown",
   "id": "zWTe3BI5Gfyz",
   "metadata": {
    "id": "zWTe3BI5Gfyz"
   },
   "source": [
    "This section shows **how `oab` can be used to make sampling results easily reproducible** .\n",
    " \n",
    "\n",
    "`yaml` files play an integral role in making reproducibility work, as they store the operations and parameters performed on the data."
   ]
  },
  {
   "cell_type": "markdown",
   "id": "dc4c0a73",
   "metadata": {
    "id": "dc4c0a73"
   },
   "source": [
    "We will see how to produce a recipe(.yaml) of the Benchmarkrun already performed  in <b>#ID 23(5)</b>"
   ]
  },
  {
   "cell_type": "markdown",
   "id": "e827f5fb",
   "metadata": {},
   "source": [
    "In <b>#ID 11(3) #ID 13(3) and #ID 23(5) </b>,  We already performed `creating_recipe` operations on </b>own datasets,OAB's datasets as well as input recipe's datasets and all algorithms of this benchmark run,we can see below  the structure of those recipes:\n"
   ]
  },
  {
   "cell_type": "code",
   "execution_count": 31,
   "id": "ff4c5cf3",
   "metadata": {},
   "outputs": [
    {
     "name": "stdout",
     "output_type": "stream",
     "text": [
      "1.20211223120704-Paper_A-[myImageDataset]-dataset-recipe.yaml\n",
      "\n",
      "standard_functions:\n",
      "- name: scale\n",
      "  parameters:\n",
      "    scaling_factor: 0.00392156862745098\n",
      "anomaly_dataset:\n",
      "  arguments:\n",
      "    normal_labels: 0\n",
      "    anomaly_labels:\n",
      "seed: 42\n",
      "sampling:\n",
      "  unsupervised_multiple:\n",
      "    n: 25\n",
      "    n_steps: 1\n",
      "    contamination_rate: 0.5\n",
      "    shuffle: true\n",
      "    random_seed: 42\n",
      "    apply_random_seed: true\n",
      "    keep_frequency_ratio_normals: false\n",
      "    equal_frequency_normals: false\n",
      "    keep_frequency_ratio_anomalies: false\n",
      "    equal_frequency_anomalies: false\n",
      "    include_description: true\n",
      "    flatten_images: false\n",
      "\n",
      "\n",
      "2.20211223120704-Paper_A-[myImageDataset2]-dataset-recipe.yaml\n",
      "\n",
      "standard_functions:\n",
      "- name: scale\n",
      "  parameters:\n",
      "    scaling_factor: 0.00392156862745098\n",
      "anomaly_dataset:\n",
      "  arguments:\n",
      "    normal_labels: 0\n",
      "    anomaly_labels:\n",
      "seed: 42\n",
      "sampling:\n",
      "  unsupervised_multiple:\n",
      "    n: 25\n",
      "    n_steps: 1\n",
      "    contamination_rate: 0.5\n",
      "    shuffle: true\n",
      "    random_seed: 42\n",
      "    apply_random_seed: true\n",
      "    keep_frequency_ratio_normals: false\n",
      "    equal_frequency_normals: false\n",
      "    keep_frequency_ratio_anomalies: false\n",
      "    equal_frequency_anomalies: false\n",
      "    include_description: true\n",
      "    flatten_images: false\n",
      "\n",
      "\n",
      "3.20211223120704-Paper_A-[mnist]-dataset-recipe.yaml\n",
      "\n",
      "standard_functions:\n",
      "- name: scale\n",
      "  parameters:\n",
      "    scaling_factor: 0.00392156862745098\n",
      "anomaly_dataset:\n",
      "  arguments:\n",
      "    normal_labels: 0\n",
      "    anomaly_labels:\n",
      "seed: 42\n",
      "sampling:\n",
      "  unsupervised_multiple:\n",
      "    n: 25\n",
      "    n_steps: 1\n",
      "    contamination_rate: 0.5\n",
      "    shuffle: true\n",
      "    random_seed: 42\n",
      "    apply_random_seed: true\n",
      "    keep_frequency_ratio_normals: false\n",
      "    equal_frequency_normals: false\n",
      "    keep_frequency_ratio_anomalies: false\n",
      "    equal_frequency_anomalies: false\n",
      "    include_description: true\n",
      "    flatten_images: false\n",
      "\n",
      "\n",
      "4.20211223120704-Paper_A-[cae_ABOD][CAEABOD]-algo-recipe.yaml\n",
      "\n",
      "decision_scores:\n",
      "  field_name: decision_scores_\n",
      "fit:\n",
      "  method_name: fit\n",
      "  params: {}\n",
      "init:\n",
      "  params:\n",
      "    ABOD_parameters:\n",
      "      n_neighbors:\n",
      "        abod_factor: 0.1\n",
      "        abod_minimum: 10\n",
      "    CAE_parameters:\n",
      "      epochs: 50\n",
      "      latent_dim: 100\n",
      "      verbose: 0\n",
      "seed: 42\n",
      "\n",
      "\n",
      "5.20211223120704-Paper_A-[mvtec_ad_transistor]-dataset-recipe.yaml\n",
      "\n",
      "standard_functions:\n",
      "- name: scale\n",
      "  parameters:\n",
      "    scaling_factor: 0.00392156862745098\n",
      "anomaly_dataset:\n",
      "  arguments:\n",
      "    normal_labels: 0\n",
      "    anomaly_labels:\n",
      "seed: 42\n",
      "sampling:\n",
      "  unsupervised_multiple:\n",
      "    n: 25\n",
      "    n_steps: 1\n",
      "    contamination_rate: 0.5\n",
      "    shuffle: true\n",
      "    random_seed: 42\n",
      "    apply_random_seed: true\n",
      "    keep_frequency_ratio_normals: false\n",
      "    equal_frequency_normals: false\n",
      "    keep_frequency_ratio_anomalies: false\n",
      "    equal_frequency_anomalies: false\n",
      "    include_description: true\n",
      "    flatten_images: false\n",
      "\n",
      "\n",
      "6.20211223120704-Paper_A-[cae_LOF][CAELOF]-algo-recipe.yaml\n",
      "\n",
      "decision_scores:\n",
      "  field_name: decision_scores_\n",
      "fit:\n",
      "  method_name: fit\n",
      "  params: {}\n",
      "init:\n",
      "  params:\n",
      "    CAE_parameters:\n",
      "      epochs: 50\n",
      "      latent_dim: 100\n",
      "      verbose: 0\n",
      "    LOF_parameters:\n",
      "      n_neighbors:\n",
      "        lof_factor: 0.1\n",
      "        lof_minimum: 10\n",
      "seed: 42\n",
      "\n",
      "\n"
     ]
    }
   ],
   "source": [
    "#ID 29(8)\n",
    "\n",
    "\n",
    "for i,file in enumerate(os.listdir(f\"{benchmark_name}/{time}-{benchmark_type}\")):\n",
    "    print(f\"{i+1}.{file}\\n\")\n",
    "    !cat {benchmark_name}/{time}-{benchmark_type}/{file}\n",
    "    print(\"\\n\")"
   ]
  },
  {
   "cell_type": "markdown",
   "id": "U7PSnotYJIr2",
   "metadata": {
    "id": "U7PSnotYJIr2"
   },
   "source": [
    "### 2. Reproducing the experiment"
   ]
  },
  {
   "cell_type": "markdown",
   "id": "71159158",
   "metadata": {
    "id": "6mlvBcfFGezU",
    "outputId": "d37a18ec-5285-46ad-b379-2147cb9d2c98",
    "scrolled": false
   },
   "source": [
    "To reproduce the recipes created in the previous section,\n",
    "we refer to <b>Section 5 #ID 20(5)</b> where we can reproduce the run as well as extend benchmarks!"
   ]
  },
  {
   "cell_type": "markdown",
   "id": "ieghRWumgNY9",
   "metadata": {
    "id": "ieghRWumgNY9"
   },
   "source": [
    "# **9. EXTEND EXISTING BENCHMARK(own algorithm)**"
   ]
  },
  {
   "cell_type": "markdown",
   "id": "i1HfN4e3PMn0",
   "metadata": {
    "id": "i1HfN4e3PMn0"
   },
   "source": [
    "To extend the existing benchmark here basically means to add  our own algorithm to the benchmark and to show the comparison results of pre-installed algorithms while also loading our own dataset.\n",
    "\n",
    "\n",
    "1. We load the datasets. To know how to do that, we can refer to  **Section \"1. Data\" and \"2. Data Selection\"**\n",
    "2. Then, load own algorithm as we will see in the next sub-section."
   ]
  },
  {
   "cell_type": "markdown",
   "id": "kAAV6vAOy9-k",
   "metadata": {
    "id": "kAAV6vAOy9-k"
   },
   "source": [
    "## **9.1 Loading own Algorithm**"
   ]
  },
  {
   "cell_type": "markdown",
   "id": "3cT1MEn7zSta",
   "metadata": {
    "id": "3cT1MEn7zSta"
   },
   "source": [
    "In this subsection, you will see **how an own unsupervised anomaly detection algorithm** can easily be used within oab to be evaluated. We will see how a class representing an algorithm can be structured and how its performance is evaluated.\n",
    "\n",
    "Of course, this is not the only way to use the functionality provided by oab. We do consider it to be the simplest way however."
   ]
  },
  {
   "cell_type": "code",
   "execution_count": 32,
   "id": "r7jxQhkcze5d",
   "metadata": {
    "colab": {
     "base_uri": "https://localhost:8080/"
    },
    "id": "r7jxQhkcze5d",
    "outputId": "c7d5d85b-dee5-41cc-f24e-49da6f14594e"
   },
   "outputs": [
    {
     "name": "stdout",
     "output_type": "stream",
     "text": [
      "\r",
      "  0% [                                                              ]   0 / 204\r",
      "100% [..............................................................] 204 / 204import numpy as np\r\n",
      "\r\n",
      "class RandomGuesser():\r\n",
      "\r\n",
      "    def fit(self, X):\r\n",
      "        \"Assign a random number to each sample\"\r\n",
      "        n_samples = X.shape[0]\r\n",
      "        self.decision_scores_ = np.random.randn(n_samples)\r\n"
     ]
    }
   ],
   "source": [
    "#ID 30(9)\n",
    "\n",
    "# download example algorithm and inspect content\n",
    "import wget\n",
    "wget.download('https://raw.githubusercontent.com/jandeller/test/main/RandomGuesser.py',\"RandomGuesser.py\")\n",
    "!cat RandomGuesser.py"
   ]
  },
  {
   "cell_type": "markdown",
   "id": "enGFFsQpRJ2Y",
   "metadata": {
    "id": "enGFFsQpRJ2Y"
   },
   "source": [
    "The sample `RandomGuesser` algorithm shown here is - as the name suggests - a random guesser, i.e., it assigns random anomaly scores to the samples.\n",
    "\n",
    "An algorithm used for unsupervised anomaly detection needs to specify a `fit(X_train)` method for training and a `decision_scores_` variable for inference that returns an anomaly score per data point in the test set.\n",
    "\n",
    "It is of course possible to rename the method and field, use a method for accessing the anomaly scores, etc. Note that if this is done, the following code has to be changed accordingly. Adhering to the conventions described above (`fit(X_train)` and `decision_scores_`) allows you to use the same interface as algorithms from [`PyOD`](https://pyod.readthedocs.io/en/latest/) as shown when [comparing algorithms using `oab`](https://colab.research.google.com/drive/1aV_itaYCJgzdZ1lQ7SUyHQ7z01xSPxDN?usp=sharing#scrollTo=QnAfCGTGL7xv)."
   ]
  },
  {
   "cell_type": "code",
   "execution_count": 33,
   "id": "Y4FYSMtIzsqZ",
   "metadata": {
    "id": "Y4FYSMtIzsqZ"
   },
   "outputs": [],
   "source": [
    "#ID 31(9)\n",
    "# used imports from #ID 3(0),#ID 18(5)\n",
    "#used sampling parameters from #ID 14(4)\n",
    "\n",
    "# and import the RandomGuesser\n",
    "from RandomGuesser import RandomGuesser\n",
    "\n",
    "own_algorithms=[{\n",
    "    \n",
    "       ### ADD YOUR OWN ALGO DETAILS IN THIS FORM ###\n",
    "       \"algo_module_name\": \"RandomGuesserSemisupervised\",   \n",
    "       \"algo_class_name\": \"RandomGuesserSemisupervised\",\n",
    "       \"algo_name_in_result_table\": \"RandomGuesserSemisupervised\",\n",
    "       \"algo_parameters\": {},\n",
    "        \"fit\": {'method_name': 'fit', 'params': {}}, \n",
    "        \"decision_SCORES\": {'field_name': 'decision_scores_'}\n",
    "        }]\n"
   ]
  },
  {
   "cell_type": "markdown",
   "id": "bb7d6d51",
   "metadata": {},
   "source": [
    "The `own_algorithms` list in the above cell #ID 31(9) can be added to `lst_benchmarking_algos` as mentioned in #ID 19(5) to use this algorithm in a benchmark run shown in #ID 23(5) along with other algorithms"
   ]
  },
  {
   "cell_type": "code",
   "execution_count": 34,
   "id": "RU5K81TC0PmQ",
   "metadata": {
    "colab": {
     "base_uri": "https://localhost:8080/"
    },
    "id": "RU5K81TC0PmQ",
    "outputId": "e0c6a548-76be-46f2-f4be-4696efa51fe2"
   },
   "outputs": [
    {
     "name": "stdout",
     "output_type": "stream",
     "text": [
      ". \n",
      "\n",
      "Evaluation on dataset mvtec_ad_myImageDataset with normal labels [0] and anomaly labels [1.0].\n",
      "Total of 1 datasets. Per dataset:\n",
      "25 instances, contamination_rate 0.5.\n",
      "Mean \t Std_dev \t Metric\n",
      "0.455 \t 0.000 \t\t roc_auc\n",
      "-0.006 \t 0.000 \t\t adjusted_average_precision\n",
      "0.474 \t 0.000 \t\t precision_recall_auc\n",
      "\n",
      "\n",
      ". \n",
      "\n",
      "Evaluation on dataset mnist with normal labels [0] and anomaly labels [1, 2, 3, 4, 5, 6, 7, 8, 9].\n",
      "Total of 1 datasets. Per dataset:\n",
      "25 instances, contamination_rate 0.5.\n",
      "Mean \t Std_dev \t Metric\n",
      "0.571 \t 0.000 \t\t roc_auc\n",
      "0.085 \t 0.000 \t\t adjusted_average_precision\n",
      "0.524 \t 0.000 \t\t precision_recall_auc\n",
      "\n",
      "\n",
      ". \n",
      "\n",
      "Evaluation on dataset mvtec_ad_myImageDataset2 with normal labels [0] and anomaly labels [1.0].\n",
      "Total of 1 datasets. Per dataset:\n",
      "25 instances, contamination_rate 0.5.\n",
      "Mean \t Std_dev \t Metric\n",
      "0.564 \t 0.000 \t\t roc_auc\n",
      "0.197 \t 0.000 \t\t adjusted_average_precision\n",
      "0.590 \t 0.000 \t\t precision_recall_auc\n",
      "\n",
      "\n",
      ". \n",
      "\n",
      "Evaluation on dataset mvtec_ad_transistor with normal labels [0] and anomaly labels [1.0].\n",
      "Total of 1 datasets. Per dataset:\n",
      "25 instances, contamination_rate 0.5.\n",
      "Mean \t Std_dev \t Metric\n",
      "0.487 \t 0.000 \t\t roc_auc\n",
      "0.094 \t 0.000 \t\t adjusted_average_precision\n",
      "0.523 \t 0.000 \t\t precision_recall_auc\n",
      "\n",
      "\n"
     ]
    }
   ],
   "source": [
    "#ID 35(9)\n",
    "\n",
    "#  A comparison object is created for comparing the evaluations of different Algo-Dataset combinations\n",
    "co = ComparisonObject()\n",
    "\n",
    "for dataset_name in benchmarking_datasets:\n",
    "  # evaluate the random guesser\n",
    "  eval_obj = EvaluationObject(algorithm_name=\"RandomGuesser\")\n",
    "  for (x,y), settings in benchmarking_datasets[dataset_name].sample_multiple(n=n, \n",
    "                                                                  contamination_rate=contamination_rate, \n",
    "                                                                 n_steps=n_steps):\n",
    "      print(\".\", end=\" \") # update to see progress\n",
    "      rg = RandomGuesser()\n",
    "      rg.fit(x) # data is fitted to RandomGuesser\n",
    "      pred = rg.decision_scores_ # and decision_scores_ is accessed\n",
    "      eval_obj.add(y, pred, settings)\n",
    "  print(\"\\n\")\n",
    "  eval_desc = eval_obj.evaluate(metrics=['roc_auc', 'adjusted_average_precision', 'precision_recall_auc'])\n",
    "  # added to comparison object\n",
    "  co.add_evaluation(eval_desc)\n",
    "  print(\"\\n\")\n",
    "\n"
   ]
  },
  {
   "cell_type": "markdown",
   "id": "CHYWyeKKxs9M",
   "metadata": {
    "id": "CHYWyeKKxs9M"
   },
   "source": [
    "As in the above code, We store the evaluations of our own algorithm in evaluation object which is then added to comparison object.Similarly, we can create evaluation objects for other algorithms and add them to comparison object for final benchmarking  as shown in Section 5"
   ]
  },
  {
   "cell_type": "markdown",
   "id": "k-8sW1dvTcNj",
   "metadata": {
    "id": "k-8sW1dvTcNj"
   },
   "source": [
    "Finally, we show below the benchmarking results of our algorithm as described in \"**Section 7. Show Benchmarking Results**\""
   ]
  },
  {
   "cell_type": "code",
   "execution_count": 35,
   "id": "_RxojZg5zDhb",
   "metadata": {
    "id": "_RxojZg5zDhb",
    "scrolled": true
   },
   "outputs": [
    {
     "name": "stdout",
     "output_type": "stream",
     "text": [
      "For roc_auc:\n",
      "               mvtec_ad_myImageDataset     mnist  mvtec_ad_myImageDataset2  \\\n",
      "CAE v3                        0.282051  0.673077                  0.403846   \n",
      "cae_LOF                       0.442308  0.525641                  0.397436   \n",
      "RandomGuesser                 0.455128  0.570513                  0.564103   \n",
      "Average                       0.393162  0.589744                  0.455128   \n",
      "\n",
      "               mvtec_ad_transistor   Average  \n",
      "CAE v3                    0.532051  0.472756  \n",
      "cae_LOF                   0.519231  0.471154  \n",
      "RandomGuesser             0.487179  0.519231  \n",
      "Average                   0.512821       NaN  \n",
      "For adjusted_average_precision:\n",
      "               mvtec_ad_myImageDataset     mnist  mvtec_ad_myImageDataset2  \\\n",
      "CAE v3                       -0.204803  0.328967                 -0.075947   \n",
      "cae_LOF                      -0.029050  0.130423                 -0.073227   \n",
      "RandomGuesser                -0.006266  0.085048                  0.196601   \n",
      "Average                      -0.080040  0.181479                  0.015809   \n",
      "\n",
      "               mvtec_ad_transistor   Average  \n",
      "CAE v3                    0.302684  0.087725  \n",
      "cae_LOF                   0.278510  0.076664  \n",
      "RandomGuesser             0.094045  0.092357  \n",
      "Average                   0.225080       NaN  \n",
      "For precision_recall_auc:\n",
      "               mvtec_ad_myImageDataset     mnist  mvtec_ad_myImageDataset2  \\\n",
      "CAE v3                        0.387112  0.660640                  0.446506   \n",
      "cae_LOF                       0.463180  0.558325                  0.447794   \n",
      "RandomGuesser                 0.474229  0.523943                  0.590378   \n",
      "Average                       0.441507  0.580969                  0.494893   \n",
      "\n",
      "               mvtec_ad_transistor   Average  \n",
      "CAE v3                    0.652153  0.536603  \n",
      "cae_LOF                   0.639843  0.527286  \n",
      "RandomGuesser             0.523081  0.527908  \n",
      "Average                   0.605026       NaN  \n"
     ]
    }
   ],
   "source": [
    "#ID 33(9)\n",
    "\n",
    "# print results in easily readable format\n",
    "co.print_results()"
   ]
  },
  {
   "cell_type": "code",
   "execution_count": 37,
   "id": "1717c96b",
   "metadata": {
    "id": "1717c96b"
   },
   "outputs": [
    {
     "name": "stdout",
     "output_type": "stream",
     "text": [
      "For roc_auc:\n",
      "              mvtec_ad_myImageDataset         mnist mvtec_ad_myImageDataset2  \\\n",
      "CAE v3                   0.282+-0.000  0.673+-0.000             0.404+-0.000   \n",
      "cae_LOF                  0.442+-0.000  0.526+-0.000             0.397+-0.000   \n",
      "RandomGuesser            0.455+-0.000  0.571+-0.000             0.564+-0.000   \n",
      "Average                         0.393         0.590                    0.455   \n",
      "\n",
      "              mvtec_ad_transistor   Average  \n",
      "CAE v3               0.532+-0.000  0.472756  \n",
      "cae_LOF              0.519+-0.000  0.471154  \n",
      "RandomGuesser        0.487+-0.000  0.519231  \n",
      "Average                     0.513       NaN  \n",
      "\n",
      "For adjusted_average_precision:\n",
      "              mvtec_ad_myImageDataset         mnist mvtec_ad_myImageDataset2  \\\n",
      "CAE v3                  -0.205+-0.000  0.329+-0.000            -0.076+-0.000   \n",
      "cae_LOF                 -0.029+-0.000  0.130+-0.000            -0.073+-0.000   \n",
      "RandomGuesser           -0.006+-0.000  0.085+-0.000             0.197+-0.000   \n",
      "Average                        -0.080         0.181                    0.016   \n",
      "\n",
      "              mvtec_ad_transistor   Average  \n",
      "CAE v3               0.303+-0.000  0.087725  \n",
      "cae_LOF              0.279+-0.000  0.076664  \n",
      "RandomGuesser        0.094+-0.000  0.092357  \n",
      "Average                     0.225       NaN  \n",
      "\n",
      "For precision_recall_auc:\n",
      "              mvtec_ad_myImageDataset         mnist mvtec_ad_myImageDataset2  \\\n",
      "CAE v3                   0.387+-0.000  0.661+-0.000             0.447+-0.000   \n",
      "cae_LOF                  0.463+-0.000  0.558+-0.000             0.448+-0.000   \n",
      "RandomGuesser            0.474+-0.000  0.524+-0.000             0.590+-0.000   \n",
      "Average                         0.442         0.581                    0.495   \n",
      "\n",
      "              mvtec_ad_transistor   Average  \n",
      "CAE v3               0.652+-0.000  0.536603  \n",
      "cae_LOF              0.640+-0.000  0.527286  \n",
      "RandomGuesser        0.523+-0.000  0.527908  \n",
      "Average                     0.605       NaN  \n",
      "\n"
     ]
    }
   ],
   "source": [
    "#ID 34(9)\n",
    "# print results in easily readable format with standard deviations\n",
    "co.print_results(include_stdevs=True)"
   ]
  },
  {
   "cell_type": "code",
   "execution_count": 36,
   "id": "f6c18a01",
   "metadata": {},
   "outputs": [
    {
     "name": "stdout",
     "output_type": "stream",
     "text": [
      "For roc_auc:\n",
      "\\begin{center}\n",
      "\\begin{tabular}{  c c c c c c  }\n",
      "  & mvtec\\_ad\\_myImageDataset & mnist & mvtec\\_ad\\_myImageDataset2 & mvtec\\_ad\\_transistor & Average \\\\\n",
      "  CAE v3 & 0.282$\\pm$0.000 & \\textbf{0.673$\\pm$0.000} & \\textit{0.404$\\pm$0.000} & \\textbf{0.532$\\pm$0.000} & \\textit{0.473} \\\\\n",
      "  cae\\_LOF & \\textit{0.442$\\pm$0.000} & 0.526$\\pm$0.000 & 0.397$\\pm$0.000 & \\textit{0.519$\\pm$0.000} & 0.471 \\\\\n",
      "  RandomGuesser & \\textbf{0.455$\\pm$0.000} & \\textit{0.571$\\pm$0.000} & \\textbf{0.564$\\pm$0.000} & 0.487$\\pm$0.000 & \\textbf{0.519} \\\\\n",
      "  Average & 0.393 & 0.590 & 0.455 & 0.513 &    \\\\\n",
      "\\end{tabular}\n",
      "\\end{center}\n",
      "\n",
      "For adjusted_average_precision:\n",
      "\\begin{center}\n",
      "\\begin{tabular}{  c c c c c c  }\n",
      "  & mvtec\\_ad\\_myImageDataset & mnist & mvtec\\_ad\\_myImageDataset2 & mvtec\\_ad\\_transistor & Average \\\\\n",
      "  CAE v3 & -0.205$\\pm$0.000 & \\textbf{0.329$\\pm$0.000} & -0.076$\\pm$0.000 & \\textbf{0.303$\\pm$0.000} & \\textit{0.088} \\\\\n",
      "  cae\\_LOF & \\textit{-0.029$\\pm$0.000} & \\textit{0.130$\\pm$0.000} & \\textit{-0.073$\\pm$0.000} & \\textit{0.279$\\pm$0.000} & 0.077 \\\\\n",
      "  RandomGuesser & \\textbf{-0.006$\\pm$0.000} & 0.085$\\pm$0.000 & \\textbf{0.197$\\pm$0.000} & 0.094$\\pm$0.000 & \\textbf{0.092} \\\\\n",
      "  Average & -0.080 & 0.181 & 0.016 & 0.225 &    \\\\\n",
      "\\end{tabular}\n",
      "\\end{center}\n",
      "\n",
      "For precision_recall_auc:\n",
      "\\begin{center}\n",
      "\\begin{tabular}{  c c c c c c  }\n",
      "  & mvtec\\_ad\\_myImageDataset & mnist & mvtec\\_ad\\_myImageDataset2 & mvtec\\_ad\\_transistor & Average \\\\\n",
      "  CAE v3 & 0.387$\\pm$0.000 & \\textbf{0.661$\\pm$0.000} & 0.447$\\pm$0.000 & \\textbf{0.652$\\pm$0.000} & \\textbf{0.537} \\\\\n",
      "  cae\\_LOF & \\textit{0.463$\\pm$0.000} & \\textit{0.558$\\pm$0.000} & \\textit{0.448$\\pm$0.000} & \\textit{0.640$\\pm$0.000} & 0.527 \\\\\n",
      "  RandomGuesser & \\textbf{0.474$\\pm$0.000} & 0.524$\\pm$0.000 & \\textbf{0.590$\\pm$0.000} & 0.523$\\pm$0.000 & \\textit{0.528} \\\\\n",
      "  Average & 0.442 & 0.581 & 0.495 & 0.605 &    \\\\\n",
      "\\end{tabular}\n",
      "\\end{center}\n",
      "\n"
     ]
    }
   ],
   "source": [
    "#ID 35(9)\n",
    "\n",
    "co.print_latex(include_stdevs=True)"
   ]
  },
  {
   "cell_type": "markdown",
   "id": "0bc535a8",
   "metadata": {},
   "source": [
    "So,This was our example algorithm. Other algorithms can be used to run and extend benchmarks,  Please refer  to <b>5. ALGORITHM TRAINING AND TESTING</b>."
   ]
  }
 ],
 "metadata": {
  "colab": {
   "collapsed_sections": [
    "100a6f8d"
   ],
   "name": "Semisupervised_Anomaly_Detection_on_Benchmark_Image_Data.ipynb",
   "provenance": []
  },
  "kernelspec": {
   "display_name": "oab",
   "language": "python",
   "name": "oab"
  },
  "language_info": {
   "codemirror_mode": {
    "name": "ipython",
    "version": 3
   },
   "file_extension": ".py",
   "mimetype": "text/x-python",
   "name": "python",
   "nbconvert_exporter": "python",
   "pygments_lexer": "ipython3",
   "version": "3.7.11"
  }
 },
 "nbformat": 4,
 "nbformat_minor": 5
}
