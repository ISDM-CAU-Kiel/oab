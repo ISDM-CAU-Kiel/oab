{
 "cells": [
  {
   "cell_type": "markdown",
   "id": "100a6f8d",
   "metadata": {
    "id": "100a6f8d"
   },
   "source": [
    "\n",
    "## In this notebook, you will see all the steps sequentially performed to be able to utilize the complete functionality of OAB framework. The steps are as follows :\n",
    "0. SETUP\n",
    "1. DATA\n",
    "2. DATA SELECTION\n",
    "3. PREPROCESSING\n",
    "4. SAMPLING\n",
    "5. ALGORITHM TRAINING AND TESTING\n",
    "6. EVALUATION\n",
    "7. SHOW BENCHMARK RESULTS\n",
    "8. REPRODUCIBILTY\n",
    "9. EXTENDING THE BENCHMARK(with own Algorithm)\n",
    "\n",
    "This notebook focuses on <b>Unsupervised Tabular Data</b>. Let's begin!"
   ]
  },
  {
   "cell_type": "markdown",
   "id": "VXCXUMi0bRJA",
   "metadata": {
    "id": "VXCXUMi0bRJA"
   },
   "source": [
    "# **0. SETUP**"
   ]
  },
  {
   "cell_type": "markdown",
   "id": "kkhqUcFybZ56",
   "metadata": {
    "id": "kkhqUcFybZ56"
   },
   "source": [
    "`oab` framework can be integrated in your Python environment  as a PyPi package  using the following command:"
   ]
  },
  {
   "cell_type": "code",
   "execution_count": null,
   "id": "9rc17bsZbbnb",
   "metadata": {
    "id": "9rc17bsZbbnb"
   },
   "outputs": [],
   "source": [
    "#ID 1(0)\n",
    "\n",
    "#%%capture\n",
    "# pip install oab\n",
    "!pip install example-pkg-jd-kiel --extra-index-url=https://test.pypi.org/simple/"
   ]
  },
  {
   "cell_type": "markdown",
   "id": "059d0536",
   "metadata": {},
   "source": [
    "`Cloning` the repository:\n",
    "\n",
    "oab is an open-source framework which can be accessed at https://github.com/ISDM-CAU-Kiel/oab. To use this .ipynb notebook successfully, the formerly mentioned repository needs to be cloned with the following command and this notebook must be run(if this is not the case already) within the cloned repository from the path:\n",
    "\n",
    "<b>/oab/notebooks/benchmark_tabular/Unsupervised_Anomaly_Detection_on_Benchmark_Tabular_Data_v0.3.ipynb</b>"
   ]
  },
  {
   "cell_type": "code",
   "execution_count": null,
   "id": "afca5536",
   "metadata": {},
   "outputs": [],
   "source": [
    "#ID 2(0)\n",
    "!git clone https://github.com/ISDM-CAU-Kiel/oab.git"
   ]
  },
  {
   "cell_type": "markdown",
   "id": "c21a101e",
   "metadata": {},
   "source": [
    "Now importing the necessary functions and inernal variables"
   ]
  },
  {
   "cell_type": "code",
   "execution_count": 91,
   "id": "1c45b98e",
   "metadata": {
    "id": "1c45b98e",
    "outputId": "de6c3c28-b6c3-4dd5-cf4d-c9dbc018a5fc",
    "scrolled": false
   },
   "outputs": [
    {
     "name": "stdout",
     "output_type": "stream",
     "text": [
      "The autoreload extension is already loaded. To reload it, use:\n",
      "  %reload_ext autoreload\n"
     ]
    }
   ],
   "source": [
    "#ID 3(0)\n",
    "\n",
    "\n",
    "\n",
    "import sys\n",
    "import os\n",
    "from datetime import datetime \n",
    "from pathlib import Path           \n",
    "sys.path.append('../..')         \n",
    "%load_ext autoreload\n",
    "%autoreload 2\n",
    "\n",
    "\n",
    "#other  necessary imports\n",
    "from oab.data.unsupervised import UnsupervisedAnomalyDataset\n",
    "from oab.data.load_dataset import load_dataset\n",
    "from oab.data.load_recipe_functions import *\n",
    "\n",
    "\n",
    "\n",
    "\n",
    "#from oab.data.datasets import *\n",
    "\n",
    "# necessary imports for algorithm comparisons and defining seeds\n",
    "from oab.evaluation import EvaluationObject, ComparisonObject,all_metrics\n",
    "import random\n",
    "import numpy as np\n"
   ]
  },
  {
   "cell_type": "markdown",
   "id": "50eb70c2",
   "metadata": {
    "id": "50eb70c2"
   },
   "source": [
    "## **0.1 NOTEBOOK AND CELL STRUCTURE** "
   ]
  },
  {
   "cell_type": "markdown",
   "id": "bca4cbba",
   "metadata": {
    "id": "bca4cbba"
   },
   "source": [
    "In this notebook there are certain sections where the user s required to enter its own information which are marked as comments of the form :\n",
    "\n",
    "<b>### ADD YOUR CODE ###</b>  , so <b>###</b> can be searched to know what are those sections.\n",
    "\n",
    "All cells are assigned an ID, as a comment at the top of the cell,for example as: <b>#ID 10(5)</b>, where 10 denotes the cell ID and 5 denotes the Section."
   ]
  },
  {
   "cell_type": "markdown",
   "id": "7739ef0d",
   "metadata": {},
   "source": [
    "## 0.2 DETAILS OF THIS BENCHMARK RUN"
   ]
  },
  {
   "cell_type": "code",
   "execution_count": 92,
   "id": "cead2c25",
   "metadata": {},
   "outputs": [
    {
     "name": "stdout",
     "output_type": "stream",
     "text": [
      "20220308120344-Paper_A-ust-recipe.yaml\n"
     ]
    }
   ],
   "source": [
    "#ID 4(0)\n",
    "### ADD YOUR BENCHMARK NAME HERE ###\n",
    "benchmark_name=\"Paper_A\" \n",
    "\n",
    "\n",
    "\n",
    "\n",
    "\n",
    "dataset_folder=\"datasets\" # all dataset-folders are contained in this folder\n",
    "datasets_yaml_path=Path(os.getcwd()).parent.parent/\"oab\"/\"data\"/\"datasets.yaml\" # getting path to \"datasets.yaml\" which contains information about all tabular datasets\n",
    "\n",
    "\n",
    "benchmark_type=\"ust\"     # benchmark run for unsupervised tabular datasets(ust)\n",
    "if not os.path.exists(benchmark_name): #creating directory for this benchhmark for storing recipes\n",
    "    os.makedirs(benchmark_name)\n",
    "\n",
    "    \n",
    "time=datetime.now().strftime(\"%Y%m%d%H%M%S\") # timestamp set for this run  \n",
    "new_recipe_path=f\"{benchmark_name}/{time}-{benchmark_name}-{benchmark_type}-recipe.yaml\" # recipe path for new recipe created in this run   \n",
    "print(f\"{time}-{benchmark_name}-{benchmark_type}-recipe.yaml\")"
   ]
  },
  {
   "cell_type": "markdown",
   "id": "b84fe86f",
   "metadata": {},
   "source": [
    "### For reproducing a previously-created recipe without adding new datasets and algorithms from this benchmark  ,  skip to :\n",
    "\n",
    "### `#ID 20(5)`"
   ]
  },
  {
   "cell_type": "markdown",
   "id": "Ge7C0gfOXtkJ",
   "metadata": {
    "id": "Ge7C0gfOXtkJ"
   },
   "source": [
    "# **1. DATA**"
   ]
  },
  {
   "cell_type": "markdown",
   "id": "7714d531",
   "metadata": {
    "id": "7714d531"
   },
   "source": [
    "First of all, we will have a look at the Datasets that are pre-installed in OAB which can be used for benchmarking"
   ]
  },
  {
   "cell_type": "code",
   "execution_count": 93,
   "id": "f8a2065d",
   "metadata": {},
   "outputs": [
    {
     "name": "stdout",
     "output_type": "stream",
     "text": [
      "0.NASA_ground_data\n",
      "1.annthyroid\n",
      "2.arrhytmia\n",
      "3.boston\n",
      "4.breastw\n",
      "5.cardio\n",
      "6.forest_cover\n",
      "7.http\n",
      "8.ionosphere\n",
      "9.mammography\n",
      "10.musk\n",
      "11.myTabularDataset\n",
      "12.myTabularDataset2\n",
      "13.optdigits\n",
      "14.page-blocks\n",
      "15.pendigits\n",
      "16.pima\n",
      "17.pulsar_star\n",
      "18.shuttle\n",
      "19.smtp\n",
      "20.spambase\n",
      "21.thyroid\n",
      "22.vertebral\n",
      "23.wilt\n",
      "24.wine\n"
     ]
    }
   ],
   "source": [
    "# ID 5(1)\n",
    "for i in get_tabular_dataset_names(datasets_yaml_path):\n",
    "    print(f\"{i[0]}.{i[1]}\")\n",
    "\n"
   ]
  },
  {
   "cell_type": "markdown",
   "id": "5GfTylvidJUs",
   "metadata": {
    "id": "5GfTylvidJUs"
   },
   "source": [
    "\n",
    "`oab` provides a variety of tabular datasets that can easily be loaded, \n",
    "\n",
    "`1.` If a user is interested in using her own tabular dataset, the following steps have to be followed: \n",
    "\n",
    " (a) Ensure that `own` dataset(s) information is stored in the file `datasets.yaml` which is located at\n",
    "<b>\"/oab/data\"</b>(by executon of  #ID 7(1))\n",
    " \n",
    " \n",
    " (b) The `folder` containing the dataset must be stored in `datasets` folder of the OAB and name should be same as the dataset_name\n",
    " \n",
    " (c) Then, own dataset(s) can be loaded just like the pre-installed OAB datasets \n",
    " \n",
    " `2.` If user's dataset is provided **via a URL**, then it would be downloaded and stored in the OAB's \"datasets\" folder.\n",
    " \n",
    " The files in the `folder` that are downloaded or stored manually in \"datasets\" folder , can be of variety of formats such as:\n",
    " \n",
    " 1. 'csv           \n",
    " 2. 'zip'\n",
    " 3.'gz_single_file'\n",
    " 4.'mat'\n",
    " 5.'mat_old\n",
    " \n",
    " If user has her dataset file in one of these formats, or has multiple files, then `oab` automatically makes one file out of that which is then input to the oab. We will see the case here, when user loads her dataset through local `folder directory`."
   ]
  },
  {
   "cell_type": "markdown",
   "id": "b05b9a67",
   "metadata": {},
   "source": [
    "Here's the structure of how the datasets' information are stored in \"datasets.yaml\"."
   ]
  },
  {
   "cell_type": "code",
   "execution_count": 94,
   "id": "8ff2c200",
   "metadata": {},
   "outputs": [
    {
     "name": "stdout",
     "output_type": "stream",
     "text": [
      "NASA_ground_data:\r\n",
      "  class_labels: last\r\n",
      "  credits: Sayyad Shirabad, J. and Menzies, T.J. (2005) The PROMISE Repository of\r\n",
      "    Software Engineering Databases. School of Information Technology and Engineering,\r\n",
      "    University of Ottawa, Canada.\r\n",
      "  dataset_format: csv\r\n",
      "  destination_filenames: [NASA_ground_data.csv]\r\n",
      "  destination_yaml: NASA_ground_data_preprocessing.yaml\r\n",
      "  filename_in_folder: NASA_ground_data.csv\r\n",
      "  filenames_to_concatenate: null\r\n",
      "  foldername: NASA_ground_data\r\n",
      "  load_csv_arguments: {header: 0}\r\n",
      "  name: NASA_ground_data\r\n",
      "  short_description: null\r\n",
      "  url_yaml: https://raw.githubusercontent.com/jandeller/test/main/test6.yaml\r\n",
      "  urls_dataset: ['https://www.openml.org/data/get_csv/53950']\r\n",
      "annthyroid:\r\n",
      "  class_labels: last\r\n",
      "  credits: \"Dataset provided by OODS on http://odds.cs.stonybrook.edu/annthyroid-dataset/.\r\n",
      "    If you use this for publications, please keep the publication policy in mind (http://odds.cs.stonybrook.edu/about-odds/).\r\n",
      "    \\n Shebuti Rayana (2016).  ODDS Library [http://odds.cs.stonybrook.edu]. Stony\r\n",
      "    Brook, NY: Stony Brook University, Department of Computer Science.\"\r\n",
      "  dataset_format: mat_old\r\n",
      "  destination_filenames: [annthyroid.mat]\r\n",
      "  destination_yaml: annthyroid_preprocessing.yaml\r\n",
      "  filename_in_folder: annthyroid.csv\r\n",
      "  filenames_to_concatenate: null\r\n",
      "  foldername: annthyroid\r\n",
      "  load_csv_arguments: {header: null}\r\n",
      "  name: annthyroid\r\n",
      "  short_description: null\r\n",
      "  url_yaml: https://raw.githubusercontent.com/jandeller/test/main/test13.yaml\r\n",
      "  urls_dataset: ['https://www.dropbox.com/s/aifk51owxbogwav/annthyroid.mat?dl=1']\r\n",
      "arrhytmia:\r\n",
      "  class_labels: last\r\n",
      "  credits: \"Dataset provided by OODS on http://odds.cs.stonybrook.edu/arrhytmia-dataset/.\r\n",
      "    If you use this for publications, please keep the publication policy in mind (http://odds.cs.stonybrook.edu/about-odds/).\r\n",
      "    \\n Shebuti Rayana (2016).  ODDS Library [http://odds.cs.stonybrook.edu]. Stony\r\n",
      "    Brook, NY: Stony Brook University, Department of Computer Science.\"\r\n",
      "  dataset_format: mat_old\r\n",
      "  destination_filenames: [arrhytmia.mat]\r\n",
      "  destination_yaml: arrhytmia_preprocessing.yaml\r\n",
      "  filename_in_folder: arrhytmia.csv\r\n",
      "  filenames_to_concatenate: null\r\n",
      "  foldername: arrhytmia\r\n",
      "  load_csv_arguments: {header: null}\r\n",
      "  name: arrhytmia\r\n",
      "  short_description: null\r\n",
      "  url_yaml: https://raw.githubusercontent.com/jandeller/test/main/test13.yaml\r\n",
      "  urls_dataset: ['https://www.dropbox.com/s/lmlwuspn1sey48r/arrhythmia.mat?dl=1']\r\n",
      "boston:\r\n",
      "  class_labels: last\r\n",
      "  credits: https://www.cs.toronto.edu/~delve/data/boston/bostonDetail.html\r\n",
      "  dataset_format: csv\r\n",
      "  destination_filenames: [boston.csv]\r\n",
      "  destination_yaml: boston_preprocessing.yaml\r\n",
      "  filename_in_folder: boston.csv\r\n",
      "  filenames_to_concatenate: null\r\n",
      "  foldername: boston\r\n",
      "  load_csv_arguments: {header: 0}\r\n",
      "  name: boston\r\n",
      "  short_description: null\r\n",
      "  url_yaml: https://raw.githubusercontent.com/jandeller/test/main/test9.yaml\r\n",
      "  urls_dataset: ['https://raw.githubusercontent.com/selva86/datasets/master/BostonHousing.csv']\r\n",
      "breastw:\r\n",
      "  class_labels: last\r\n",
      "  credits: \"Dataset provided by OODS on http://odds.cs.stonybrook.edu/breast-cancer-wisconsin-original-dataset/.\r\n",
      "    If you use this for publications, please keep the publication policy in mind (http://odds.cs.stonybrook.edu/about-odds/).\r\n",
      "    \\n Shebuti Rayana (2016).  ODDS Library [http://odds.cs.stonybrook.edu]. Stony\r\n",
      "    Brook, NY: Stony Brook University, Department of Computer Science.\"\r\n",
      "  dataset_format: mat_old\r\n",
      "  destination_filenames: [breastw.mat]\r\n",
      "  destination_yaml: breastw_preprocessing.yaml\r\n",
      "  filename_in_folder: breastw.csv\r\n",
      "  filenames_to_concatenate: null\r\n",
      "  foldername: breastw\r\n",
      "  load_csv_arguments: {header: null}\r\n",
      "  name: breastw\r\n",
      "  short_description: null\r\n",
      "  url_yaml: https://raw.githubusercontent.com/jandeller/test/main/test13.yaml\r\n",
      "  urls_dataset: ['https://www.dropbox.com/s/g3hlnucj71kfvq4/breastw.mat?dl=1']\r\n",
      "cardio:\r\n",
      "  class_labels: last\r\n",
      "  credits: \"Dataset provided by OODS on http://odds.cs.stonybrook.edu/cardiotocogrpahy-dataset/.\r\n",
      "    If you use this for publications, please keep the publication policy in mind (http://odds.cs.stonybrook.edu/about-odds/).\r\n",
      "    \\n Shebuti Rayana (2016).  ODDS Library [http://odds.cs.stonybrook.edu]. Stony\r\n",
      "    Brook, NY: Stony Brook University, Department of Computer Science.\"\r\n",
      "  dataset_format: mat_old\r\n",
      "  destination_filenames: [cardio.mat]\r\n",
      "  destination_yaml: cardio_preprocessing.yaml\r\n",
      "  filename_in_folder: cardio.csv\r\n",
      "  filenames_to_concatenate: null\r\n",
      "  foldername: cardio\r\n",
      "  load_csv_arguments: {header: null}\r\n",
      "  name: cardio\r\n",
      "  short_description: null\r\n",
      "  url_yaml: https://raw.githubusercontent.com/jandeller/test/main/test13.yaml\r\n",
      "  urls_dataset: ['https://www.dropbox.com/s/galg3ihvxklf0qi/cardio.mat?dl=1']\r\n",
      "forest_cover:\r\n",
      "  class_labels: last\r\n",
      "  credits: 'Dua, D. and Graff, C. (2019). UCI Machine Learning Repository [http://archive.ics.uci.edu/ml].\r\n",
      "    Irvine, CA: University of California, School of Information and Computer Science.'\r\n",
      "  dataset_format: gz_single_file\r\n",
      "  destination_filenames: [forest_cover.data.gz]\r\n",
      "  destination_yaml: forest_cover_preprocessing.yaml\r\n",
      "  filename_in_folder: forest_cover.csv\r\n",
      "  filenames_to_concatenate: null\r\n",
      "  foldername: forest_cover\r\n",
      "  load_csv_arguments: {header: null}\r\n",
      "  name: forest_cover\r\n",
      "  short_description: null\r\n",
      "  url_yaml: https://raw.githubusercontent.com/jandeller/test/main/test5.yaml\r\n",
      "  urls_dataset: ['https://archive.ics.uci.edu/ml/machine-learning-databases/covtype/covtype.data.gz']\r\n",
      "http:\r\n",
      "  class_labels: last\r\n",
      "  credits: \"Dataset provided by OODS on http://odds.cs.stonybrook.edu/http-kddcup99-dataset/.\r\n",
      "    If you use this for publications, please keep the publication policy in mind (http://odds.cs.stonybrook.edu/about-odds/).\r\n",
      "    \\n Shebuti Rayana (2016).  ODDS Library [http://odds.cs.stonybrook.edu]. Stony\r\n",
      "    Brook, NY: Stony Brook University, Department of Computer Science.\"\r\n",
      "  dataset_format: mat\r\n",
      "  destination_filenames: [http.mat]\r\n",
      "  destination_yaml: http_preprocessing.yaml\r\n",
      "  filename_in_folder: http.csv\r\n",
      "  filenames_to_concatenate: null\r\n",
      "  foldername: http\r\n",
      "  load_csv_arguments: {header: null}\r\n",
      "  name: http\r\n",
      "  short_description: null\r\n",
      "  url_yaml: https://raw.githubusercontent.com/jandeller/test/main/test13.yaml\r\n",
      "  urls_dataset: ['https://www.dropbox.com/s/iy9ucsifal754tp/http.mat?dl=1']\r\n",
      "ionosphere:\r\n",
      "  class_labels: last\r\n",
      "  credits: \"Dataset provided by OODS on http://odds.cs.stonybrook.edu/ionosphere-dataset/.\r\n",
      "    If you use this for publications, please keep the publication policy in mind (http://odds.cs.stonybrook.edu/about-odds/).\r\n",
      "    \\n Shebuti Rayana (2016).  ODDS Library [http://odds.cs.stonybrook.edu]. Stony\r\n",
      "    Brook, NY: Stony Brook University, Department of Computer Science.\"\r\n",
      "  dataset_format: mat_old\r\n",
      "  destination_filenames: [ionosphere.mat]\r\n",
      "  destination_yaml: ionosphere_preprocessing.yaml\r\n",
      "  filename_in_folder: ionosphere.csv\r\n",
      "  filenames_to_concatenate: null\r\n",
      "  foldername: ionosphere\r\n",
      "  load_csv_arguments: {header: null}\r\n",
      "  name: ionosphere\r\n",
      "  short_description: null\r\n",
      "  url_yaml: https://raw.githubusercontent.com/jandeller/test/main/test13.yaml\r\n",
      "  urls_dataset: ['https://www.dropbox.com/s/lpn4z73fico4uup/ionosphere.mat?dl=1']\r\n",
      "mammography:\r\n",
      "  class_labels: last\r\n",
      "  credits: \"Dataset provided by OODS on http://odds.cs.stonybrook.edu/mammography-dataset/.\r\n",
      "    If you use this for publications, please keep the publication policy in mind (http://odds.cs.stonybrook.edu/about-odds/).\r\n",
      "    \\n Shebuti Rayana (2016).  ODDS Library [http://odds.cs.stonybrook.edu]. Stony\r\n",
      "    Brook, NY: Stony Brook University, Department of Computer Science.\"\r\n",
      "  dataset_format: mat_old\r\n",
      "  destination_filenames: [mammography.mat]\r\n",
      "  destination_yaml: mammography_preprocessing.yaml\r\n",
      "  filename_in_folder: mammography.csv\r\n",
      "  filenames_to_concatenate: null\r\n",
      "  foldername: mammography\r\n",
      "  load_csv_arguments: {header: null}\r\n",
      "  name: mammography\r\n",
      "  short_description: null\r\n",
      "  url_yaml: https://raw.githubusercontent.com/jandeller/test/main/test13.yaml\r\n",
      "  urls_dataset: ['https://www.dropbox.com/s/tq2v4hhwyv17hlk/mammography.mat?dl=1']\r\n",
      "musk:\r\n",
      "  class_labels: last\r\n",
      "  credits: \"Dataset provided by OODS on http://odds.cs.stonybrook.edu/musk-dataset/.\r\n",
      "    If you use this for publications, please keep the publication policy in mind (http://odds.cs.stonybrook.edu/about-odds/).\r\n",
      "    \\n Shebuti Rayana (2016).  ODDS Library [http://odds.cs.stonybrook.edu]. Stony\r\n",
      "    Brook, NY: Stony Brook University, Department of Computer Science.\"\r\n",
      "  dataset_format: mat_old\r\n",
      "  destination_filenames: [musk.mat]\r\n",
      "  destination_yaml: musk_preprocessing.yaml\r\n",
      "  filename_in_folder: musk.csv\r\n",
      "  filenames_to_concatenate: null\r\n",
      "  foldername: musk\r\n",
      "  load_csv_arguments: {header: null}\r\n",
      "  name: musk\r\n",
      "  short_description: null\r\n",
      "  url_yaml: https://raw.githubusercontent.com/jandeller/test/main/test13.yaml\r\n",
      "  urls_dataset: ['https://www.dropbox.com/s/we6aqhb0m38i60t/musk.mat?dl=1']\r\n",
      "myTabularDataset:\r\n",
      "  class_labels: last\r\n",
      "  credits: null\r\n",
      "  dataset_format: csv\r\n",
      "  destination_filenames: null\r\n",
      "  destination_yaml: null\r\n",
      "  filename_in_folder: myTabularDataset.csv\r\n",
      "  filenames_to_concatenate: null\r\n",
      "  foldername: myTabularDataset\r\n",
      "  load_csv_arguments: {header: 0}\r\n",
      "  name: myTabularDataset\r\n",
      "  short_description: null\r\n",
      "  url_yaml: null\r\n",
      "  urls_dataset: null\r\n",
      "myTabularDataset2:\r\n",
      "  class_labels: last\r\n",
      "  credits: null\r\n",
      "  dataset_format: csv\r\n",
      "  destination_filenames: null\r\n",
      "  destination_yaml: null\r\n",
      "  filename_in_folder: myTabularDataset2.csv\r\n",
      "  filenames_to_concatenate: null\r\n",
      "  foldername: myTabularDataset2\r\n",
      "  load_csv_arguments: {header: 0}\r\n",
      "  name: myTabularDataset2\r\n",
      "  short_description: null\r\n",
      "  url_yaml: null\r\n",
      "  urls_dataset: null\r\n",
      "optdigits:\r\n",
      "  class_labels: last\r\n",
      "  credits: \"Dataset provided by OODS on http://odds.cs.stonybrook.edu/optdigits-dataset/.\r\n",
      "    If you use this for publications, please keep the publication policy in mind (http://odds.cs.stonybrook.edu/about-odds/).\r\n",
      "    \\n Shebuti Rayana (2016).  ODDS Library [http://odds.cs.stonybrook.edu]. Stony\r\n",
      "    Brook, NY: Stony Brook University, Department of Computer Science.\"\r\n",
      "  dataset_format: mat_old\r\n",
      "  destination_filenames: [optdigits.mat]\r\n",
      "  destination_yaml: optdigits_preprocessing.yaml\r\n",
      "  filename_in_folder: optdigits.csv\r\n",
      "  filenames_to_concatenate: null\r\n",
      "  foldername: optdigits\r\n",
      "  load_csv_arguments: {header: null}\r\n",
      "  name: optdigits\r\n",
      "  short_description: null\r\n",
      "  url_yaml: https://raw.githubusercontent.com/jandeller/test/main/test13.yaml\r\n",
      "  urls_dataset: ['https://www.dropbox.com/s/w52ndgz5k75s514/optdigits.mat?dl=1']\r\n",
      "page-blocks:\r\n",
      "  class_labels: last\r\n",
      "  credits: 'Dua, D. and Graff, C. (2019). UCI Machine Learning Repository [http://archive.ics.uci.edu/ml].\r\n",
      "    Irvine, CA: University of California, School of Information and Computer Science.\r\n",
      "    For more information, check https://archive.ics.uci.edu/ml/datasets/Page+Blocks+Classification.'\r\n",
      "  dataset_format: csv\r\n",
      "  destination_filenames: [page_blocks.csv]\r\n",
      "  destination_yaml: page-blocks_preprocessing.yaml\r\n",
      "  filename_in_folder: page_blocks.csv\r\n",
      "  filenames_to_concatenate: null\r\n",
      "  foldername: page-blocks\r\n",
      "  load_csv_arguments: {header: 0}\r\n",
      "  name: page-blocks\r\n",
      "  notes: Original data is in .Z format, and unpacking this in Python without OS depencies\r\n",
      "    is problematic. Therefore, the dataset is loaded from a different source.\r\n",
      "  short_description: null\r\n",
      "  url_yaml: https://raw.githubusercontent.com/jandeller/test/main/test1.yaml\r\n",
      "  urls_dataset: ['https://pkgstore.datahub.io/machine-learning/page-blocks/page-blocks_csv/data/7c1adeffd3ce22181986879d92f9508c/page-blocks_csv.csv']\r\n",
      "pendigits:\r\n",
      "  class_labels: last\r\n",
      "  credits: \"Dataset provided by OODS on http://odds.cs.stonybrook.edu/pendigits-dataset/.\r\n",
      "    If you use this for publications, please keep the publication policy in mind (http://odds.cs.stonybrook.edu/about-odds/).\r\n",
      "    \\n Shebuti Rayana (2016).  ODDS Library [http://odds.cs.stonybrook.edu]. Stony\r\n",
      "    Brook, NY: Stony Brook University, Department of Computer Science.\"\r\n",
      "  dataset_format: mat_old\r\n",
      "  destination_filenames: [pendigits.mat]\r\n",
      "  destination_yaml: pendigits_preprocessing.yaml\r\n",
      "  filename_in_folder: pendigits.csv\r\n",
      "  filenames_to_concatenate: null\r\n",
      "  foldername: pendigits\r\n",
      "  load_csv_arguments: {header: null}\r\n",
      "  name: pendigits\r\n",
      "  short_description: null\r\n",
      "  url_yaml: https://raw.githubusercontent.com/jandeller/test/main/test13.yaml\r\n",
      "  urls_dataset: ['https://www.dropbox.com/s/1x8rzb4a0lia6t1/pendigits.mat?dl=1']\r\n",
      "pima:\r\n",
      "  class_labels: last\r\n",
      "  credits: \"Dataset provided by OODS on http://odds.cs.stonybrook.edu/pima-indians-diabetes-dataset/.\r\n",
      "    If you use this for publications, please keep the publication policy in mind (http://odds.cs.stonybrook.edu/about-odds/).\r\n",
      "    \\n Shebuti Rayana (2016).  ODDS Library [http://odds.cs.stonybrook.edu]. Stony\r\n",
      "    Brook, NY: Stony Brook University, Department of Computer Science.\"\r\n",
      "  dataset_format: mat_old\r\n",
      "  destination_filenames: [pima.mat]\r\n",
      "  destination_yaml: pima_preprocessing.yaml\r\n",
      "  filename_in_folder: pima.csv\r\n",
      "  filenames_to_concatenate: null\r\n",
      "  foldername: pima\r\n",
      "  load_csv_arguments: {header: null}\r\n",
      "  name: pima\r\n",
      "  short_description: null\r\n",
      "  url_yaml: https://raw.githubusercontent.com/jandeller/test/main/test13.yaml\r\n",
      "  urls_dataset: ['https://www.dropbox.com/s/mvlwu7p0nyk2a2r/pima.mat?dl=1']\r\n",
      "pulsar_star:\r\n",
      "  class_labels: last\r\n",
      "  credits: 'Dua, D. and Graff, C. (2019). UCI Machine Learning Repository [http://archive.ics.uci.edu/ml].\r\n",
      "    Irvine, CA: University of California, School of Information and Computer Science.'\r\n",
      "  dataset_format: zip\r\n",
      "  destination_filenames: [HTRU2.zip]\r\n",
      "  destination_yaml: pulsar_star_preprocessing.yaml\r\n",
      "  filename_in_folder: HTRU_2.csv\r\n",
      "  filenames_to_concatenate: null\r\n",
      "  foldername: pulsar_star\r\n",
      "  load_csv_arguments: {header: null}\r\n",
      "  name: pulsar_star\r\n",
      "  short_description: null\r\n",
      "  url_yaml: https://raw.githubusercontent.com/jandeller/test/main/test4.yaml\r\n",
      "  urls_dataset: ['https://archive.ics.uci.edu/ml/machine-learning-databases/00372/HTRU2.zip']\r\n",
      "shuttle:\r\n",
      "  class_labels: last\r\n",
      "  credits: \"Dataset provided by OODS on http://odds.cs.stonybrook.edu/shuttle-dataset/.\r\n",
      "    If you use this for publications, please keep the publication policy in mind (http://odds.cs.stonybrook.edu/about-odds/).\r\n",
      "    \\n Shebuti Rayana (2016).  ODDS Library [http://odds.cs.stonybrook.edu]. Stony\r\n",
      "    Brook, NY: Stony Brook University, Department of Computer Science.\"\r\n",
      "  dataset_format: mat_old\r\n",
      "  destination_filenames: [shuttle.mat]\r\n",
      "  destination_yaml: shuttle_preprocessing.yaml\r\n",
      "  filename_in_folder: shuttle.csv\r\n",
      "  filenames_to_concatenate: null\r\n",
      "  foldername: shuttle\r\n",
      "  load_csv_arguments: {header: null}\r\n",
      "  name: shuttle\r\n",
      "  short_description: null\r\n",
      "  url_yaml: https://raw.githubusercontent.com/jandeller/test/main/test13.yaml\r\n",
      "  urls_dataset: ['https://www.dropbox.com/s/mk8ozgisimfn3dw/shuttle.mat?dl=1']\r\n",
      "smtp:\r\n",
      "  class_labels: last\r\n",
      "  credits: \"Dataset provided by OODS on http://odds.cs.stonybrook.edu/smtp-kddcup99-dataset/.\r\n",
      "    If you use this for publications, please keep the publication policy in mind (http://odds.cs.stonybrook.edu/about-odds/).\r\n",
      "    \\n Shebuti Rayana (2016).  ODDS Library [http://odds.cs.stonybrook.edu]. Stony\r\n",
      "    Brook, NY: Stony Brook University, Department of Computer Science.\"\r\n",
      "  dataset_format: mat\r\n",
      "  destination_filenames: [smtp.mat]\r\n",
      "  destination_yaml: smtp_preprocessing.yaml\r\n",
      "  filename_in_folder: smtp.csv\r\n",
      "  filenames_to_concatenate: null\r\n",
      "  foldername: smtp\r\n",
      "  load_csv_arguments: {header: null}\r\n",
      "  name: smtp\r\n",
      "  short_description: null\r\n",
      "  url_yaml: https://raw.githubusercontent.com/jandeller/test/main/test13.yaml\r\n",
      "  urls_dataset: ['https://www.dropbox.com/s/dbv2u4830xri7og/smtp.mat?dl=1']\r\n",
      "spambase:\r\n",
      "  class_labels: last\r\n",
      "  credits: 'Dua, D. and Graff, C. (2019). UCI Machine Learning Repository [http://archive.ics.uci.edu/ml].\r\n",
      "    Irvine, CA: University of California, School of Information and Computer Science.'\r\n",
      "  dataset_format: csv\r\n",
      "  destination_filenames: [spambase.csv]\r\n",
      "  destination_yaml: spambase_preprocessing.yaml\r\n",
      "  filename_in_folder: spambase.csv\r\n",
      "  filenames_to_concatenate: null\r\n",
      "  foldername: spambase\r\n",
      "  load_csv_arguments: {header: null}\r\n",
      "  name: spambase\r\n",
      "  short_description: null\r\n",
      "  url_yaml: https://raw.githubusercontent.com/jandeller/test/main/test2.yaml\r\n",
      "  urls_dataset: ['https://archive.ics.uci.edu/ml/machine-learning-databases/spambase/spambase.data']\r\n",
      "thyroid:\r\n",
      "  class_labels: last\r\n",
      "  credits: \"Dataset provided by OODS on http://odds.cs.stonybrook.edu/thyroid-disease-dataset/.\r\n",
      "    If you use this for publications, please keep the publication policy in mind (http://odds.cs.stonybrook.edu/about-odds/).\r\n",
      "    \\n Shebuti Rayana (2016).  ODDS Library [http://odds.cs.stonybrook.edu]. Stony\r\n",
      "    Brook, NY: Stony Brook University, Department of Computer Science.\"\r\n",
      "  dataset_format: mat_old\r\n",
      "  destination_filenames: [thyroid.mat]\r\n",
      "  destination_yaml: thyroid_preprocessing.yaml\r\n",
      "  filename_in_folder: thyroid.csv\r\n",
      "  filenames_to_concatenate: null\r\n",
      "  foldername: thyroid\r\n",
      "  load_csv_arguments: {header: null}\r\n",
      "  name: thyroid\r\n",
      "  short_description: null\r\n",
      "  url_yaml: https://raw.githubusercontent.com/jandeller/test/main/test13.yaml\r\n",
      "  urls_dataset: ['https://www.dropbox.com/s/bih0e15a0fukftb/thyroid.mat?dl=1']\r\n",
      "vertebral:\r\n",
      "  class_labels: last\r\n",
      "  credits: \"Dataset provided by OODS on http://odds.cs.stonybrook.edu/vertebral-dataset/.\r\n",
      "    If you use this for publications, please keep the publication policy in mind (http://odds.cs.stonybrook.edu/about-odds/).\r\n",
      "    \\n Shebuti Rayana (2016).  ODDS Library [http://odds.cs.stonybrook.edu]. Stony\r\n",
      "    Brook, NY: Stony Brook University, Department of Computer Science.\"\r\n",
      "  dataset_format: mat_old\r\n",
      "  destination_filenames: [vertebral.mat]\r\n",
      "  destination_yaml: vertebral_preprocessing.yaml\r\n",
      "  filename_in_folder: vertebral.csv\r\n",
      "  filenames_to_concatenate: null\r\n",
      "  foldername: vertebral\r\n",
      "  load_csv_arguments: {header: null}\r\n",
      "  name: vertebral\r\n",
      "  short_description: null\r\n",
      "  url_yaml: https://raw.githubusercontent.com/jandeller/test/main/test13.yaml\r\n",
      "  urls_dataset: ['https://www.dropbox.com/s/5kuqb387sgvwmrb/vertebral.mat?dl=1']\r\n",
      "wilt:\r\n",
      "  class_labels: first\r\n",
      "  credits: 'Dua, D. and Graff, C. (2019). UCI Machine Learning Repository [http://archive.ics.uci.edu/ml].\r\n",
      "    Irvine, CA: University of California, School of Information and Computer Science.'\r\n",
      "  dataset_format: zip\r\n",
      "  destination_filenames: [wilt.zip]\r\n",
      "  destination_yaml: wilt_preprocessing.yaml\r\n",
      "  filename_in_folder: wilt.csv\r\n",
      "  filenames_to_concatenate: [training.csv, testing.csv]\r\n",
      "  foldername: wilt\r\n",
      "  load_csv_arguments: {header: 0}\r\n",
      "  name: wilt\r\n",
      "  short_description: null\r\n",
      "  url_yaml: https://raw.githubusercontent.com/jandeller/test/main/test3.yaml\r\n",
      "  urls_dataset: ['https://archive.ics.uci.edu/ml/machine-learning-databases/00285/wilt.zip']\r\n",
      "wine:\r\n",
      "  class_labels: first\r\n",
      "  credits: 'Dua, D. and Graff, C. (2019). UCI Machine Learning Repository [http://archive.ics.uci.edu/ml].\r\n",
      "    Irvine, CA: University of California, School of Information and Computer Science.'\r\n",
      "  dataset_format: csv\r\n",
      "  destination_filenames: [wine.csv]\r\n",
      "  destination_yaml: wine_preprocessing.yaml\r\n",
      "  filename_in_folder: wine.csv\r\n",
      "  filenames_to_concatenate: null\r\n",
      "  foldername: wine\r\n",
      "  load_csv_arguments: {header: null}\r\n",
      "  name: wine\r\n",
      "  short_description: In accordance with http://odds.cs.stonybrook.edu/wine-dataset/,\r\n",
      "    labels 2 and 3 are normal, label 1 is anomalous.\r\n",
      "  url_yaml: https://raw.githubusercontent.com/jandeller/test/main/test7.yaml\r\n",
      "  urls_dataset: ['https://archive.ics.uci.edu/ml/machine-learning-databases/wine/wine.data']\r\n"
     ]
    }
   ],
   "source": [
    "# ID 6(1)\n",
    "!cat {datasets_yaml_path}"
   ]
  },
  {
   "cell_type": "code",
   "execution_count": 95,
   "id": "Jap0jcY8JQwb",
   "metadata": {
    "id": "Jap0jcY8JQwb",
    "outputId": "56d80fce-d7ea-4693-aa71-41e58b766d07"
   },
   "outputs": [
    {
     "name": "stdout",
     "output_type": "stream",
     "text": [
      "Dataset added and loaded!!!\n",
      "{'myTabularDataset': <oab.data.classification_dataset.ClassificationDataset object at 0x7fc919e19850>}\n"
     ]
    }
   ],
   "source": [
    "#ID 7(1)\n",
    "\n",
    "\n",
    "### ADD OWN DATASET(S) DETAILS ###   see #ID 3(1) for exact parameters which are to be entered\n",
    "\n",
    "own_datasets_info= [{\n",
    "                        'dataset_name':'myTabularDataset',\n",
    "                    }]\n",
    "\n",
    "\n",
    " # 'myTabularDataset' is the name of the Dataset(which the user loads for benchmarking)\n",
    "### Add more dictionaries to the list `own_datasets_info` with datasets information like example below\n",
    "                   #           { \n",
    "                   #               'dataset_name':'XYZDataset'\n",
    "                   #               'filenames_to_concatenate':['train_example.csv','test_example.csv']\n",
    "                   #               'dataset_format':'csv'         (type of dataset file , by default=\"csv\")\n",
    "                   #               'class_labels':'last'          ( Which is the \"lables\" column , default=\"last\" )\n",
    "                   #               'csv_header': 0                (by default 0, specifies the first row to be column headers)\n",
    "                   #                'urls_dataset':\"https://mydataset-url.com\"    (If user want's to download the dataset via url)\n",
    "                   #                'destination_filenames':[XYZDataset.mat]      (The name of file(s) to download at the url provided )\n",
    "                   #              }\n",
    "                \n",
    "  \n",
    "\n",
    "\n",
    "\n",
    "### ADD DATASETNAME(S) FROM OAB'S DATASETS HERE ###\n",
    "\n",
    "benchmark_datasets_list=['spambase']   # More of OAB's datasets can be added to this list\n",
    "\n",
    "\n",
    "\n",
    "\n",
    "## contains dataset objects of own_datasets_list as well as benchmark_datasets_list   \n",
    "datasets={}\n",
    "\n",
    "\n",
    "# Adding and Loading own datasets\n",
    "for dataset_details in own_datasets_info:\n",
    "     dataset_details['datasets_yaml_path']=datasets_yaml_path\n",
    "     dataset_details['dataset_folder']=dataset_folder\n",
    "     datasets[dataset_details['dataset_name']]=load_own_tabular_dataset(**dataset_details)\n",
    "     print(\"Dataset added and loaded!!!\")\n",
    "\n",
    "print(datasets)\n"
   ]
  },
  {
   "cell_type": "markdown",
   "id": "c0c1bdac",
   "metadata": {
    "id": "c0c1bdac"
   },
   "source": [
    "# **2. DATA SELECTION**"
   ]
  },
  {
   "cell_type": "markdown",
   "id": "NZ9L0Cc-NPsB",
   "metadata": {
    "id": "NZ9L0Cc-NPsB"
   },
   "source": [
    "\n",
    "Datasets can either be loaded directly as anomaly datasets or as classification datasets. In the former case, the dataset is automatically fully prepared and ready for sampling. In the latter case, further preprocessing is still possible and necessary.\n",
    "\n"
   ]
  },
  {
   "cell_type": "markdown",
   "id": "f11dpL-kh5qX",
   "metadata": {
    "id": "f11dpL-kh5qX"
   },
   "source": [
    "**After adding and loading own dataset(s) in #ID 7(1) and now the user is able to select other benchmarking datasets :**\n",
    "\n",
    "Now,  we'll have a look at all the datasets again which are pre-installed in OAB, so that they can be chosen for the benchmark run."
   ]
  },
  {
   "cell_type": "code",
   "execution_count": 96,
   "id": "BkZNi850qMy6",
   "metadata": {
    "id": "BkZNi850qMy6"
   },
   "outputs": [
    {
     "name": "stdout",
     "output_type": "stream",
     "text": [
      "0.NASA_ground_data\n",
      "1.annthyroid\n",
      "2.arrhytmia\n",
      "3.boston\n",
      "4.breastw\n",
      "5.cardio\n",
      "6.forest_cover\n",
      "7.http\n",
      "8.ionosphere\n",
      "9.mammography\n",
      "10.musk\n",
      "11.myTabularDataset\n",
      "12.myTabularDataset2\n",
      "13.optdigits\n",
      "14.page-blocks\n",
      "15.pendigits\n",
      "16.pima\n",
      "17.pulsar_star\n",
      "18.shuttle\n",
      "19.smtp\n",
      "20.spambase\n",
      "21.thyroid\n",
      "22.vertebral\n",
      "23.wilt\n",
      "24.wine\n"
     ]
    }
   ],
   "source": [
    "#ID 8(2)\n",
    "\n",
    "\n",
    "for i in get_tabular_dataset_names(datasets_yaml_path):\n",
    "    print(f\"{i[0]}.{i[1]}\")\n"
   ]
  },
  {
   "cell_type": "markdown",
   "id": "jZrY4gxINSqv",
   "metadata": {
    "id": "jZrY4gxINSqv"
   },
   "source": [
    "### **2.1 Load anomaly detection datasets (with or without further preprocessing)**"
   ]
  },
  {
   "cell_type": "markdown",
   "id": "1GoNZY8YNSu0",
   "metadata": {
    "id": "1GoNZY8YNSu0"
   },
   "source": [
    "In this section, we load some pre-installed data sets. This can be achieved using the `load_dataset` function. By default, it creates an anomaly dataset from which sampling is directly possible  but we can first create classsifcation dataset and then anomaly dataset,either with the preprocessing applied (`preprocess_classification_dataset=True`) i.e. standard or custom operations like treat_missing_values,delete_columns,etc. are performed, or without (`preprocess_classification_dataset=False`, default).\n",
    "\n",
    "`In our case` we set have already imported own datasets with `anomaly_dataset=False ` and `preprocess_classification_dataset=False` in <b>#ID 7(1)</b> and we will also load the OAB datasets in the same way in <b>#ID 9(2)</b>\n",
    "\n",
    "Note that as discussed in the paper, multiclass classification datasets like `spambase` and `annthyroid` are loaded with the class label `0` as normal label and all other labels as anomaly labels by default. (Alternatively, `oab` can automatically iterate through all classes as normal classes. This is not covered here."
   ]
  },
  {
   "cell_type": "code",
   "execution_count": 97,
   "id": "6VrjgVJANX8V",
   "metadata": {
    "id": "6VrjgVJANX8V",
    "outputId": "2608f64a-9804-41e0-e8be-5656206565d9"
   },
   "outputs": [
    {
     "name": "stdout",
     "output_type": "stream",
     "text": [
      "Credits: Dua, D. and Graff, C. (2019). UCI Machine Learning Repository [http://archive.ics.uci.edu/ml]. Irvine, CA: University of California, School of Information and Computer Science.\n"
     ]
    }
   ],
   "source": [
    "#ID 9(2)\n",
    "\n",
    "\n",
    "for dataset_name in benchmark_datasets_list:  # loading benchmark's datasets\n",
    "    datasets[dataset_name]=load_dataset(dataset_name,anomaly_dataset=False,preprocess_classification_dataset=False,dataset_folder=dataset_folder)\n"
   ]
  },
  {
   "cell_type": "code",
   "execution_count": 98,
   "id": "ccef847a",
   "metadata": {},
   "outputs": [
    {
     "name": "stdout",
     "output_type": "stream",
     "text": [
      "{'myTabularDataset': <oab.data.classification_dataset.ClassificationDataset object at 0x7fc919e19850>, 'spambase': <oab.data.classification_dataset.ClassificationDataset object at 0x7fc91f3da150>}\n"
     ]
    }
   ],
   "source": [
    "#ID 10(2)\n",
    "\n",
    "print(datasets)"
   ]
  },
  {
   "cell_type": "markdown",
   "id": "7ad12196",
   "metadata": {
    "id": "7ad12196"
   },
   "source": [
    "# **3. PREPROCESSING**"
   ]
  },
  {
   "cell_type": "markdown",
   "id": "Balwbv2ANnT-",
   "metadata": {
    "id": "Balwbv2ANnT-"
   },
   "source": [
    "Standard preprocessing steps like deleting columns, encoding categorical values differently, or removing missing values can be performed  to tabular data. Therefore, these methods (as well as own preprocessing steps and how these are captured) are covered here in this section.\n",
    "\n",
    "Here, we only show two preprocessing steps that are applied to datasets in `preprocess_datasets`(loaded in 2.2), which can also be performed individually depending upon requirement :\n",
    "- Perform `Standard Preprocessing functions`.\n",
    "- `Transform the dataset into an anomaly dataset`"
   ]
  },
  {
   "cell_type": "code",
   "execution_count": 99,
   "id": "FhPX8wPfNmwF",
   "metadata": {
    "id": "FhPX8wPfNmwF",
    "outputId": "ec16404b-0d29-4bae-e5c9-e4ee5e438d0d"
   },
   "outputs": [],
   "source": [
    "#ID 11(3)                            SCALING APPLIED\n",
    "\n",
    "#used imports from #ID 2(1)                                          \n",
    "for dataset_name in datasets:\n",
    "    \n",
    "    \n",
    "    datasets[dataset_name].treat_missing_values()\n",
    "    datasets[dataset_name].normalize_columns()\n",
    "    datasets[dataset_name].delete_duplicates()\n",
    "    operations=datasets[dataset_name].operations_performed\n",
    "    dataset_info_store(dataset_name,new_recipe_path,info_type='standard_functions',content=operations) \n",
    "   \n",
    "\n",
    "\n",
    "#print(\"preprocesing performed on datasets! \")    \n",
    "#print(datasets)"
   ]
  },
  {
   "cell_type": "markdown",
   "id": "IZUpLqmtsyGc",
   "metadata": {
    "id": "IZUpLqmtsyGc"
   },
   "source": [
    "The file <b>f\"{time}-{benchmark_name}-{benchmark_type}-recipe.yaml\"</b> now contains information about how to preprocess(i.e. perform scaling) the file "
   ]
  },
  {
   "cell_type": "code",
   "execution_count": 100,
   "id": "DWm4l0mUstgE",
   "metadata": {
    "id": "DWm4l0mUstgE",
    "outputId": "5519f8cf-7f05-4a88-8c53-75382ee30475"
   },
   "outputs": [
    {
     "name": "stdout",
     "output_type": "stream",
     "text": [
      "myTabularDataset:\r\n",
      "- dataset\r\n",
      "- standard_functions:\r\n",
      "  - name: treat_missing_values\r\n",
      "    parameters:\r\n",
      "      missing_value: np.nan\r\n",
      "      delete_attributes: true\r\n",
      "  - name: normalize_columns\r\n",
      "    parameters:\r\n",
      "      cols_to_normalize:\r\n",
      "  - name: delete_duplicates\r\n",
      "    parameters: {}\r\n",
      "spambase:\r\n",
      "- dataset\r\n",
      "- standard_functions:\r\n",
      "  - name: treat_missing_values\r\n",
      "    parameters:\r\n",
      "      missing_value: np.nan\r\n",
      "      delete_attributes: true\r\n",
      "  - name: normalize_columns\r\n",
      "    parameters:\r\n",
      "      cols_to_normalize:\r\n",
      "  - name: delete_duplicates\r\n",
      "    parameters: {}\r\n"
     ]
    }
   ],
   "source": [
    "#ID 12(3)\n",
    "\n",
    "!cat {new_recipe_path}"
   ]
  },
  {
   "cell_type": "code",
   "execution_count": 101,
   "id": "ZSTGiI5Qsi6e",
   "metadata": {
    "id": "ZSTGiI5Qsi6e",
    "outputId": "9ea47a01-a842-44ff-d192-6cd9e1627b16"
   },
   "outputs": [
    {
     "name": "stdout",
     "output_type": "stream",
     "text": [
      "datasets after adding anomaly-conversion datasets: \n",
      "{'myTabularDataset': <oab.data.unsupervised.UnsupervisedAnomalyDataset object at 0x7fc919d88d90>, 'spambase': <oab.data.unsupervised.UnsupervisedAnomalyDataset object at 0x7fc918089250>}\n"
     ]
    }
   ],
   "source": [
    "#ID 13(3)                            ANOMALY-DATASET CONVERSION PERFORMED\n",
    "\n",
    "#used import from #ID 2 \n",
    "\n",
    "\n",
    "#recipe_path=f\"{benchmark_name}/{time}_{benchmark_name}_recipe.yaml\"                                           \n",
    "\n",
    "datasets_ad={}    \n",
    "    # for storing dataset objects converted to anomaly-dataset\n",
    "for dataset_name in datasets:   \n",
    "    \n",
    "     datasets_ad[dataset_name]= UnsupervisedAnomalyDataset(classification_dataset=datasets[dataset_name],\n",
    "                                                       normal_labels=0)  \n",
    "   \n",
    "     normal_labels=datasets_ad[dataset_name].normal_labels \n",
    "     dataset_info_store(dataset_name,new_recipe_path,info_type='anomaly_dataset',content=normal_labels)   \n",
    "                                                                            \n",
    "print(\"datasets after adding anomaly-conversion datasets: \")    \n",
    "print(datasets_ad)"
   ]
  },
  {
   "cell_type": "code",
   "execution_count": 102,
   "id": "4HSf5lCJczbu",
   "metadata": {
    "colab": {
     "base_uri": "https://localhost:8080/"
    },
    "id": "4HSf5lCJczbu",
    "outputId": "8573e270-eb3c-4c2e-e399-084b104a21b9"
   },
   "outputs": [
    {
     "name": "stdout",
     "output_type": "stream",
     "text": [
      "myTabularDataset:\r\n",
      "- dataset\r\n",
      "- standard_functions:\r\n",
      "  - name: treat_missing_values\r\n",
      "    parameters:\r\n",
      "      missing_value: np.nan\r\n",
      "      delete_attributes: true\r\n",
      "  - name: normalize_columns\r\n",
      "    parameters:\r\n",
      "      cols_to_normalize:\r\n",
      "  - name: delete_duplicates\r\n",
      "    parameters: {}\r\n",
      "- anomaly_dataset:\r\n",
      "    arguments:\r\n",
      "      normal_labels:\r\n",
      "      - 0\r\n",
      "      anomaly_labels:\r\n",
      "spambase:\r\n",
      "- dataset\r\n",
      "- standard_functions:\r\n",
      "  - name: treat_missing_values\r\n",
      "    parameters:\r\n",
      "      missing_value: np.nan\r\n",
      "      delete_attributes: true\r\n",
      "  - name: normalize_columns\r\n",
      "    parameters:\r\n",
      "      cols_to_normalize:\r\n",
      "  - name: delete_duplicates\r\n",
      "    parameters: {}\r\n",
      "- anomaly_dataset:\r\n",
      "    arguments:\r\n",
      "      normal_labels:\r\n",
      "      - 0\r\n",
      "      anomaly_labels:\r\n"
     ]
    }
   ],
   "source": [
    "#ID 14(3)\n",
    "\n",
    "!cat {new_recipe_path}"
   ]
  },
  {
   "cell_type": "markdown",
   "id": "4f600e5a",
   "metadata": {
    "id": "4f600e5a"
   },
   "source": [
    "# **4. SAMPLING**"
   ]
  },
  {
   "cell_type": "markdown",
   "id": "f817a6ab",
   "metadata": {
    "id": "f817a6ab"
   },
   "source": [
    "Here, we define the sampling parameters to sample from the datasets"
   ]
  },
  {
   "cell_type": "code",
   "execution_count": 103,
   "id": "6bae62b9",
   "metadata": {
    "id": "6bae62b9",
    "outputId": "eb1b0b03-efa8-46d7-99fd-34dc771313e2"
   },
   "outputs": [
    {
     "name": "stdout",
     "output_type": "stream",
     "text": [
      "[{'unsupervised_multiple': {'n': 25, 'contamination_rate': 0.05, 'n_steps': 10, 'apply_random_seed': True, 'keep_frequency_ratio_normals': False, 'equal_frequency_normals': False, 'keep_frequency_ratio_anomalies': False, 'equal_frequency_anomalies': False, 'flatten_images': False, 'shuffle': True, 'include_description': True}}]\n"
     ]
    }
   ],
   "source": [
    "#ID 15(4)\n",
    "\n",
    "### ADD YOUR OWN SAMPLING PARAMETERS ###\n",
    "\n",
    "# sampling parameters\n",
    "\n",
    "n=25                          #Number of data points to sample                    \n",
    "contamination_rate = 0.05         #Contamination rate when sampling, defaults to 0.05\n",
    "n_steps = 10        # n_steps=10  #Number of samples to take, i.e., number of times sampling is repeated, defaults to 10 \n",
    "\n",
    "\n",
    "#These below are the possible sampling types to sample from datasets\n",
    "sampling_types=['unsupervised_multiple','unsupervised_single','unsupervised_multiple_benchmark']\n",
    "\n",
    "\n",
    "sampling_type='unsupervised_multiple'  #by default for this run\n",
    "\n",
    "sampling_params_current_run=[{'n':n,'contamination_rate':contamination_rate,'n_steps':n_steps,\n",
    "                              'apply_random_seed': True,\n",
    "                             'keep_frequency_ratio_normals': False,\n",
    "                             'equal_frequency_normals': False,\n",
    "                             'keep_frequency_ratio_anomalies': False,\n",
    "                             'equal_frequency_anomalies': False,\n",
    "                             'flatten_images': False,\n",
    "                              'shuffle': True,\n",
    "                             'include_description': True\n",
    "                             },sampling_type]\n",
    "\n",
    "sampling=[{sampling_type:sampling_params_current_run[0]}]\n",
    "print(sampling)\n",
    "\n",
    "#storing sampling info to recipe\n",
    "for dataset_name in datasets_ad:\n",
    "    dataset_info_store(dataset_name,new_recipe_path,'sampling',content=sampling)\n",
    " "
   ]
  },
  {
   "cell_type": "markdown",
   "id": "ZpZe-6r6tdIl",
   "metadata": {
    "id": "ZpZe-6r6tdIl"
   },
   "source": [
    "The above sampling parameters are utilized in\n",
    "<b>#ID 23(5)</b> \n",
    "for sampling the datasets(except the pre-installed mv_tec_ad_datasets) before training the algorithms."
   ]
  },
  {
   "cell_type": "code",
   "execution_count": 104,
   "id": "2d171e56",
   "metadata": {
    "id": "2d171e56",
    "outputId": "82d3de15-5fbc-438b-f7ae-9398b17ec140"
   },
   "outputs": [
    {
     "name": "stdout",
     "output_type": "stream",
     "text": [
      "myTabularDataset:\r\n",
      "- dataset\r\n",
      "- standard_functions:\r\n",
      "  - name: treat_missing_values\r\n",
      "    parameters:\r\n",
      "      missing_value: np.nan\r\n",
      "      delete_attributes: true\r\n",
      "  - name: normalize_columns\r\n",
      "    parameters:\r\n",
      "      cols_to_normalize:\r\n",
      "  - name: delete_duplicates\r\n",
      "    parameters: {}\r\n",
      "- anomaly_dataset:\r\n",
      "    arguments:\r\n",
      "      normal_labels:\r\n",
      "      - 0\r\n",
      "      anomaly_labels:\r\n",
      "- sampling:\r\n",
      "    unsupervised_multiple:\r\n",
      "      n: 25\r\n",
      "      contamination_rate: 0.05\r\n",
      "      n_steps: 10\r\n",
      "      apply_random_seed: true\r\n",
      "      keep_frequency_ratio_normals: false\r\n",
      "      equal_frequency_normals: false\r\n",
      "      keep_frequency_ratio_anomalies: false\r\n",
      "      equal_frequency_anomalies: false\r\n",
      "      flatten_images: false\r\n",
      "      shuffle: true\r\n",
      "      include_description: true\r\n",
      "spambase:\r\n",
      "- dataset\r\n",
      "- standard_functions:\r\n",
      "  - name: treat_missing_values\r\n",
      "    parameters:\r\n",
      "      missing_value: np.nan\r\n",
      "      delete_attributes: true\r\n",
      "  - name: normalize_columns\r\n",
      "    parameters:\r\n",
      "      cols_to_normalize:\r\n",
      "  - name: delete_duplicates\r\n",
      "    parameters: {}\r\n",
      "- anomaly_dataset:\r\n",
      "    arguments:\r\n",
      "      normal_labels:\r\n",
      "      - 0\r\n",
      "      anomaly_labels:\r\n",
      "- sampling:\r\n",
      "    unsupervised_multiple:\r\n",
      "      n: 25\r\n",
      "      contamination_rate: 0.05\r\n",
      "      n_steps: 10\r\n",
      "      apply_random_seed: true\r\n",
      "      keep_frequency_ratio_normals: false\r\n",
      "      equal_frequency_normals: false\r\n",
      "      keep_frequency_ratio_anomalies: false\r\n",
      "      equal_frequency_anomalies: false\r\n",
      "      flatten_images: false\r\n",
      "      shuffle: true\r\n",
      "      include_description: true\r\n"
     ]
    }
   ],
   "source": [
    "# ID 16(4)\n",
    "!cat {new_recipe_path}"
   ]
  },
  {
   "cell_type": "markdown",
   "id": "73bbba70",
   "metadata": {
    "id": "73bbba70"
   },
   "source": [
    "Now, we will associate sampling information with each dataset loaded in the benchmark run:"
   ]
  },
  {
   "cell_type": "code",
   "execution_count": 105,
   "id": "3a49db16",
   "metadata": {
    "id": "3a49db16",
    "outputId": "a83a0e73-9603-4931-9bc3-542c2931d517"
   },
   "outputs": [
    {
     "name": "stdout",
     "output_type": "stream",
     "text": [
      "{'myTabularDataset': [<oab.data.unsupervised.UnsupervisedAnomalyDataset object at 0x7fc919d88d90>, [{'n': 25, 'contamination_rate': 0.05, 'n_steps': 10, 'apply_random_seed': True, 'keep_frequency_ratio_normals': False, 'equal_frequency_normals': False, 'keep_frequency_ratio_anomalies': False, 'equal_frequency_anomalies': False, 'flatten_images': False, 'shuffle': True, 'include_description': True}, 'unsupervised_multiple']], 'spambase': [<oab.data.unsupervised.UnsupervisedAnomalyDataset object at 0x7fc918089250>, [{'n': 25, 'contamination_rate': 0.05, 'n_steps': 10, 'apply_random_seed': True, 'keep_frequency_ratio_normals': False, 'equal_frequency_normals': False, 'keep_frequency_ratio_anomalies': False, 'equal_frequency_anomalies': False, 'flatten_images': False, 'shuffle': True, 'include_description': True}, 'unsupervised_multiple']]}\n"
     ]
    }
   ],
   "source": [
    "#ID 17(4)\n",
    "benchmarking_datasets={}\n",
    "\n",
    "for (x,y) in datasets_ad.items():\n",
    "    benchmarking_datasets[x]=[y,sampling_params_current_run]\n",
    "\n",
    "\n",
    "print(benchmarking_datasets)    "
   ]
  },
  {
   "cell_type": "markdown",
   "id": "e248c3ad",
   "metadata": {
    "id": "e248c3ad"
   },
   "source": [
    "The above dictionary <b>benchmarking_datasets</b> will be used for the Benchmarking as it contains all the information:\"\n",
    "    \n",
    "    \n",
    "    1.dataset_name\n",
    "    2.final_dataset_object(preprocessed and anomaly-converted)\n",
    "    3.sampling_info"
   ]
  },
  {
   "cell_type": "markdown",
   "id": "babd1b0f",
   "metadata": {
    "id": "babd1b0f"
   },
   "source": [
    "\n",
    "\n",
    "# **5. ALGORITHM TRAINING AND TESTING**"
   ]
  },
  {
   "cell_type": "markdown",
   "id": "34fc1ff5",
   "metadata": {},
   "source": [
    "<b>To load own algorithm(s), refer to #ID 33(9) and #ID 34(9)</b> where an example algorithm is loaded, then \n",
    "\n",
    "come back to this cell  and <b>load own algorithm(s) details in #ID 17(5),#ID 18(5) AND #ID 19(5)</b> in the same way as benchmark algorithms."
   ]
  },
  {
   "cell_type": "markdown",
   "id": "tjmqC3lBaMwX",
   "metadata": {
    "id": "tjmqC3lBaMwX"
   },
   "source": [
    "We first download and import algorithms used for anomaly decection."
   ]
  },
  {
   "cell_type": "code",
   "execution_count": 106,
   "id": "OZFq2XBfaMRN",
   "metadata": {
    "id": "OZFq2XBfaMRN",
    "outputId": "120455e9-8fb6-470a-cc1e-6863866be335"
   },
   "outputs": [
    {
     "name": "stdout",
     "output_type": "stream",
     "text": [
      "\r",
      "  0% [                                                            ]    0 / 2486\r",
      "100% [............................................................] 2486 / 2486"
     ]
    }
   ],
   "source": [
    "#ID 18(5)\n",
    "\n",
    "\n",
    "\n",
    "\n",
    "# import anomaly detection algorithms from pyod\n",
    "from pyod.models.knn import KNN \n",
    "from pyod.models.lof import LOF\n",
    "from pyod.models.iforest import IForest\n",
    "from pyod.models.abod import ABOD\n",
    "from pyod.models.auto_encoder import AutoEncoder\n",
    "\n",
    "import wget\n",
    "wget.download('https://raw.githubusercontent.com/ISDM-CAU-Kiel/oab/master/notebooks/benchmark_tabular/ae_lof.py', \"ae_lof.py\")\n",
    "from notebooks.benchmark_tabular.ae_lof import AELOF\n",
    "\n",
    "\n",
    "### ADD your algo import here ###\n"
   ]
  },
  {
   "cell_type": "markdown",
   "id": "637590bb",
   "metadata": {
    "id": "637590bb"
   },
   "source": [
    "Firstly, we define hyperparameters for all algorithms and choose for benchmarking:"
   ]
  },
  {
   "cell_type": "code",
   "execution_count": 107,
   "id": "eef70b70",
   "metadata": {
    "id": "eef70b70"
   },
   "outputs": [],
   "source": [
    "#ID 19(5)\n",
    "\n",
    "  \n",
    "### Extend Algos dictionary with own algorithm specifications as shown below for OAB algorithms ###   \n",
    "\n",
    "### ADD YOUR OWN (HYPER)PARAMETERS AND THEIR VALUES FOR PRE-INSTALLED ALGOS###\n",
    "\n",
    "# KNN\n",
    "knn_factor = 0.05\n",
    "knn_minimum = 10\n",
    "\n",
    "\n",
    "# LOF\n",
    "lof_factor = 0.1\n",
    "lof_minimum = 10\n",
    "\n",
    "# ABOD\n",
    "abod_factor = 0.01\n",
    "abod_minimum = 10\n",
    "\n",
    "\n",
    "\n",
    "lst_benchmark_algorithms =[\n",
    "   {   \n",
    "       \"algo_module_name\": \"pyod.models.knn\" , \n",
    "       \"algo_class_name\": \"KNN\",\n",
    "       \"algo_name_in_result_table\": \"KNN\",\n",
    "       \"algo_parameters\": {'n_neighbors': {'knn_factor':0.05 ,'knn_minimum':10 }},\n",
    "       \"fit\": {'method_name': 'fit', 'params': {}}, \n",
    "       \"decision_scores\": {'field_name': 'decision_scores_'}\n",
    "    }   \n",
    "    \n",
    "\n",
    "]\n",
    "''' ### uncomment to use these algos below for benchmarking ###\n",
    "       ,\n",
    "        \n",
    "        {\n",
    "       \"algo_module_name\": \"pyod.models.iforest\",   \n",
    "       \"algo_class_name\": \"IForest\",\n",
    "       \"algo_name_in_result_table\": \"IForest\",    \n",
    "       \"algo_parameters\": {'random_state': 42} ,\n",
    "        \"fit\": {'method_name': 'fit', 'params': {}}, \n",
    "        \"decision_scores\": {'field_name': 'decision_scores_'}\n",
    "        },\n",
    "        \n",
    "        {\n",
    "       \"algo_module_name\": \"pyod.models.auto_encoder\"   ,\n",
    "       \"algo_class_name\": \"AutoEncoder\",\n",
    "       \"algo_name_in_result_table\": \"AutoEncoder\",\n",
    "       \"algo_parameters\":   {'hidden_neurons':[6,3,3,6], 'random_state': 42, 'verbose': 0},\n",
    "        \"fit\": {'method_name': 'fit', 'params': {}}, \n",
    "       \"decision_scores\": {'field_name': 'decision_scores_'}\n",
    "       } ,\n",
    "       {   \n",
    "       \"algo_module_name\": \"pyod.models.abod\" , \n",
    "       \"algo_class_name\": \"ABOD\",\n",
    "       \"algo_name_in_result_table\": \"ABOD\", \n",
    "       \"algo_parameters\": {'n_neighbors':{'abod_factor':00.1 ,'abod_minimum':10 }}, \n",
    "       \"fit\": {'method_name': 'fit', 'params': {}}, \n",
    "       \"decision_scores\": {'field_name': 'decision_scores_'}\n",
    "    } \n",
    "    ,\n",
    "    \n",
    "    {   \n",
    "       \"algo_module_name\": \"pyod.models.lof\" , \n",
    "       \"algo_class_name\": \"LOF\",\n",
    "       \"algo_name_in_result_table\": \"LOF\",\n",
    "       \"algo_parameters\":  {'n_neighbors': {'lof_factor':0.1 ,'lof_minimum':10 }},\n",
    "       \"fit\": {'method_name': 'fit', 'params': {}}, \n",
    "       \"decision_scores\": {'field_name': 'decision_scores_'}\n",
    "    }\n",
    "    ,\n",
    "    \n",
    "    {   \n",
    "       \"algo_module_name\": \"aelof\" , \n",
    "       \"algo_class_name\": \"AELOF\",\n",
    "       \"algo_name_in_result_table\": \"AELOF\", \n",
    "       \"algo_parameters\": {'AE_parameters':{'hidden_neurons':[6,3,3,6], 'random_state': 42, 'verbose': 0},\n",
    "                            'LOF_parameters' : {'n_neighbors': {'lof_factor':0.1 ,'lof_minimum':10 }},\n",
    "                           'random_state': 42},\n",
    "    \n",
    "       \"fit\": {'method_name': 'fit', 'params': {}}, \n",
    "       \"decision_scores\": {'field_name': 'decision_scores_'}\n",
    "    }\n",
    "    \n",
    "    \n",
    "    \n",
    "]    \n",
    "    \n",
    "'''\n",
    "\n",
    "### ADD OWN ALGORITHMS NAME(S) with algorithm specifications as shown above for OAB algorithms ###   \n",
    "\n",
    "own_algorithms=[]  #add to this list e.g. { \"algo_module_name\": \"own_algo\" , \"algo_class_name\": \"ownAlgoClass\",..........\"decision_scores\": 'decision_scores_'} \n",
    "\n",
    "lst_benchmark_algorithms.extend(own_algorithms)\n",
    "\n",
    "\n",
    "#seed defined for ths benchmark run for obtaining consistent results \n",
    "seed=42"
   ]
  },
  {
   "cell_type": "markdown",
   "id": "00de5187",
   "metadata": {
    "id": "00de5187"
   },
   "source": [
    "<b>LOAD YOUR RECIPE</b> to be repdroduced and use it in the current benchmark run, lets,see  how it looks!"
   ]
  },
  {
   "cell_type": "code",
   "execution_count": 108,
   "id": "38327e77",
   "metadata": {
    "id": "38327e77",
    "outputId": "7a093a77-07f8-4945-ee16-c701c9fd3a56"
   },
   "outputs": [
    {
     "name": "stdout",
     "output_type": "stream",
     "text": [
      "annthyroid:\r\n",
      "- dataset\r\n",
      "- standard_functions:\r\n",
      "  - name: normalize_columns\r\n",
      "    parameters:\r\n",
      "      cols_to_normalize:\r\n",
      "      - 0\r\n",
      "      - 1\r\n",
      "  - name: treat_missing_values\r\n",
      "    parameters:\r\n",
      "      missing_value: np.nan\r\n",
      "      delete_attributes: true\r\n",
      "  - name: delete_duplicates\r\n",
      "    parameters: {}\r\n",
      "- anomaly_dataset:\r\n",
      "    arguments:\r\n",
      "      normal_labels: 0\r\n",
      "      anomaly_labels:\r\n",
      "- sampling:\r\n",
      "    unsupervised_multiple:\r\n",
      "      n: 25\r\n",
      "      contamination_rate: 0.05\r\n",
      "      n_steps: 10\r\n",
      "      flatten_images: false\r\n",
      "      apply_random_seed: true\r\n",
      "      keep_frequency_ratio_normals: false\r\n",
      "      equal_frequency_normals: false\r\n",
      "      keep_frequency_ratio_anomalies: false\r\n",
      "      equal_frequency_anomalies: false\r\n",
      "      shuffle: true\r\n",
      "      include_description: true\r\n",
      "myTabularDataset2:\r\n",
      "- dataset\r\n",
      "- standard_functions:\r\n",
      "  - name: normalize_columns\r\n",
      "    parameters:\r\n",
      "      cols_to_normalize:\r\n",
      "      - 0\r\n",
      "      - 1\r\n",
      "  - name: treat_missing_values\r\n",
      "    parameters:\r\n",
      "      missing_value: np.nan\r\n",
      "      delete_attributes: true\r\n",
      "  - name: delete_duplicates\r\n",
      "    parameters: {}\r\n",
      "- anomaly_dataset:\r\n",
      "    arguments:\r\n",
      "      normal_labels: 0\r\n",
      "      anomaly_labels:\r\n",
      "- sampling:\r\n",
      "    unsupervised_multiple:\r\n",
      "      n: 25\r\n",
      "      contamination_rate: 0.05\r\n",
      "      n_steps: 10\r\n",
      "      flatten_images: false\r\n",
      "      apply_random_seed: true\r\n",
      "      keep_frequency_ratio_normals: false\r\n",
      "      equal_frequency_normals: false\r\n",
      "      keep_frequency_ratio_anomalies: false\r\n",
      "      equal_frequency_anomalies: false\r\n",
      "      shuffle: true\r\n",
      "      include_description: true\r\n",
      "pyod.models.abod:\r\n",
      "- algo_name\r\n",
      "- init:\r\n",
      "    params:\r\n",
      "      n_neighbors:\r\n",
      "        abod_factor: 0.1\r\n",
      "        abod_minimum: 10\r\n",
      "  fit:\r\n",
      "    method_name: fit\r\n",
      "    params: {}\r\n",
      "  decision_scores:\r\n",
      "    field_name: decision_scores_\r\n",
      "- ABOD\r\n",
      "seed:\r\n",
      "- 42      \r\n"
     ]
    }
   ],
   "source": [
    "#ID 20(5)\n",
    "\n",
    "\n",
    "### ADD AN OPTIONAL RECIPE  PATH TO ADD TO THIS BENCHMARK RUN START ###   \n",
    "\n",
    "# Note: recipes of type \"unsupervised tabular(ust) \" i.e. of the format: \n",
    "#               \"timestamp-benchmark_name-ust-recipe.yaml\"\n",
    "# can only be used for benchmarking in this notebook.\n",
    "\n",
    "recipe_path=\"Paper_B/20211206060200-Paper_B-ust-recipe.yaml\"\n",
    "\n",
    "### ADD AN OPTIONAL RECIPE  PATH TO ADD TO THIS BENCHMARK RUN END ###   \n",
    "    \n",
    "### UNCOMMENT ONLY IF NO NEW DATASETS WERE ADDED IN THE BENCHMARK EXCEPT FROM RECIPE START ###     \n",
    "\n",
    "#benchmarking_datasets={}\n",
    "#lst_benchmark_algorithms=[]\n",
    "\n",
    "### UNCOMMENT ONLY IF NO NEW DATASETS WERE ADDED IN THE BENCHMARK EXCEPT FROM RECIPE END ###  \n",
    "\n",
    "!cat {recipe_path} \n"
   ]
  },
  {
   "cell_type": "code",
   "execution_count": 109,
   "id": "ddfbc65c",
   "metadata": {},
   "outputs": [
    {
     "name": "stdout",
     "output_type": "stream",
     "text": [
      "pyod.models.abod----\n",
      "\n",
      "\n",
      "annthyroid------\n",
      "standard/custom preprocessing performed.\n",
      "transformed to anomaly dataset.\n",
      "\n",
      "myTabularDataset2------\n",
      "standard/custom preprocessing performed.\n",
      "transformed to anomaly dataset.\n"
     ]
    }
   ],
   "source": [
    "#ID 21(5)    # Execute this cell only when you already have a recipe file  to load from \n",
    "\n",
    "\n",
    "recipe_algos=data_from_recipe('algos',recipe_path,dataset_folder=dataset_folder,datasets_yaml_path=datasets_yaml_path) # all algo names from recipe extracted\n",
    "#print(f\"recipe_algos:\\n{recipe_algos}\")\n",
    "\n",
    "recipe_datasets=data_from_recipe('datasets',recipe_path,dataset_folder=dataset_folder,datasets_yaml_path=datasets_yaml_path) # all dataset info(anomaly dataset object/anomalydataset params/sampling params) is perfomed and obtained\n",
    "#print(f\"\\nrecipe_datasets:\\n{recipe_datasets}\")\n",
    " \n",
    "recipe_seed=data_from_recipe('seed',recipe_path,dataset_folder=dataset_folder,datasets_yaml_path=datasets_yaml_path)  # obtained seeds to feed in this benchmark \n",
    "seed=recipe_seed   # seed of current benchmark is overwritten by recipe seed\n",
    "\n",
    "\n",
    "# adding recipe_datasets to benchmarking_datasets\n",
    "for dataset_name in recipe_datasets:\n",
    "    benchmarking_datasets[dataset_name]=recipe_datasets[dataset_name][:2]\n",
    "#print(f\"benchmarking_datasets: {benchmarking_datasets}\") \n",
    "                                         \n",
    "#adding algos from recipe_algos to lst_benchmarking_algos\n",
    "for algo in recipe_algos:\n",
    "    lst_benchmark_algorithms.append(algo)\n",
    "#print(lst_benchmark_algorithms)"
   ]
  },
  {
   "cell_type": "code",
   "execution_count": 110,
   "id": "4ef08908",
   "metadata": {
    "id": "4ef08908",
    "outputId": "55a09390-24c1-47e1-bab9-37a84891604e",
    "scrolled": false
   },
   "outputs": [
    {
     "name": "stdout",
     "output_type": "stream",
     "text": [
      "\n",
      "All Datasets for this benchmark run:\n",
      "myTabularDataset\n",
      "spambase\n",
      "annthyroid\n",
      "myTabularDataset2\n",
      "\n",
      "All algos for this benchmark run:\n",
      "pyod.models.knn\n",
      "pyod.models.abod\n"
     ]
    }
   ],
   "source": [
    "#ID 22(5)    \n",
    "\n",
    "  \n",
    "print(\"\\nAll Datasets for this benchmark run:\")    \n",
    "for dataset_name in benchmarking_datasets:\n",
    "    print(dataset_name)\n",
    "\n",
    "    \n",
    " \n",
    "print(\"\\nAll algos for this benchmark run:\")\n",
    "for algo in lst_benchmark_algorithms:\n",
    "    #print(algo)\n",
    "    print(algo['algo_module_name'])\n",
    "\n",
    "\n",
    "\n"
   ]
  },
  {
   "cell_type": "markdown",
   "id": "1eb76fd8",
   "metadata": {
    "id": "1eb76fd8"
   },
   "source": [
    "Now, For every benchmark dataset , we sample from that dataset to train the algorithms and then predict the outcomes for each dataset with each algortihm and then store results in a evaluation object, which is then added to the comparison object to show the final Benchmarking results"
   ]
  },
  {
   "cell_type": "code",
   "execution_count": 111,
   "id": "0763aeb2",
   "metadata": {
    "colab": {
     "base_uri": "https://localhost:8080/"
    },
    "id": "0763aeb2",
    "outputId": "5b15015f-6bb6-4d74-f7ea-5ba4e7082c91",
    "scrolled": true
   },
   "outputs": [
    {
     "name": "stdout",
     "output_type": "stream",
     "text": [
      "-------myTabularDataset-------\n",
      "------pyod.models.knn\n",
      "..........\n",
      "\n",
      "Evaluation on dataset myTabularDataset with normal labels [0] and anomaly labels [1, 2].\n",
      "Total of 10 datasets. Per dataset:\n",
      "25 instances, contamination_rate 0.05.\n",
      "Mean \t Std_dev \t Metric\n",
      "0.665 \t 0.149 \t\t roc_auc\n",
      "0.200 \t 0.205 \t\t adjusted_average_precision\n",
      "0.206 \t 0.195 \t\t precision_recall_auc\n",
      "\n",
      "\n",
      "------pyod.models.abod\n",
      "..........\n",
      "\n",
      "Evaluation on dataset myTabularDataset with normal labels [0] and anomaly labels [1, 2].\n",
      "Total of 10 datasets. Per dataset:\n",
      "25 instances, contamination_rate 0.05.\n",
      "Mean \t Std_dev \t Metric\n",
      "0.713 \t 0.188 \t\t roc_auc\n",
      "0.287 \t 0.236 \t\t adjusted_average_precision\n",
      "0.281 \t 0.230 \t\t precision_recall_auc\n",
      "\n",
      "\n",
      "-------spambase-------\n",
      "------pyod.models.knn\n",
      "..........\n",
      "\n",
      "Evaluation on dataset spambase with normal labels [0] and anomaly labels [1].\n",
      "Total of 10 datasets. Per dataset:\n",
      "25 instances, contamination_rate 0.05.\n",
      "Mean \t Std_dev \t Metric\n",
      "0.559 \t 0.135 \t\t roc_auc\n",
      "0.101 \t 0.071 \t\t adjusted_average_precision\n",
      "0.105 \t 0.035 \t\t precision_recall_auc\n",
      "\n",
      "\n",
      "------pyod.models.abod\n",
      "..........\n",
      "\n",
      "Evaluation on dataset spambase with normal labels [0] and anomaly labels [1].\n",
      "Total of 10 datasets. Per dataset:\n",
      "25 instances, contamination_rate 0.05.\n",
      "Mean \t Std_dev \t Metric\n",
      "0.561 \t 0.125 \t\t roc_auc\n",
      "0.118 \t 0.137 \t\t adjusted_average_precision\n",
      "0.137 \t 0.135 \t\t precision_recall_auc\n",
      "\n",
      "\n",
      "-------annthyroid-------\n",
      "------pyod.models.knn\n",
      "..........\n",
      "\n",
      "Evaluation on dataset annthyroid with normal labels [0] and anomaly labels [1.0].\n",
      "Total of 10 datasets. Per dataset:\n",
      "25 instances, contamination_rate 0.05.\n",
      "Mean \t Std_dev \t Metric\n",
      "0.473 \t 0.203 \t\t roc_auc\n",
      "0.065 \t 0.089 \t\t adjusted_average_precision\n",
      "0.090 \t 0.055 \t\t precision_recall_auc\n",
      "\n",
      "\n",
      "------pyod.models.abod\n",
      "..........\n",
      "\n",
      "Evaluation on dataset annthyroid with normal labels [0] and anomaly labels [1.0].\n",
      "Total of 10 datasets. Per dataset:\n",
      "25 instances, contamination_rate 0.05.\n",
      "Mean \t Std_dev \t Metric\n",
      "0.583 \t 0.252 \t\t roc_auc\n",
      "0.196 \t 0.222 \t\t adjusted_average_precision\n",
      "0.204 \t 0.203 \t\t precision_recall_auc\n",
      "\n",
      "\n",
      "-------myTabularDataset2-------\n",
      "------pyod.models.knn\n",
      "..........\n",
      "\n",
      "Evaluation on dataset myTabularDataset2 with normal labels [0] and anomaly labels [1, 2].\n",
      "Total of 10 datasets. Per dataset:\n",
      "25 instances, contamination_rate 0.05.\n",
      "Mean \t Std_dev \t Metric\n",
      "0.708 \t 0.161 \t\t roc_auc\n",
      "0.252 \t 0.200 \t\t adjusted_average_precision\n",
      "0.235 \t 0.192 \t\t precision_recall_auc\n",
      "\n",
      "\n",
      "------pyod.models.abod\n",
      "..........\n",
      "\n",
      "Evaluation on dataset myTabularDataset2 with normal labels [0] and anomaly labels [1, 2].\n",
      "Total of 10 datasets. Per dataset:\n",
      "25 instances, contamination_rate 0.05.\n",
      "Mean \t Std_dev \t Metric\n",
      "0.559 \t 0.317 \t\t roc_auc\n",
      "0.243 \t 0.244 \t\t adjusted_average_precision\n",
      "0.235 \t 0.210 \t\t precision_recall_auc\n",
      "\n",
      "\n"
     ]
    }
   ],
   "source": [
    "#ID 23(5)\n",
    "co = ComparisonObject()\n",
    "\n",
    "\n",
    "for dataset_name in list(benchmarking_datasets.keys()):\n",
    "    print(f'-------{dataset_name}-------') \n",
    "    \n",
    "    #print(mvtec_ad_own_datasets_list)\n",
    "    for alg in lst_benchmark_algorithms:\n",
    "        \n",
    "        print(\"------\"+alg[\"algo_module_name\"])\n",
    "        eval_obj = EvaluationObject(algorithm_name=alg[\"algo_name_in_result_table\"])\n",
    "        sampling_type=benchmarking_datasets[dataset_name][1][1]\n",
    "        sampling_params=benchmarking_datasets[dataset_name][1][0]\n",
    "        sampling_params['random_seed']=seed\n",
    "        \n",
    "        \n",
    "        for (x,y),sample_config in sample_v3(dataset_name,sampling_type,sampling_params,benchmarking_datasets[dataset_name][0]):\n",
    "                \n",
    "                algorithm_params=algo_params_tabular(alg,l=len(x))  \n",
    "                mod = __import__(alg[\"algo_module_name\"], fromlist=[alg[\"algo_class_name\"]])\n",
    "                algo = getattr(mod, alg[\"algo_class_name\"])(**algorithm_params)  \n",
    "                print('.', end='') # update to see progress \n",
    "                getattr(algo,alg[\"fit\"][\"method_name\"])(x, **alg[\"fit\"][\"params\"])  # fitting algo\n",
    "                pred= getattr(algo,alg[\"decision_scores\"][\"field_name\"]) #decision scores returned\n",
    "                eval_obj.add(ground_truth=y, prediction=pred, description=sample_config) \n",
    "                \n",
    "                \n",
    "        print(\"\\n\")    \n",
    "        eval_desc = eval_obj.evaluate(print=True, metrics=['roc_auc', 'adjusted_average_precision', 'precision_recall_auc'])\n",
    "        co.add_evaluation(eval_desc)\n",
    "        print(\"\\n\")\n",
    "      "
   ]
  },
  {
   "cell_type": "markdown",
   "id": "501c585e",
   "metadata": {
    "id": "501c585e"
   },
   "source": [
    "# **6. EVALUATION**"
   ]
  },
  {
   "cell_type": "markdown",
   "id": "e57beebf",
   "metadata": {
    "id": "e57beebf"
   },
   "source": [
    "Here , we will see how different metrics can be selected when evaluating an algorithm's performance."
   ]
  },
  {
   "cell_type": "markdown",
   "id": "d05bc232",
   "metadata": {
    "id": "d05bc232"
   },
   "source": [
    "In previous section while creating an evalutation description,  we used all metrics for evaluation:\n",
    "\n",
    "     eval_desc = eval_obj.evaluate(print=False, metrics=all_metrics)\n",
    "    \n",
    "    "
   ]
  },
  {
   "cell_type": "code",
   "execution_count": 112,
   "id": "f97869e2",
   "metadata": {
    "id": "f97869e2",
    "outputId": "5b7a7df0-c7d2-46cb-dbb7-06e29350ba0a"
   },
   "outputs": [
    {
     "name": "stdout",
     "output_type": "stream",
     "text": [
      "['roc_auc', 'average_precision', 'adjusted_average_precision', 'precision_n', 'adjusted_precision_n', 'precision_recall_auc']\n"
     ]
    }
   ],
   "source": [
    "#ID 24(6)\n",
    "\n",
    "# to use a subset, first see which ones are available\n",
    "\n",
    "print(all_metrics)"
   ]
  },
  {
   "cell_type": "code",
   "execution_count": 113,
   "id": "c32d570c",
   "metadata": {
    "id": "c32d570c"
   },
   "outputs": [],
   "source": [
    "#ID 25(6)\n",
    "\n",
    "#### ADD YOUR OWN NUMBER OF METRICS ###\n",
    "\n",
    "#Then we can  select an arbitrary subset\n",
    "metrics=['roc_auc', 'precision_recall_auc']"
   ]
  },
  {
   "cell_type": "markdown",
   "id": "39507d64",
   "metadata": {
    "id": "39507d64"
   },
   "source": [
    "# **7. SHOW BENCHMARK RESULTS**"
   ]
  },
  {
   "cell_type": "markdown",
   "id": "c97932df",
   "metadata": {
    "id": "c97932df"
   },
   "source": [
    "We compare by printing, the results of the evaluations of different Algo-Dataset combinations.\n",
    "\n",
    "\\[Latex version: bold for highest, italics for second highest, ?\\]"
   ]
  },
  {
   "cell_type": "code",
   "execution_count": 114,
   "id": "6e3a61a8",
   "metadata": {
    "id": "6e3a61a8",
    "outputId": "f5f765eb-3f2a-463b-b266-e00924cad805"
   },
   "outputs": [
    {
     "name": "stdout",
     "output_type": "stream",
     "text": [
      "For roc_auc:\n",
      "               myTabularDataset  spambase  annthyroid  myTabularDataset2  \\\n",
      "KNN                    0.665217  0.558696    0.472826           0.707609   \n",
      "ABOD                   0.713043  0.560870    0.582609           0.558696   \n",
      "RandomGuesser          0.584783  0.539130    0.506522           0.584783   \n",
      "Average                0.654348  0.552899    0.520652           0.617029   \n",
      "\n",
      "                Average  \n",
      "KNN            0.601087  \n",
      "ABOD           0.603804  \n",
      "RandomGuesser  0.553804  \n",
      "Average             NaN  \n",
      "For adjusted_average_precision:\n",
      "               myTabularDataset  spambase  annthyroid  myTabularDataset2  \\\n",
      "KNN                    0.200317  0.101028    0.064967           0.252017   \n",
      "ABOD                   0.287339  0.118019    0.195700           0.243091   \n",
      "RandomGuesser          0.205470  0.147791    0.085342           0.205470   \n",
      "Average                0.231042  0.122279    0.115337           0.233526   \n",
      "\n",
      "                Average  \n",
      "KNN            0.154582  \n",
      "ABOD           0.211037  \n",
      "RandomGuesser  0.161018  \n",
      "Average             NaN  \n",
      "For precision_recall_auc:\n",
      "               myTabularDataset  spambase  annthyroid  myTabularDataset2  \\\n",
      "KNN                    0.206437  0.104916    0.090065           0.235298   \n",
      "ABOD                   0.281038  0.137460    0.204139           0.235015   \n",
      "RandomGuesser          0.206753  0.175784    0.096060           0.206753   \n",
      "Average                0.231410  0.139387    0.130088           0.225689   \n",
      "\n",
      "                Average  \n",
      "KNN            0.159179  \n",
      "ABOD           0.214413  \n",
      "RandomGuesser  0.171338  \n",
      "Average             NaN  \n"
     ]
    }
   ],
   "source": [
    "#ID 26(7)\n",
    "\n",
    "# print results in easily readable format\n",
    "co.print_results()"
   ]
  },
  {
   "cell_type": "code",
   "execution_count": 115,
   "id": "6f3b0f46",
   "metadata": {
    "id": "6f3b0f46",
    "outputId": "3d4a09b9-cfd0-4ab8-c2a2-064072fc2f4e"
   },
   "outputs": [
    {
     "name": "stdout",
     "output_type": "stream",
     "text": [
      "For roc_auc:\n",
      "              myTabularDataset      spambase    annthyroid myTabularDataset2  \\\n",
      "KNN               0.665+-0.149  0.559+-0.135  0.473+-0.203      0.708+-0.161   \n",
      "ABOD              0.713+-0.188  0.561+-0.125  0.583+-0.252      0.559+-0.317   \n",
      "RandomGuesser     0.585+-0.247  0.539+-0.182  0.507+-0.239      0.585+-0.247   \n",
      "Average                  0.654         0.553         0.521             0.617   \n",
      "\n",
      "                Average  \n",
      "KNN            0.601087  \n",
      "ABOD           0.603804  \n",
      "RandomGuesser  0.553804  \n",
      "Average             NaN  \n",
      "\n",
      "For adjusted_average_precision:\n",
      "              myTabularDataset      spambase    annthyroid myTabularDataset2  \\\n",
      "KNN               0.200+-0.205  0.101+-0.071  0.065+-0.089      0.252+-0.200   \n",
      "ABOD              0.287+-0.236  0.118+-0.137  0.196+-0.222      0.243+-0.244   \n",
      "RandomGuesser     0.205+-0.184  0.148+-0.196  0.085+-0.068      0.205+-0.184   \n",
      "Average                  0.231         0.122         0.115             0.234   \n",
      "\n",
      "                Average  \n",
      "KNN            0.154582  \n",
      "ABOD           0.211037  \n",
      "RandomGuesser  0.161018  \n",
      "Average             NaN  \n",
      "\n",
      "For precision_recall_auc:\n",
      "              myTabularDataset      spambase    annthyroid myTabularDataset2  \\\n",
      "KNN               0.206+-0.195  0.105+-0.035  0.090+-0.055      0.235+-0.192   \n",
      "ABOD              0.281+-0.230  0.137+-0.135  0.204+-0.203      0.235+-0.210   \n",
      "RandomGuesser     0.207+-0.179  0.176+-0.190  0.096+-0.036      0.207+-0.179   \n",
      "Average                  0.231         0.139         0.130             0.226   \n",
      "\n",
      "                Average  \n",
      "KNN            0.159179  \n",
      "ABOD           0.214413  \n",
      "RandomGuesser  0.171338  \n",
      "Average             NaN  \n",
      "\n"
     ]
    }
   ],
   "source": [
    "#ID 27(7)\n",
    "\n",
    "# print results in easily readable format with standard deviations\n",
    "co.print_results(include_stdevs=True)"
   ]
  },
  {
   "cell_type": "code",
   "execution_count": 116,
   "id": "sZfxpO-5UPfp",
   "metadata": {
    "id": "sZfxpO-5UPfp",
    "outputId": "4452e949-87c2-4a00-f543-96111c430ae5"
   },
   "outputs": [
    {
     "name": "stdout",
     "output_type": "stream",
     "text": [
      "For roc_auc:\n",
      "\\begin{center}\n",
      "\\begin{tabular}{  c c c c c c  }\n",
      "  & myTabularDataset & spambase & annthyroid & myTabularDataset2 & Average \\\\\n",
      "  KNN & \\textit{0.665$\\pm$0.149} & \\textit{0.559$\\pm$0.135} & 0.473$\\pm$0.203 & \\textbf{0.708$\\pm$0.161} & \\textit{0.601} \\\\\n",
      "  ABOD & \\textbf{0.713$\\pm$0.188} & \\textbf{0.561$\\pm$0.125} & \\textbf{0.583$\\pm$0.252} & 0.559$\\pm$0.317 & \\textbf{0.604} \\\\\n",
      "  RandomGuesser & 0.585$\\pm$0.247 & 0.539$\\pm$0.182 & \\textit{0.507$\\pm$0.239} & \\textit{0.585$\\pm$0.247} & 0.554 \\\\\n",
      "  Average & 0.654 & 0.553 & 0.521 & 0.617 &    \\\\\n",
      "\\end{tabular}\n",
      "\\end{center}\n",
      "\n",
      "For adjusted_average_precision:\n",
      "\\begin{center}\n",
      "\\begin{tabular}{  c c c c c c  }\n",
      "  & myTabularDataset & spambase & annthyroid & myTabularDataset2 & Average \\\\\n",
      "  KNN & 0.200$\\pm$0.205 & 0.101$\\pm$0.071 & 0.065$\\pm$0.089 & \\textbf{0.252$\\pm$0.200} & 0.155 \\\\\n",
      "  ABOD & \\textbf{0.287$\\pm$0.236} & \\textit{0.118$\\pm$0.137} & \\textbf{0.196$\\pm$0.222} & \\textit{0.243$\\pm$0.244} & \\textbf{0.211} \\\\\n",
      "  RandomGuesser & \\textit{0.205$\\pm$0.184} & \\textbf{0.148$\\pm$0.196} & \\textit{0.085$\\pm$0.068} & 0.205$\\pm$0.184 & \\textit{0.161} \\\\\n",
      "  Average & 0.231 & 0.122 & 0.115 & 0.234 &    \\\\\n",
      "\\end{tabular}\n",
      "\\end{center}\n",
      "\n",
      "For precision_recall_auc:\n",
      "\\begin{center}\n",
      "\\begin{tabular}{  c c c c c c  }\n",
      "  & myTabularDataset & spambase & annthyroid & myTabularDataset2 & Average \\\\\n",
      "  KNN & 0.206$\\pm$0.195 & 0.105$\\pm$0.035 & 0.090$\\pm$0.055 & \\textbf{0.235$\\pm$0.192} & 0.159 \\\\\n",
      "  ABOD & \\textbf{0.281$\\pm$0.230} & \\textit{0.137$\\pm$0.135} & \\textbf{0.204$\\pm$0.203} & \\textit{0.235$\\pm$0.210} & \\textbf{0.214} \\\\\n",
      "  RandomGuesser & \\textit{0.207$\\pm$0.179} & \\textbf{0.176$\\pm$0.190} & \\textit{0.096$\\pm$0.036} & 0.207$\\pm$0.179 & \\textit{0.171} \\\\\n",
      "  Average & 0.231 & 0.139 & 0.130 & 0.226 &    \\\\\n",
      "\\end{tabular}\n",
      "\\end{center}\n",
      "\n"
     ]
    }
   ],
   "source": [
    "# ID 28(7)\n",
    "\n",
    "co.print_latex(include_stdevs=True)"
   ]
  },
  {
   "cell_type": "markdown",
   "id": "1ZlXKXx64aAl",
   "metadata": {
    "id": "1ZlXKXx64aAl"
   },
   "source": [
    "# **8. REPRODUCIBILITY**"
   ]
  },
  {
   "cell_type": "markdown",
   "id": "7eBbV_ZNYiiC",
   "metadata": {
    "id": "7eBbV_ZNYiiC"
   },
   "source": [
    " ## **8.1 Creating recipes**"
   ]
  },
  {
   "cell_type": "markdown",
   "id": "zWTe3BI5Gfyz",
   "metadata": {
    "id": "zWTe3BI5Gfyz"
   },
   "source": [
    "This section shows **how `oab` can be used to make sampling results easily reproducible** .\n",
    " \n",
    "\n",
    "`yaml` files play an integral role in making reproducibility work, as they store the operations and parameters performed on the data."
   ]
  },
  {
   "cell_type": "markdown",
   "id": "dc4c0a73",
   "metadata": {
    "id": "dc4c0a73"
   },
   "source": [
    "We will see how to produce a recipe(.yaml) of the Benchmarkrun already performed  in <b>#ID 23(5)</b>"
   ]
  },
  {
   "cell_type": "markdown",
   "id": "e827f5fb",
   "metadata": {
    "id": "e827f5fb"
   },
   "source": [
    "In <b>#ID 11(3) #ID 13(3) #ID 15(4)</b>,  We already performed operations on own datasets and OAB's datasets, and then already stored the daasets information as we can see below: "
   ]
  },
  {
   "cell_type": "code",
   "execution_count": 117,
   "id": "ff4c5cf3",
   "metadata": {
    "id": "ff4c5cf3",
    "outputId": "eae501b9-9947-4f1a-c911-d3000fa33f05"
   },
   "outputs": [
    {
     "name": "stdout",
     "output_type": "stream",
     "text": [
      "myTabularDataset:\r\n",
      "- dataset\r\n",
      "- standard_functions:\r\n",
      "  - name: treat_missing_values\r\n",
      "    parameters:\r\n",
      "      missing_value: np.nan\r\n",
      "      delete_attributes: true\r\n",
      "  - name: normalize_columns\r\n",
      "    parameters:\r\n",
      "      cols_to_normalize:\r\n",
      "  - name: delete_duplicates\r\n",
      "    parameters: {}\r\n",
      "- anomaly_dataset:\r\n",
      "    arguments:\r\n",
      "      normal_labels:\r\n",
      "      - 0\r\n",
      "      anomaly_labels:\r\n",
      "- sampling:\r\n",
      "    unsupervised_multiple:\r\n",
      "      n: 25\r\n",
      "      contamination_rate: 0.05\r\n",
      "      n_steps: 10\r\n",
      "      apply_random_seed: true\r\n",
      "      keep_frequency_ratio_normals: false\r\n",
      "      equal_frequency_normals: false\r\n",
      "      keep_frequency_ratio_anomalies: false\r\n",
      "      equal_frequency_anomalies: false\r\n",
      "      flatten_images: false\r\n",
      "      shuffle: true\r\n",
      "      include_description: true\r\n",
      "spambase:\r\n",
      "- dataset\r\n",
      "- standard_functions:\r\n",
      "  - name: treat_missing_values\r\n",
      "    parameters:\r\n",
      "      missing_value: np.nan\r\n",
      "      delete_attributes: true\r\n",
      "  - name: normalize_columns\r\n",
      "    parameters:\r\n",
      "      cols_to_normalize:\r\n",
      "  - name: delete_duplicates\r\n",
      "    parameters: {}\r\n",
      "- anomaly_dataset:\r\n",
      "    arguments:\r\n",
      "      normal_labels:\r\n",
      "      - 0\r\n",
      "      anomaly_labels:\r\n",
      "- sampling:\r\n",
      "    unsupervised_multiple:\r\n",
      "      n: 25\r\n",
      "      contamination_rate: 0.05\r\n",
      "      n_steps: 10\r\n",
      "      apply_random_seed: true\r\n",
      "      keep_frequency_ratio_normals: false\r\n",
      "      equal_frequency_normals: false\r\n",
      "      keep_frequency_ratio_anomalies: false\r\n",
      "      equal_frequency_anomalies: false\r\n",
      "      flatten_images: false\r\n",
      "      shuffle: true\r\n",
      "      include_description: true\r\n"
     ]
    }
   ],
   "source": [
    "#ID 29(8)\n",
    "!cat {new_recipe_path}"
   ]
  },
  {
   "cell_type": "markdown",
   "id": "5ca638c8",
   "metadata": {
    "id": "5ca638c8"
   },
   "source": [
    "Now, we will store the information of  datasets and algorithms information from <b>Paper_B's</b> recipe\n",
    "and only of the algorithms of this benchmark in the new recipe:"
   ]
  },
  {
   "cell_type": "code",
   "execution_count": 118,
   "id": "48159739",
   "metadata": {
    "id": "48159739"
   },
   "outputs": [],
   "source": [
    "#ID 30(8)   # Execute this cell only when you already loaded a recipe file \n",
    "# adding datasets from recipe used in in benchmark run in #ID 23(5)\n",
    "for dataset_name in recipe_datasets:\n",
    "    \n",
    "    \n",
    "    #storing anomaly parameters\n",
    "    dataset_info_store(dataset_name,new_recipe_path,info_type='anomaly_dataset',content=recipe_datasets[dataset_name][0].normal_labels)\n",
    "    \n",
    "    # storing preprocesing parameters\n",
    "    dataset_info_store(dataset_name,new_recipe_path,info_type='standard_functions',content=recipe_datasets[dataset_name][3]) \n",
    "    #dataset_info_store(dataset_name,new_recipe_path,info_type='custom_functions',content=recipe_datasets[dataset_name][4]) \n",
    "    \n",
    "    \n",
    "    #storing sampling parameters\n",
    "    if dataset_name[:9]!='mvtec_ad_':\n",
    "      sampling_data=recipe_datasets[dataset_name][1]\n",
    "      dataset_info_store(dataset_name,new_recipe_path,'sampling',content=sampling_data)\n",
    "        "
   ]
  },
  {
   "cell_type": "markdown",
   "id": "5dbe5ffa",
   "metadata": {
    "id": "5dbe5ffa"
   },
   "source": [
    "Now,we will store information about <b>Algorithms and their hyperparameters</b> in the recipe(.yaml) "
   ]
  },
  {
   "cell_type": "code",
   "execution_count": 119,
   "id": "ce1e6fd1",
   "metadata": {
    "id": "ce1e6fd1"
   },
   "outputs": [],
   "source": [
    "# 31(8)\n",
    "\n",
    "# storing information of all algorithms and seed in the recipe\n",
    "algorithms_info_store('unsupervised',lst_benchmark_algorithms,new_recipe_path)\n",
    "\n",
    "seed_info_store(seed,new_recipe_path)\n"
   ]
  },
  {
   "cell_type": "code",
   "execution_count": 120,
   "id": "a989a8f5",
   "metadata": {
    "id": "a989a8f5",
    "outputId": "212bd717-5871-467b-b30c-a6a6964ad482"
   },
   "outputs": [
    {
     "name": "stdout",
     "output_type": "stream",
     "text": [
      "myTabularDataset:\r\n",
      "- dataset\r\n",
      "- standard_functions:\r\n",
      "  - name: treat_missing_values\r\n",
      "    parameters:\r\n",
      "      missing_value: np.nan\r\n",
      "      delete_attributes: true\r\n",
      "  - name: normalize_columns\r\n",
      "    parameters:\r\n",
      "      cols_to_normalize:\r\n",
      "  - name: delete_duplicates\r\n",
      "    parameters: {}\r\n",
      "- anomaly_dataset:\r\n",
      "    arguments:\r\n",
      "      normal_labels:\r\n",
      "      - 0\r\n",
      "      anomaly_labels:\r\n",
      "- sampling:\r\n",
      "    unsupervised_multiple:\r\n",
      "      n: 25\r\n",
      "      contamination_rate: 0.05\r\n",
      "      n_steps: 10\r\n",
      "      apply_random_seed: true\r\n",
      "      keep_frequency_ratio_normals: false\r\n",
      "      equal_frequency_normals: false\r\n",
      "      keep_frequency_ratio_anomalies: false\r\n",
      "      equal_frequency_anomalies: false\r\n",
      "      flatten_images: false\r\n",
      "      shuffle: true\r\n",
      "      include_description: true\r\n",
      "spambase:\r\n",
      "- dataset\r\n",
      "- standard_functions:\r\n",
      "  - name: treat_missing_values\r\n",
      "    parameters:\r\n",
      "      missing_value: np.nan\r\n",
      "      delete_attributes: true\r\n",
      "  - name: normalize_columns\r\n",
      "    parameters:\r\n",
      "      cols_to_normalize:\r\n",
      "  - name: delete_duplicates\r\n",
      "    parameters: {}\r\n",
      "- anomaly_dataset:\r\n",
      "    arguments:\r\n",
      "      normal_labels:\r\n",
      "      - 0\r\n",
      "      anomaly_labels:\r\n",
      "- sampling:\r\n",
      "    unsupervised_multiple:\r\n",
      "      n: 25\r\n",
      "      contamination_rate: 0.05\r\n",
      "      n_steps: 10\r\n",
      "      apply_random_seed: true\r\n",
      "      keep_frequency_ratio_normals: false\r\n",
      "      equal_frequency_normals: false\r\n",
      "      keep_frequency_ratio_anomalies: false\r\n",
      "      equal_frequency_anomalies: false\r\n",
      "      flatten_images: false\r\n",
      "      shuffle: true\r\n",
      "      include_description: true\r\n",
      "annthyroid:\r\n",
      "- dataset\r\n",
      "- anomaly_dataset:\r\n",
      "    arguments:\r\n",
      "      normal_labels:\r\n",
      "      - 0\r\n",
      "      anomaly_labels:\r\n",
      "- standard_functions:\r\n",
      "  - name: normalize_columns\r\n",
      "    parameters:\r\n",
      "      cols_to_normalize:\r\n",
      "      - 0\r\n",
      "      - 1\r\n",
      "  - name: treat_missing_values\r\n",
      "    parameters:\r\n",
      "      missing_value: np.nan\r\n",
      "      delete_attributes: true\r\n",
      "  - name: delete_duplicates\r\n",
      "    parameters: {}\r\n",
      "- sampling:\r\n",
      "    n: 25\r\n",
      "    contamination_rate: 0.05\r\n",
      "    n_steps: 10\r\n",
      "    flatten_images: false\r\n",
      "    apply_random_seed: true\r\n",
      "    keep_frequency_ratio_normals: false\r\n",
      "    equal_frequency_normals: false\r\n",
      "    keep_frequency_ratio_anomalies: false\r\n",
      "    equal_frequency_anomalies: false\r\n",
      "    shuffle: true\r\n",
      "    include_description: true\r\n",
      "    random_seed: 42\r\n",
      "myTabularDataset2:\r\n",
      "- dataset\r\n",
      "- anomaly_dataset:\r\n",
      "    arguments:\r\n",
      "      normal_labels:\r\n",
      "      - 0\r\n",
      "      anomaly_labels:\r\n",
      "- standard_functions:\r\n",
      "  - name: normalize_columns\r\n",
      "    parameters:\r\n",
      "      cols_to_normalize:\r\n",
      "      - 0\r\n",
      "      - 1\r\n",
      "  - name: treat_missing_values\r\n",
      "    parameters:\r\n",
      "      missing_value: np.nan\r\n",
      "      delete_attributes: true\r\n",
      "  - name: delete_duplicates\r\n",
      "    parameters: {}\r\n",
      "- sampling:\r\n",
      "    n: 25\r\n",
      "    contamination_rate: 0.05\r\n",
      "    n_steps: 10\r\n",
      "    flatten_images: false\r\n",
      "    apply_random_seed: true\r\n",
      "    keep_frequency_ratio_normals: false\r\n",
      "    equal_frequency_normals: false\r\n",
      "    keep_frequency_ratio_anomalies: false\r\n",
      "    equal_frequency_anomalies: false\r\n",
      "    shuffle: true\r\n",
      "    include_description: true\r\n",
      "    random_seed: 42\r\n",
      "pyod.models.knn:\r\n",
      "- algo_name\r\n",
      "- init:\r\n",
      "    params:\r\n",
      "      n_neighbors:\r\n",
      "        knn_factor: 0.05\r\n",
      "        knn_minimum: 10\r\n",
      "  fit:\r\n",
      "    method_name: fit\r\n",
      "    params: {}\r\n",
      "  decision_scores:\r\n",
      "    field_name: decision_scores_\r\n",
      "- KNN\r\n",
      "pyod.models.abod:\r\n",
      "- algo_name\r\n",
      "- init:\r\n",
      "    params:\r\n",
      "      n_neighbors:\r\n",
      "        abod_factor: 0.1\r\n",
      "        abod_minimum: 10\r\n",
      "  fit:\r\n",
      "    method_name: fit\r\n",
      "    params: {}\r\n",
      "  decision_scores:\r\n",
      "    field_name: decision_scores_\r\n",
      "- ABOD\r\n",
      "seed:\r\n",
      "- 42\r\n"
     ]
    }
   ],
   "source": [
    "#ID 32(8)\n",
    "!cat {new_recipe_path}"
   ]
  },
  {
   "cell_type": "markdown",
   "id": "Ef1QSaxHGgr0",
   "metadata": {
    "id": "Ef1QSaxHGgr0"
   },
   "source": [
    "In **f\"{time}-{benchmark_name}-{benchmark_type}-recipe.yaml\"**, we now see the sampling parameters, anomaly- dataset-conversion parameters, hyperparamters along with the algorithms for \"unsupervised_multiple_with_training_split\". If sampling is done in a different scenario, e.g., unsupervised multiple, this would also be stored in f\"{benchmark_name}/{time}_{benchmark_name}_recipe.yaml\" using a different key in the sampling dict.\n",
    "\n"
   ]
  },
  {
   "cell_type": "markdown",
   "id": "U7PSnotYJIr2",
   "metadata": {
    "id": "U7PSnotYJIr2"
   },
   "source": [
    "### 2. Reproducing the experiment"
   ]
  },
  {
   "cell_type": "markdown",
   "id": "71159158",
   "metadata": {
    "id": "71159158",
    "outputId": "d37a18ec-5285-46ad-b379-2147cb9d2c98",
    "scrolled": false
   },
   "source": [
    "To reproduce the recipe created in the previous section,\n",
    "we refer to <b>Section 5 #ID 20(5)</b> where we can reproduce the run as well as extend benchmarks!"
   ]
  },
  {
   "cell_type": "markdown",
   "id": "ieghRWumgNY9",
   "metadata": {
    "id": "ieghRWumgNY9"
   },
   "source": [
    "# **9. EXTEND EXISTING BENCHMARK(own algorithm)**"
   ]
  },
  {
   "cell_type": "markdown",
   "id": "i1HfN4e3PMn0",
   "metadata": {
    "id": "i1HfN4e3PMn0"
   },
   "source": [
    "To extend the existing benchmark here basically means to add  our own algorithm to the benchmark and to show the comparison results of pre-installed algorithms while also loading our own dataset.\n",
    "\n",
    "\n",
    "1. We load the datasets. To know how to do that, we can refer to  **Section \"1. Data\" and \"2. Data Selection\"**\n",
    "2. Then, load own algorithm as we will see in the next sub-section."
   ]
  },
  {
   "cell_type": "markdown",
   "id": "kAAV6vAOy9-k",
   "metadata": {
    "id": "kAAV6vAOy9-k"
   },
   "source": [
    "## **9.1 Loading own Algorithm**"
   ]
  },
  {
   "cell_type": "markdown",
   "id": "3cT1MEn7zSta",
   "metadata": {
    "id": "3cT1MEn7zSta"
   },
   "source": [
    "In this subsection, you will see **how an own unsupervised anomaly detection algorithm** can easily be used within oab to be evaluated. We will see how a class representing an algorithm can be structured and how its performance is evaluated.\n",
    "\n",
    "Of course, this is not the only way to use the functionality provided by oab. We do consider it to be the simplest way however."
   ]
  },
  {
   "cell_type": "code",
   "execution_count": 121,
   "id": "r7jxQhkcze5d",
   "metadata": {
    "colab": {
     "base_uri": "https://localhost:8080/"
    },
    "id": "r7jxQhkcze5d",
    "outputId": "c7d5d85b-dee5-41cc-f24e-49da6f14594e"
   },
   "outputs": [
    {
     "name": "stdout",
     "output_type": "stream",
     "text": [
      "\r",
      "  0% [                                                              ]   0 / 204\r",
      "100% [..............................................................] 204 / 204import numpy as np\r\n",
      "\r\n",
      "class RandomGuesser():\r\n",
      "\r\n",
      "    def fit(self, X):\r\n",
      "        \"Assign a random number to each sample\"\r\n",
      "        n_samples = X.shape[0]\r\n",
      "        self.decision_scores_ = np.random.randn(n_samples)\r\n"
     ]
    }
   ],
   "source": [
    "#ID 33(9)\n",
    "# download example algorithm and inspect content\n",
    "import wget\n",
    "wget.download('https://raw.githubusercontent.com/jandeller/test/main/RandomGuesser.py',\"RandomGuesser.py\")\n",
    "!cat RandomGuesser.py"
   ]
  },
  {
   "cell_type": "markdown",
   "id": "enGFFsQpRJ2Y",
   "metadata": {
    "id": "enGFFsQpRJ2Y"
   },
   "source": [
    "The sample `RandomGuesser` algorithm shown here is - as the name suggests - a random guesser, i.e., it assigns random anomaly scores to the samples.\n",
    "\n",
    "An algorithm used for unsupervised anomaly detection needs to specify a `fit(X_train)` method for training and a `decision_scores_` variable for inference that returns an anomaly score per data point in the test set.\n",
    "\n",
    "It is of course possible to rename the method and field, use a method for accessing the anomaly scores, etc. Note that if this is done, the following code has to be changed accordingly. Adhering to the conventions described above (`fit(X_train)` and `decision_scores_`) allows you to use the same interface as algorithms from [`PyOD`](https://pyod.readthedocs.io/en/latest/) as shown when [comparing algorithms using `oab`](https://colab.research.google.com/drive/1aV_itaYCJgzdZ1lQ7SUyHQ7z01xSPxDN?usp=sharing#scrollTo=QnAfCGTGL7xv)."
   ]
  },
  {
   "cell_type": "code",
   "execution_count": 122,
   "id": "Y4FYSMtIzsqZ",
   "metadata": {
    "id": "Y4FYSMtIzsqZ",
    "outputId": "ed57bff9-0489-4519-d07b-f19058da63a3"
   },
   "outputs": [],
   "source": [
    "#ID 34(9)\n",
    "# used imports from #ID 3(0),#ID 18(5)\n",
    "#used sampling parameters from #ID 15(4)\n",
    "\n",
    "# and import the RandomGuesser\n",
    "from notebooks.benchmark_tabular.RandomGuesser import RandomGuesser\n",
    "\n",
    "   \n",
    "own_algorithms=[{\n",
    "    \n",
    "       ### ADD YOUR OWN ALGO DETAILS IN THIS FORM ###\n",
    "       \"algo_module_name\": \"RandomGuesserSemisupervised\",   \n",
    "       \"algo_class_name\": \"RandomGuesserSemisupervised\",\n",
    "       \"algo_name_in_result_table\": \"RandomGuesserSemisupervised\",\n",
    "       \"algo_parameters\": {},\n",
    "        \"fit\": {'method_name': 'fit', 'params': {}}, \n",
    "        \"decision_scores\": {'field_name': 'decision_scores_'}\n",
    "        }]\n"
   ]
  },
  {
   "cell_type": "markdown",
   "id": "4ffe0990",
   "metadata": {},
   "source": [
    "The `own_algorithms` list in the above cell #ID 34(9) can be added to lst_benchmarking_algos as mentioned in #ID 19(5) to use this algorithm in a benchmark run shown in #ID 23(5) along with other algorithms"
   ]
  },
  {
   "cell_type": "code",
   "execution_count": 123,
   "id": "RU5K81TC0PmQ",
   "metadata": {
    "colab": {
     "base_uri": "https://localhost:8080/"
    },
    "id": "RU5K81TC0PmQ",
    "outputId": "e0c6a548-76be-46f2-f4be-4696efa51fe2"
   },
   "outputs": [
    {
     "name": "stdout",
     "output_type": "stream",
     "text": [
      "-------myTabularDataset-------\n",
      "-------RandomGuesser\n",
      ". . . . . . . . . . \n",
      "\n",
      "Evaluation on dataset myTabularDataset with normal labels [0] and anomaly labels [1, 2].\n",
      "Total of 10 datasets. Per dataset:\n",
      "25 instances, contamination_rate 0.05.\n",
      "Mean \t Std_dev \t Metric\n",
      "0.585 \t 0.247 \t\t roc_auc\n",
      "0.205 \t 0.184 \t\t adjusted_average_precision\n",
      "0.207 \t 0.179 \t\t precision_recall_auc\n",
      "\n",
      "\n",
      "-------spambase-------\n",
      "-------RandomGuesser\n",
      ". . . . . . . . . . \n",
      "\n",
      "Evaluation on dataset spambase with normal labels [0] and anomaly labels [1].\n",
      "Total of 10 datasets. Per dataset:\n",
      "25 instances, contamination_rate 0.05.\n",
      "Mean \t Std_dev \t Metric\n",
      "0.539 \t 0.182 \t\t roc_auc\n",
      "0.148 \t 0.196 \t\t adjusted_average_precision\n",
      "0.176 \t 0.190 \t\t precision_recall_auc\n",
      "\n",
      "\n",
      "-------annthyroid-------\n",
      "-------RandomGuesser\n",
      ". . . . . . . . . . \n",
      "\n",
      "Evaluation on dataset annthyroid with normal labels [0] and anomaly labels [1.0].\n",
      "Total of 10 datasets. Per dataset:\n",
      "25 instances, contamination_rate 0.05.\n",
      "Mean \t Std_dev \t Metric\n",
      "0.507 \t 0.239 \t\t roc_auc\n",
      "0.085 \t 0.068 \t\t adjusted_average_precision\n",
      "0.096 \t 0.036 \t\t precision_recall_auc\n",
      "\n",
      "\n",
      "-------myTabularDataset2-------\n",
      "-------RandomGuesser\n",
      ". . . . . . . . . . \n",
      "\n",
      "Evaluation on dataset myTabularDataset2 with normal labels [0] and anomaly labels [1, 2].\n",
      "Total of 10 datasets. Per dataset:\n",
      "25 instances, contamination_rate 0.05.\n",
      "Mean \t Std_dev \t Metric\n",
      "0.585 \t 0.247 \t\t roc_auc\n",
      "0.205 \t 0.184 \t\t adjusted_average_precision\n",
      "0.207 \t 0.179 \t\t precision_recall_auc\n",
      "\n",
      "\n"
     ]
    }
   ],
   "source": [
    "#ID 35(9)\n",
    "\n",
    "#  A comparison object is created for comparing the evaluations of different Algo-Dataset combinations\n",
    "co = ComparisonObject()\n",
    "\n",
    "for dataset_name in benchmarking_datasets:\n",
    "  print(f\"-------{dataset_name}-------\")\n",
    "  eval_obj = EvaluationObject(algorithm_name=\"RandomGuesser\")\n",
    "  print(\"-------RandomGuesser\")  \n",
    "  for (x,y), settings in benchmarking_datasets[dataset_name][0].sample_multiple(n=n, \n",
    "                                                                  contamination_rate=contamination_rate, \n",
    "                                                                 n_steps=n_steps):\n",
    "      print(\".\", end=\" \") # update to see progress\n",
    "      rg = RandomGuesser()\n",
    "      rg.fit(x) # data is fitted to RandomGuesser\n",
    "      pred = rg.decision_scores_ # and decision_scores_ is accessed\n",
    "      eval_obj.add(y, pred, settings)\n",
    "  print(\"\\n\")\n",
    "  eval_desc = eval_obj.evaluate(metrics=['roc_auc', 'adjusted_average_precision', 'precision_recall_auc'])\n",
    "  # added to comparison object\n",
    "  co.add_evaluation(eval_desc)\n",
    "  print(\"\\n\")\n",
    "\n"
   ]
  },
  {
   "cell_type": "markdown",
   "id": "CHYWyeKKxs9M",
   "metadata": {
    "id": "CHYWyeKKxs9M"
   },
   "source": [
    "As in the above code, We store the evaluations of our own algorithm in evaluation object which is then added to comparison object.Similarly, we can create evaluation objects for other algorithms and add them to comparison object for final benchmarking  as shown in Section 5"
   ]
  },
  {
   "cell_type": "markdown",
   "id": "k-8sW1dvTcNj",
   "metadata": {
    "id": "k-8sW1dvTcNj"
   },
   "source": [
    "Finally, we show below the benchmarking results of our algorithm as described in \"**Section 7. Show Benchmarking Results**\""
   ]
  },
  {
   "cell_type": "code",
   "execution_count": 124,
   "id": "_RxojZg5zDhb",
   "metadata": {
    "id": "_RxojZg5zDhb",
    "outputId": "367c88df-594e-4e66-c709-6dc7003c0ac5",
    "scrolled": true
   },
   "outputs": [
    {
     "name": "stdout",
     "output_type": "stream",
     "text": [
      "For roc_auc:\n",
      "               myTabularDataset  spambase  annthyroid  myTabularDataset2  \\\n",
      "KNN                    0.665217  0.558696    0.472826           0.707609   \n",
      "ABOD                   0.713043  0.560870    0.582609           0.558696   \n",
      "RandomGuesser          0.584783  0.539130    0.506522           0.584783   \n",
      "Average                0.654348  0.552899    0.520652           0.617029   \n",
      "\n",
      "                Average  \n",
      "KNN            0.601087  \n",
      "ABOD           0.603804  \n",
      "RandomGuesser  0.553804  \n",
      "Average             NaN  \n",
      "For adjusted_average_precision:\n",
      "               myTabularDataset  spambase  annthyroid  myTabularDataset2  \\\n",
      "KNN                    0.200317  0.101028    0.064967           0.252017   \n",
      "ABOD                   0.287339  0.118019    0.195700           0.243091   \n",
      "RandomGuesser          0.205470  0.147791    0.085342           0.205470   \n",
      "Average                0.231042  0.122279    0.115337           0.233526   \n",
      "\n",
      "                Average  \n",
      "KNN            0.154582  \n",
      "ABOD           0.211037  \n",
      "RandomGuesser  0.161018  \n",
      "Average             NaN  \n",
      "For precision_recall_auc:\n",
      "               myTabularDataset  spambase  annthyroid  myTabularDataset2  \\\n",
      "KNN                    0.206437  0.104916    0.090065           0.235298   \n",
      "ABOD                   0.281038  0.137460    0.204139           0.235015   \n",
      "RandomGuesser          0.206753  0.175784    0.096060           0.206753   \n",
      "Average                0.231410  0.139387    0.130088           0.225689   \n",
      "\n",
      "                Average  \n",
      "KNN            0.159179  \n",
      "ABOD           0.214413  \n",
      "RandomGuesser  0.171338  \n",
      "Average             NaN  \n"
     ]
    }
   ],
   "source": [
    "#ID 36(9)\n",
    "\n",
    "# print results in easily readable format\n",
    "co.print_results()"
   ]
  },
  {
   "cell_type": "code",
   "execution_count": 125,
   "id": "1717c96b",
   "metadata": {
    "id": "1717c96b",
    "outputId": "98f83fc9-6661-4b94-c5df-c907831c3f94"
   },
   "outputs": [
    {
     "name": "stdout",
     "output_type": "stream",
     "text": [
      "For roc_auc:\n",
      "              myTabularDataset      spambase    annthyroid myTabularDataset2  \\\n",
      "KNN               0.665+-0.149  0.559+-0.135  0.473+-0.203      0.708+-0.161   \n",
      "ABOD              0.713+-0.188  0.561+-0.125  0.583+-0.252      0.559+-0.317   \n",
      "RandomGuesser     0.585+-0.247  0.539+-0.182  0.507+-0.239      0.585+-0.247   \n",
      "Average                  0.654         0.553         0.521             0.617   \n",
      "\n",
      "                Average  \n",
      "KNN            0.601087  \n",
      "ABOD           0.603804  \n",
      "RandomGuesser  0.553804  \n",
      "Average             NaN  \n",
      "\n",
      "For adjusted_average_precision:\n",
      "              myTabularDataset      spambase    annthyroid myTabularDataset2  \\\n",
      "KNN               0.200+-0.205  0.101+-0.071  0.065+-0.089      0.252+-0.200   \n",
      "ABOD              0.287+-0.236  0.118+-0.137  0.196+-0.222      0.243+-0.244   \n",
      "RandomGuesser     0.205+-0.184  0.148+-0.196  0.085+-0.068      0.205+-0.184   \n",
      "Average                  0.231         0.122         0.115             0.234   \n",
      "\n",
      "                Average  \n",
      "KNN            0.154582  \n",
      "ABOD           0.211037  \n",
      "RandomGuesser  0.161018  \n",
      "Average             NaN  \n",
      "\n",
      "For precision_recall_auc:\n",
      "              myTabularDataset      spambase    annthyroid myTabularDataset2  \\\n",
      "KNN               0.206+-0.195  0.105+-0.035  0.090+-0.055      0.235+-0.192   \n",
      "ABOD              0.281+-0.230  0.137+-0.135  0.204+-0.203      0.235+-0.210   \n",
      "RandomGuesser     0.207+-0.179  0.176+-0.190  0.096+-0.036      0.207+-0.179   \n",
      "Average                  0.231         0.139         0.130             0.226   \n",
      "\n",
      "                Average  \n",
      "KNN            0.159179  \n",
      "ABOD           0.214413  \n",
      "RandomGuesser  0.171338  \n",
      "Average             NaN  \n",
      "\n"
     ]
    }
   ],
   "source": [
    "#ID 37(9)\n",
    "# print results in easily readable format with standard deviations\n",
    "co.print_results(include_stdevs=True)"
   ]
  },
  {
   "cell_type": "code",
   "execution_count": 126,
   "id": "a75770e0",
   "metadata": {},
   "outputs": [
    {
     "name": "stdout",
     "output_type": "stream",
     "text": [
      "For roc_auc:\n",
      "\\begin{center}\n",
      "\\begin{tabular}{  c c c c c c  }\n",
      "  & myTabularDataset & spambase & annthyroid & myTabularDataset2 & Average \\\\\n",
      "  KNN & \\textit{0.665$\\pm$0.149} & \\textit{0.559$\\pm$0.135} & 0.473$\\pm$0.203 & \\textbf{0.708$\\pm$0.161} & \\textit{0.601} \\\\\n",
      "  ABOD & \\textbf{0.713$\\pm$0.188} & \\textbf{0.561$\\pm$0.125} & \\textbf{0.583$\\pm$0.252} & 0.559$\\pm$0.317 & \\textbf{0.604} \\\\\n",
      "  RandomGuesser & 0.585$\\pm$0.247 & 0.539$\\pm$0.182 & \\textit{0.507$\\pm$0.239} & \\textit{0.585$\\pm$0.247} & 0.554 \\\\\n",
      "  Average & 0.654 & 0.553 & 0.521 & 0.617 &    \\\\\n",
      "\\end{tabular}\n",
      "\\end{center}\n",
      "\n",
      "For adjusted_average_precision:\n",
      "\\begin{center}\n",
      "\\begin{tabular}{  c c c c c c  }\n",
      "  & myTabularDataset & spambase & annthyroid & myTabularDataset2 & Average \\\\\n",
      "  KNN & 0.200$\\pm$0.205 & 0.101$\\pm$0.071 & 0.065$\\pm$0.089 & \\textbf{0.252$\\pm$0.200} & 0.155 \\\\\n",
      "  ABOD & \\textbf{0.287$\\pm$0.236} & \\textit{0.118$\\pm$0.137} & \\textbf{0.196$\\pm$0.222} & \\textit{0.243$\\pm$0.244} & \\textbf{0.211} \\\\\n",
      "  RandomGuesser & \\textit{0.205$\\pm$0.184} & \\textbf{0.148$\\pm$0.196} & \\textit{0.085$\\pm$0.068} & 0.205$\\pm$0.184 & \\textit{0.161} \\\\\n",
      "  Average & 0.231 & 0.122 & 0.115 & 0.234 &    \\\\\n",
      "\\end{tabular}\n",
      "\\end{center}\n",
      "\n",
      "For precision_recall_auc:\n",
      "\\begin{center}\n",
      "\\begin{tabular}{  c c c c c c  }\n",
      "  & myTabularDataset & spambase & annthyroid & myTabularDataset2 & Average \\\\\n",
      "  KNN & 0.206$\\pm$0.195 & 0.105$\\pm$0.035 & 0.090$\\pm$0.055 & \\textbf{0.235$\\pm$0.192} & 0.159 \\\\\n",
      "  ABOD & \\textbf{0.281$\\pm$0.230} & \\textit{0.137$\\pm$0.135} & \\textbf{0.204$\\pm$0.203} & \\textit{0.235$\\pm$0.210} & \\textbf{0.214} \\\\\n",
      "  RandomGuesser & \\textit{0.207$\\pm$0.179} & \\textbf{0.176$\\pm$0.190} & \\textit{0.096$\\pm$0.036} & 0.207$\\pm$0.179 & \\textit{0.171} \\\\\n",
      "  Average & 0.231 & 0.139 & 0.130 & 0.226 &    \\\\\n",
      "\\end{tabular}\n",
      "\\end{center}\n",
      "\n"
     ]
    }
   ],
   "source": [
    "#ID 38(9)\n",
    "\n",
    "co.print_latex(include_stdevs=True)"
   ]
  },
  {
   "cell_type": "markdown",
   "id": "0bc535a8",
   "metadata": {
    "id": "0bc535a8"
   },
   "source": [
    "So,This was our example algorithm. Other algorithms can be used to run and extend benchmarks,  Please refer  to <b>5. ALGORITHM TRAINING AND TESTING</b>."
   ]
  }
 ],
 "metadata": {
  "colab": {
   "collapsed_sections": [],
   "name": "Unsupervised_Anomaly_Detection_on_Benchmark_Image_Data_2.ipynb",
   "provenance": []
  },
  "kernelspec": {
   "display_name": "oab",
   "language": "python",
   "name": "oab"
  },
  "language_info": {
   "codemirror_mode": {
    "name": "ipython",
    "version": 3
   },
   "file_extension": ".py",
   "mimetype": "text/x-python",
   "name": "python",
   "nbconvert_exporter": "python",
   "pygments_lexer": "ipython3",
   "version": "3.7.5"
  }
 },
 "nbformat": 4,
 "nbformat_minor": 5
}
