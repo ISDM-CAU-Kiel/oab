{
 "cells": [
  {
   "cell_type": "code",
   "execution_count": null,
   "metadata": {
    "id": "0RRyzqGZIhq6"
   },
   "outputs": [],
   "source": [
    "import sys\n",
    "sys.path.append('../..')\n",
    "\n",
    "%load_ext autoreload\n",
    "%autoreload 2"
   ]
  },
  {
   "cell_type": "code",
   "execution_count": null,
   "metadata": {
    "id": "pDFT9oz9LQdP"
   },
   "outputs": [],
   "source": [
    "from tqdm import tqdm\n",
    "\n",
    "# import function to load datasets\n",
    "from oab.data.load_dataset import load_dataset\n",
    "# import objects for evaluation\n",
    "from oab.evaluation import EvaluationObject, ComparisonObject\n",
    "\n",
    "# import anomaly detection algorithms from pyod\n",
    "from pyod.models.knn import KNN # fit and decision_scores_\n",
    "from pyod.models.lof import LOF\n",
    "from pyod.models.iforest import IForest\n",
    "from pyod.models.abod import ABOD\n",
    "from pyod.models.auto_encoder import AutoEncoder\n",
    "from ae_lof import AELOF"
   ]
  },
  {
   "cell_type": "code",
   "execution_count": null,
   "metadata": {
    "colab": {
     "base_uri": "https://localhost:8080/"
    },
    "id": "g9m0QTORzU_Z",
    "outputId": "6864fadd-657d-48d7-c1bf-b96b448e8de0"
   },
   "outputs": [],
   "source": [
    "# load datasets and store them in a list\n",
    "spambase = load_dataset('spambase')\n",
    "wilt = load_dataset('wilt')\n",
    "nasa = load_dataset('NASA_ground_data')\n",
    "annthyroid = load_dataset('annthyroid')\n",
    "pageblocks = load_dataset('page-blocks')\n",
    "ionosphere = load_dataset('ionosphere')\n",
    "boston = load_dataset('boston')\n",
    "\n",
    "\n",
    "datasets = [\n",
    "    spambase,\n",
    "    wilt,\n",
    "    nasa,\n",
    "    annthyroid,\n",
    "    pageblocks,\n",
    "    ionosphere,\n",
    "    boston\n",
    "            ]"
   ]
  },
  {
   "cell_type": "code",
   "execution_count": null,
   "metadata": {
    "id": "i_nCA0EP5BXQ"
   },
   "outputs": [],
   "source": [
    "# specify which algorithms to use and what their name is\n",
    "algorithm_names = [\"kNN\", \n",
    "                   \"LOF\", \n",
    "                   \"IForest\",\n",
    "                   \"ABOD\",\n",
    "                   \"AE\",\n",
    "                   \"AELOF\",\n",
    "                   ]\n",
    "\n",
    "algorithms = [KNN, LOF, IForest, ABOD, AutoEncoder, AELOF]\n",
    "\n",
    "names_to_algorithms = {'kNN': KNN, 'LOF': LOF, 'IForest': IForest, 'ABOD': ABOD, 'AE': AutoEncoder, 'AELOF': AELOF}\n",
    "names_to_init = dict()"
   ]
  },
  {
   "cell_type": "code",
   "execution_count": null,
   "metadata": {
    "id": "yIvHhApRLzRh"
   },
   "outputs": [],
   "source": [
    "# kNN\n",
    "knn_factor = 0.05\n",
    "knn_minimum = 10\n",
    "def kNN_initialize(n: int):\n",
    "    k = int(max(knn_factor * n, knn_minimum))\n",
    "    return KNN(n_neighbors=k)\n",
    "\n",
    "names_to_init['kNN'] = kNN_initialize\n",
    "\n",
    "\n",
    "# LOF\n",
    "lof_factor = 0.1\n",
    "lof_minimum = 10\n",
    "def LOF_initalize(n: int):\n",
    "    k = int(max(lof_factor * n, lof_minimum))\n",
    "    return KNN(n_neighbors=k)\n",
    "\n",
    "names_to_init['LOF'] = LOF_initalize\n",
    "\n",
    "\n",
    "# ABOD\n",
    "abod_factor = 0.01\n",
    "abod_minimum = 10\n",
    "def ABOD_initialize(n: int):\n",
    "    k = int( max(abod_factor * n, abod_minimum))\n",
    "    return ABOD(n_neighbors=k)\n",
    "\n",
    "names_to_init['ABOD'] = ABOD_initialize\n",
    "\n",
    "\n",
    "# IForest\n",
    "def IForest_initialize(*args, **kwargs):\n",
    "    return IForest(random_state=42)\n",
    "\n",
    "names_to_init['IForest'] = IForest_initialize\n",
    "\n",
    "\n",
    "# AE\n",
    "import tensorflow as tf\n",
    "import numpy as np\n",
    "def AE_initialize(*args, **kwargs):\n",
    "    tf.random.set_seed(42)\n",
    "    np.random.seed(42)\n",
    "    return AutoEncoder(verbose=0, hidden_neurons=[6, 3, 3, 6], random_state=42)\n",
    "\n",
    "names_to_init['AE'] = AE_initialize\n",
    "\n",
    "\n",
    "# AE LOF\n",
    "lof_factor = 0.1\n",
    "lof_minimum = 10\n",
    "AE_params = {'verbose': 0, 'hidden_neurons': [6, 3, 3, 6], 'random_state': 42}\n",
    "def AELOF_initialize(n: int):\n",
    "    k = int(max(lof_factor * n, lof_minimum))\n",
    "    return AELOF(AE_parameters=AE_params, LOF_parameters={'n_neighbors': k}, random_state=42)\n",
    "\n",
    "names_to_init['AELOF'] = AELOF_initialize"
   ]
  },
  {
   "cell_type": "code",
   "execution_count": null,
   "metadata": {
    "colab": {
     "background_save": true,
     "base_uri": "https://localhost:8080/"
    },
    "id": "QnAfCGTGL7xv",
    "outputId": "bac2abd9-58cf-49ca-ec01-8024af739577"
   },
   "outputs": [],
   "source": [
    "# create comparison object that holds all evaluations\n",
    "co = ComparisonObject()\n",
    "\n",
    "# run algorithms on datasets\n",
    "for dataset in datasets:\n",
    "    sampling_size = dataset.get_sampling_parameters(contamination_rate=0.05, downscaling_factor=0.9)['n']\n",
    "    for algorithm_name in algorithm_names:\n",
    "        print(f\"-- Dataset name {dataset.classification_dataset.name}, size {sampling_size}, algorithm {algorithm_name}\")\n",
    "\n",
    "        # eval_obj stores predictions and ground truths\n",
    "        eval_obj = EvaluationObject(algorithm_name=algorithm_name)\n",
    "        initializer=names_to_init[algorithm_name]\n",
    "        \n",
    "        i=0\n",
    "\n",
    "        for (x, y), sample_config in dataset.sample_from_yaml(type='unsupervised_multiple_benchmark'):\n",
    "            print('.', end='')\n",
    "            if i==0:\n",
    "                print(f\"{x.shape}\", end='')\n",
    "                i += 1\n",
    "            algo = initializer(sampling_size)\n",
    "            # fit data to algorithm\n",
    "            algo.fit(x)\n",
    "            # get prediction scores\n",
    "            pred = algo.decision_scores_\n",
    "            # add ground truth and prediction to evaluation object\n",
    "            eval_obj.add(ground_truth=y, prediction=pred, description=sample_config)\n",
    "\n",
    "        # calculate mean values for metrics based on previously added ground truths\n",
    "        # and predictions\n",
    "        eval_desc = eval_obj.evaluate(print=False, metrics=['roc_auc', 'adjusted_average_precision', 'precision_recall_auc'])\n",
    "        # add resulting evaluation to the comparison object\n",
    "        co.add_evaluation(eval_desc)"
   ]
  },
  {
   "cell_type": "code",
   "execution_count": null,
   "metadata": {
    "id": "xH9DL5HKL-WQ"
   },
   "outputs": [],
   "source": [
    "# print results in easily readable format\n",
    "co.print_results()"
   ]
  },
  {
   "cell_type": "code",
   "execution_count": null,
   "metadata": {
    "id": "m7etYG02MueF"
   },
   "outputs": [],
   "source": [
    "datasets = co._get_datasets()"
   ]
  },
  {
   "cell_type": "code",
   "execution_count": null,
   "metadata": {
    "id": "eI2pWP2_Mui0"
   },
   "outputs": [],
   "source": []
  },
  {
   "cell_type": "code",
   "execution_count": null,
   "metadata": {
    "id": "BHkyCloWFCse"
   },
   "outputs": [],
   "source": [
    "# print results in easily readable format with standard deviations\n",
    "co.choose_datasets(None)\n",
    "co.print_results(include_stdevs=True)"
   ]
  },
  {
   "cell_type": "code",
   "execution_count": null,
   "metadata": {
    "id": "Fqi3fUTRL_NV"
   },
   "outputs": [],
   "source": [
    "# print results in latex format (note: also has parameter include_stdevs)\n",
    "co.print_latex()"
   ]
  },
  {
   "cell_type": "code",
   "execution_count": null,
   "metadata": {
    "id": "pee33EGMF1ry"
   },
   "outputs": [],
   "source": []
  }
 ],
 "metadata": {
  "colab": {
   "collapsed_sections": [],
   "name": "0_1Unsupervised_tabular_oneparameter.ipynb",
   "provenance": []
  },
  "kernelspec": {
   "display_name": "Python 3",
   "language": "python",
   "name": "python3"
  },
  "language_info": {
   "codemirror_mode": {
    "name": "ipython",
    "version": 3
   },
   "file_extension": ".py",
   "mimetype": "text/x-python",
   "name": "python",
   "nbconvert_exporter": "python",
   "pygments_lexer": "ipython3",
   "version": "3.9.0"
  }
 },
 "nbformat": 4,
 "nbformat_minor": 4
}
