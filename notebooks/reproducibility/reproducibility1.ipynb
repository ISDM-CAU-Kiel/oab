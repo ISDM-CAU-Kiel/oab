{
 "cells": [
  {
   "cell_type": "markdown",
   "metadata": {
    "id": "zWTe3BI5Gfyz"
   },
   "source": [
    "This notebook shows how `oab` can be used to make results easily reproducible, ranging from preprocessing over converting the dataset into an anomaly dataset and finally sampling from this dataset.\n",
    "Note that if a more unique preprocessing is applied, this can also easily be made reproducible. The notebook `Reproducibility2.ipynb` focuses on that.\n",
    "\n",
    "This notebook is divided into 2 subsections:\n",
    "1. Making an experiment that is to be reproduced.\n",
    "2. Reproducing the experiment.\n",
    "\n",
    "`yaml` files play an integral role in making reproducibility work, as they store the operations and parameters performed on the data."
   ]
  },
  {
   "cell_type": "code",
   "execution_count": 1,
   "metadata": {
    "executionInfo": {
     "elapsed": 8324,
     "status": "ok",
     "timestamp": 1626964742830,
     "user": {
      "displayName": "Jan Deller",
      "photoUrl": "",
      "userId": "00505075318196950908"
     },
     "user_tz": -120
    },
    "id": "liLAM3RxGRMC"
   },
   "outputs": [],
   "source": [
    "import sys\n",
    "sys.path.append('../..')\n",
    "\n",
    "%load_ext autoreload\n",
    "%autoreload 2"
   ]
  },
  {
   "cell_type": "markdown",
   "metadata": {
    "id": "T155-EM7I7Rz"
   },
   "source": [
    "# 1"
   ]
  },
  {
   "cell_type": "code",
   "execution_count": 2,
   "metadata": {
    "colab": {
     "base_uri": "https://localhost:8080/"
    },
    "executionInfo": {
     "elapsed": 3637,
     "status": "ok",
     "timestamp": 1626964746462,
     "user": {
      "displayName": "Jan Deller",
      "photoUrl": "",
      "userId": "00505075318196950908"
     },
     "user_tz": -120
    },
    "id": "9QfRYkN4HLGN",
    "outputId": "591d8d2b-1412-4395-ce75-547934e4e023"
   },
   "outputs": [
    {
     "name": "stdout",
     "output_type": "stream",
     "text": [
      "Credits: Dua, D. and Graff, C. (2019). UCI Machine Learning Repository [http://archive.ics.uci.edu/ml]. Irvine, CA: University of California, School of Information and Computer Science.\n"
     ]
    }
   ],
   "source": [
    "# other imports\n",
    "import pandas as pd\n",
    "\n",
    "from oab.data.classification_dataset import ClassificationDataset\n",
    "from oab.data.unsupervised import UnsupervisedAnomalyDataset\n",
    "from oab.data.load_dataset import load_dataset\n",
    "from oab.evaluation import EvaluationObject, ComparisonObject\n",
    "\n",
    "from pyod.models.knn import KNN\n",
    "\n",
    "_ = load_dataset(\"wilt\") # dataset wilt is loaded, but not used, as this is to show how to use any dataset, not only preinstalled ones."
   ]
  },
  {
   "cell_type": "code",
   "execution_count": 3,
   "metadata": {
    "executionInfo": {
     "elapsed": 19,
     "status": "ok",
     "timestamp": 1626964746465,
     "user": {
      "displayName": "Jan Deller",
      "photoUrl": "",
      "userId": "00505075318196950908"
     },
     "user_tz": -120
    },
    "id": "l2i7iAh6HrxO"
   },
   "outputs": [],
   "source": [
    "# Load wilt dataset and split into x and y values\n",
    "w = pd.read_csv(\"datasets/wilt/wilt.csv\")\n",
    "y_wilt = w['class']\n",
    "x_wilt = w.iloc[:, 1:].values\n",
    "\n",
    "# create a ClassificationDataset object\n",
    "cd = ClassificationDataset(x_wilt, y_wilt, name=\"WILT\")\n",
    "# perform a preprocessing operation\n",
    "cd.standardize_columns()\n",
    "# this operations is now written to `config.yaml`, feel free to check the content of this file\n",
    "cd.write_operations_to_yaml(\"config.yaml\")"
   ]
  },
  {
   "cell_type": "code",
   "execution_count": 4,
   "metadata": {
    "executionInfo": {
     "elapsed": 14,
     "status": "ok",
     "timestamp": 1626964746465,
     "user": {
      "displayName": "Jan Deller",
      "photoUrl": "",
      "userId": "00505075318196950908"
     },
     "user_tz": -120
    },
    "id": "3BYnHLa_H6hS"
   },
   "outputs": [],
   "source": [
    "# now, we make an anomaly dataset by specifying which labels are normal labels\n",
    "# again, check the yaml for what has changed\n",
    "# note that it's also possible to write this information to a new yaml file using the parameter `yamlpath_new`\n",
    "ad = UnsupervisedAnomalyDataset(cd, normal_labels=['n'], yamlpath_append='config.yaml')"
   ]
  },
  {
   "cell_type": "code",
   "execution_count": 5,
   "metadata": {
    "colab": {
     "base_uri": "https://localhost:8080/"
    },
    "executionInfo": {
     "elapsed": 14,
     "status": "ok",
     "timestamp": 1626964746467,
     "user": {
      "displayName": "Jan Deller",
      "photoUrl": "",
      "userId": "00505075318196950908"
     },
     "user_tz": -120
    },
    "id": "ew9F3VGuIN4e",
    "outputId": "bd252472-6f95-4113-9d94-c03b11b1a005"
   },
   "outputs": [
    {
     "name": "stdout",
     "output_type": "stream",
     "text": [
      "Evaluation on dataset WILT with normal labels ['n'] and anomaly labels ['w'].\n",
      "Total of 10 datasets. Per dataset:\n",
      "50 instances, contamination_rate 0.1.\n",
      "Mean \t Std_dev \t Metric\n",
      "0.332 \t 0.036 \t\t roc_auc\n",
      "0.086 \t 0.004 \t\t average_precision\n",
      "-0.015 \t 0.005 \t\t adjusted_average_precision\n"
     ]
    }
   ],
   "source": [
    "# run experiment\n",
    "# again, check the yaml for what has changed. Just as above, alternatively use `yamlpath_new`\n",
    "eval_obj = EvaluationObject(algorithm_name=\"kNN\")\n",
    "for (x, y), sample_config in ad.sample_multiple(n=50, n_steps=10, contamination_rate=0.1, yamlpath_append='config.yaml'):\n",
    "# for (x, y), sample_config in ad.sample_multiple(n=50, n_steps=10, contamination_rate=0.1, yamlpath_new='sampling.yaml'):\n",
    "    algo = KNN()\n",
    "    algo.fit(x)\n",
    "    pred = algo.decision_scores_\n",
    "    eval_obj.add(ground_truth=y, prediction=pred, description=sample_config)\n",
    "\n",
    "_ = eval_obj.evaluate()"
   ]
  },
  {
   "cell_type": "markdown",
   "metadata": {},
   "source": [
    "In `config.yaml`, we now see the sampling parameters for `\"unsupervised_multiple\"`. If sampling is done in a different scenario, e.g., semisupervised multiple, this would also be stored in `config.yaml` using a different key in the `sampling` dict."
   ]
  },
  {
   "cell_type": "code",
   "execution_count": 6,
   "metadata": {},
   "outputs": [
    {
     "name": "stdout",
     "output_type": "stream",
     "text": [
      "standard_functions:\n",
      "- name: standardize_columns\n",
      "  parameters:\n",
      "    cols_to_standardize:\n",
      "anomaly_dataset:\n",
      "  arguments:\n",
      "    normal_labels:\n",
      "    - n\n",
      "    anomaly_labels:\n",
      "sampling:\n",
      "  unsupervised_multiple:\n",
      "    n: 50\n",
      "    n_steps: 10\n",
      "    contamination_rate: 0.1\n",
      "    shuffle: true\n",
      "    random_seed: 42\n",
      "    apply_random_seed: true\n",
      "    keep_frequency_ratio_normals: false\n",
      "    equal_frequency_normals: false\n",
      "    keep_frequency_ratio_anomalies: false\n",
      "    equal_frequency_anomalies: false\n",
      "    include_description: true\n",
      "    flatten_images: true\n"
     ]
    }
   ],
   "source": [
    "!cat config.yaml"
   ]
  },
  {
   "cell_type": "markdown",
   "metadata": {
    "id": "VWpUm7VLIdQh"
   },
   "source": [
    "# 2\n",
    "\n",
    "Now the experiment was performed and all information necessary to reproduce it is stored in `config.yaml`. In the second part, the results from above are reproduced."
   ]
  },
  {
   "cell_type": "code",
   "execution_count": 7,
   "metadata": {
    "executionInfo": {
     "elapsed": 13,
     "status": "ok",
     "timestamp": 1626964746469,
     "user": {
      "displayName": "Jan Deller",
      "photoUrl": "",
      "userId": "00505075318196950908"
     },
     "user_tz": -120
    },
    "id": "zdu3xobaIZRc"
   },
   "outputs": [],
   "source": [
    "# Load the dataset, perprocess it and make it into an anomaly dataset\n",
    "# Note that it has to be specified that it is unsupervised\n",
    "cd2 = ClassificationDataset(x_wilt, y_wilt, name=\"WILT2\")\n",
    "cd2.perform_operations_from_yaml(filepath='config.yaml')\n",
    "ad2 = cd2.tranform_from_yaml(filepath='config.yaml', unsupervised=True)"
   ]
  },
  {
   "cell_type": "code",
   "execution_count": 8,
   "metadata": {
    "colab": {
     "base_uri": "https://localhost:8080/"
    },
    "executionInfo": {
     "elapsed": 361,
     "status": "ok",
     "timestamp": 1626964746818,
     "user": {
      "displayName": "Jan Deller",
      "photoUrl": "",
      "userId": "00505075318196950908"
     },
     "user_tz": -120
    },
    "id": "7SN0Sds7IwJ-",
    "outputId": "460b1ad6-4b49-4104-dd93-5c2b16440f70"
   },
   "outputs": [
    {
     "name": "stdout",
     "output_type": "stream",
     "text": [
      "Evaluation on dataset WILT2 with normal labels ['n'] and anomaly labels ['w'].\n",
      "Total of 10 datasets. Per dataset:\n",
      "50 instances, contamination_rate 0.1.\n",
      "Mean \t Std_dev \t Metric\n",
      "0.332 \t 0.036 \t\t roc_auc\n",
      "0.086 \t 0.004 \t\t average_precision\n",
      "-0.015 \t 0.005 \t\t adjusted_average_precision\n"
     ]
    }
   ],
   "source": [
    "# Rerun the experiment and see that the results are the same\n",
    "eval_obj2 = EvaluationObject(algorithm_name=\"kNN\")\n",
    "for (x, y), sample_config in ad2.sample_from_yaml(\"config.yaml\", type=\"unsupervised_multiple\"): # because we sample multiple times from an unsupervised dataset, \"unsupervised_multiple is used as type\"\n",
    "    algo = KNN()\n",
    "    algo.fit(x)\n",
    "    pred = algo.decision_scores_\n",
    "    eval_obj2.add(ground_truth=y, prediction=pred, description=sample_config)\n",
    "    \n",
    "_ = eval_obj2.evaluate()"
   ]
  },
  {
   "cell_type": "code",
   "execution_count": null,
   "metadata": {},
   "outputs": [],
   "source": []
  }
 ],
 "metadata": {
  "colab": {
   "authorship_tag": "ABX9TyNbwkOFtjuvYLnCvHfxNytn",
   "collapsed_sections": [],
   "name": "Reproducibility1.ipynb",
   "provenance": []
  },
  "kernelspec": {
   "display_name": "Python 3",
   "language": "python",
   "name": "python3"
  },
  "language_info": {
   "codemirror_mode": {
    "name": "ipython",
    "version": 3
   },
   "file_extension": ".py",
   "mimetype": "text/x-python",
   "name": "python",
   "nbconvert_exporter": "python",
   "pygments_lexer": "ipython3",
   "version": "3.9.0"
  }
 },
 "nbformat": 4,
 "nbformat_minor": 4
}
