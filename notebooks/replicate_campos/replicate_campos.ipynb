{
 "cells": [
  {
   "cell_type": "markdown",
   "metadata": {
    "id": "zWTe3BI5Gfyz"
   },
   "source": [
    "This notebook aims at reproducing results from Campos et al., more concretely, on the PageBlocks dataset with a contamination rate of 0.05 - see all datasets with that contamination rate on https://www.dbs.ifi.lmu.de/research/outlier-evaluation/DAMI/semantic/PageBlocks/. Specifically, the unscaled variant without duplicates is considered.\n",
    "\n",
    "Campos et al. report the values for different `n_neighbors` for each sampled dataset. In the unscaled variant without duplicates, the result for LOF is frequently reported with `n_neighbors=100` or, if this is not the case, for a slighlty different parameter. In the following, we look at ROC AUC, AP and ajusted AP. For all metrics, the results on all 10 data sets sampled from PageBlocks are reported. If the `n_neighbors` parameter is not set to 100, this is indicated in parenthesis.\n",
    "\n",
    "- ROC AUC: Average of 0.926. Individual values are: 0.932, 0.924, 0.921 (99), 0.925, 0.937, 0.925 (99), 0.932 (97), 0.919 (99), 0.925, 0.920.\n",
    "\n",
    "- Average Precision: Average of 0.5085. Individual values are: 0.514, 0.486, 0.498 (99), 0.496, 0.564, 0.520 (99), 0.535 (97), 0.486 (99), 0.510, 0.476.\n",
    "\n",
    "- Adjusted Average Precision: Average of 0.483. Individual values are: 0.490, 0.459, 0.472 (99), 0.469, 0.541, 0.494 (99), 0.511 (97), 0.459 (99), 0.484, 0.449."
   ]
  },
  {
   "cell_type": "code",
   "execution_count": 1,
   "metadata": {
    "id": "liLAM3RxGRMC"
   },
   "outputs": [],
   "source": [
    "import sys\n",
    "sys.path.append('../..')\n",
    "\n",
    "%load_ext autoreload\n",
    "%autoreload 2"
   ]
  },
  {
   "cell_type": "code",
   "execution_count": 2,
   "metadata": {
    "id": "9QfRYkN4HLGN"
   },
   "outputs": [],
   "source": [
    "# other imports\n",
    "import pandas as pd\n",
    "\n",
    "from oab.data.classification_dataset import ClassificationDataset\n",
    "from oab.data.unsupervised import UnsupervisedAnomalyDataset\n",
    "from oab.data.load_dataset import load_dataset\n",
    "from oab.evaluation import EvaluationObject, ComparisonObject\n",
    "\n",
    "from pyod.models.lof import LOF\n",
    "from pyod.models.knn import KNN"
   ]
  },
  {
   "cell_type": "code",
   "execution_count": 3,
   "metadata": {
    "colab": {
     "base_uri": "https://localhost:8080/"
    },
    "id": "Y162vS6BeMtR",
    "outputId": "2e6435b6-f9d6-4e35-e8a0-ee87910533da"
   },
   "outputs": [
    {
     "name": "stdout",
     "output_type": "stream",
     "text": [
      "Credits: Dua, D. and Graff, C. (2019). UCI Machine Learning Repository [http://archive.ics.uci.edu/ml]. Irvine, CA: University of California, School of Information and Computer Science. For more information, check https://archive.ics.uci.edu/ml/datasets/Page+Blocks+Classification.\n"
     ]
    }
   ],
   "source": [
    "pageblocks_cd = load_dataset('page-blocks', anomaly_dataset=False, preprocess_classification_dataset=False)"
   ]
  },
  {
   "cell_type": "code",
   "execution_count": 4,
   "metadata": {
    "id": "21l8WhBpeXWP"
   },
   "outputs": [],
   "source": [
    "pageblocks_cd.delete_duplicates()\n",
    "pageblocks_cd.treat_missing_values()\n",
    "pageblocks_ad = UnsupervisedAnomalyDataset(pageblocks_cd, normal_labels=[1], anomaly_labels=[2, 3, 4, 5])"
   ]
  },
  {
   "cell_type": "code",
   "execution_count": 5,
   "metadata": {
    "colab": {
     "base_uri": "https://localhost:8080/"
    },
    "id": "ivuWLpZneXY8",
    "outputId": "aa2518cf-2a8b-401a-e5e4-9f9a11de8e22"
   },
   "outputs": [
    {
     "name": "stdout",
     "output_type": "stream",
     "text": [
      "Evaluation on dataset page-blocks with normal labels [1] and anomaly labels [2, 3, 4, 5].\n",
      "Total of 10 datasets. Per dataset:\n",
      "5139 instances, contamination_rate 0.05.\n",
      "Mean \t Std_dev \t Metric\n",
      "0.926 \t 0.005 \t\t roc_auc\n",
      "0.506 \t 0.018 \t\t average_precision\n",
      "0.480 \t 0.019 \t\t adjusted_average_precision\n"
     ]
    }
   ],
   "source": [
    "# run experiment\n",
    "eval_obj = EvaluationObject(algorithm_name=\"LOF\")\n",
    "for (x, y), sample_config in pageblocks_ad.sample_multiple(n=5139, contamination_rate=0.05, n_steps=10):\n",
    "    algo = LOF(n_neighbors=100)\n",
    "    algo.fit(x)\n",
    "    pred = algo.decision_scores_\n",
    "    eval_obj.add(ground_truth=y, prediction=pred, description=sample_config)\n",
    "\n",
    "_ = eval_obj.evaluate()"
   ]
  },
  {
   "cell_type": "markdown",
   "metadata": {
    "id": "ZyShS2ourHOz"
   },
   "source": [
    "We can see that for LOF and `n_neighbors=100`, the ROC AUC we computed was `0.926`, which is what we expect. For AP, we expected `0.5085` and calculated `0.506`, and for Adjusted AP, the values are `0.483` and `0.480` respectively."
   ]
  },
  {
   "cell_type": "code",
   "execution_count": null,
   "metadata": {
    "id": "UR667Tt8IsH9"
   },
   "outputs": [],
   "source": []
  },
  {
   "cell_type": "code",
   "execution_count": null,
   "metadata": {
    "id": "k3QpFtywIsJi"
   },
   "outputs": [],
   "source": []
  }
 ],
 "metadata": {
  "colab": {
   "collapsed_sections": [],
   "name": "ReproduceCampos.ipynb",
   "provenance": []
  },
  "kernelspec": {
   "display_name": "Python 3",
   "language": "python",
   "name": "python3"
  },
  "language_info": {
   "codemirror_mode": {
    "name": "ipython",
    "version": 3
   },
   "file_extension": ".py",
   "mimetype": "text/x-python",
   "name": "python",
   "nbconvert_exporter": "python",
   "pygments_lexer": "ipython3",
   "version": "3.9.0"
  }
 },
 "nbformat": 4,
 "nbformat_minor": 4
}
