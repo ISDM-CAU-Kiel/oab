{
 "cells": [
  {
   "cell_type": "markdown",
   "metadata": {
    "id": "1G2RLhw2Q3c6"
   },
   "source": [
    "In this notebook, you will see how a semisupervised anomaly detection algorithm can be imported into the `oab` framework to be evaluated.\n",
    "After installing `oab`, we will see what this algorithm can look like and how its performance is evaluated."
   ]
  },
  {
   "cell_type": "code",
   "execution_count": 1,
   "metadata": {
    "executionInfo": {
     "elapsed": 10509,
     "status": "ok",
     "timestamp": 1629876961052,
     "user": {
      "displayName": "Jan Deller",
      "photoUrl": "",
      "userId": "00505075318196950908"
     },
     "user_tz": -120
    },
    "id": "rD6MYMd-GV2U"
   },
   "outputs": [],
   "source": [
    "import sys\n",
    "sys.path.append('../..')\n",
    "\n",
    "%load_ext autoreload\n",
    "%autoreload 2"
   ]
  },
  {
   "cell_type": "code",
   "execution_count": 2,
   "metadata": {
    "colab": {
     "base_uri": "https://localhost:8080/"
    },
    "executionInfo": {
     "elapsed": 308,
     "status": "ok",
     "timestamp": 1629876961357,
     "user": {
      "displayName": "Jan Deller",
      "photoUrl": "",
      "userId": "00505075318196950908"
     },
     "user_tz": -120
    },
    "id": "pL5va56mQ5JB",
    "outputId": "86881278-4709-4376-ed68-3bef07912223"
   },
   "outputs": [
    {
     "name": "stdout",
     "output_type": "stream",
     "text": [
      "import numpy as np\n",
      "\n",
      "class RandomGuesserSemisupervised():\n",
      "\n",
      "    def fit(self, X_train):\n",
      "        pass\n",
      "      \n",
      "    def decision_function(self, X_test):\n",
      "        \"Assign a random number to each sample from the test set\"\n",
      "        n_samples = X_test.shape[0]\n",
      "        return np.random.randn(n_samples)\n"
     ]
    }
   ],
   "source": [
    "# download example algorithm and inspect content\n",
    "import wget\n",
    "wget.download('https://raw.githubusercontent.com/jandeller/test/main/RandomGuesserSemisupervised.py', \"RandomGuesserSemisupervised.py\")\n",
    "!cat RandomGuesserSemisupervised.py"
   ]
  },
  {
   "cell_type": "markdown",
   "metadata": {
    "id": "enGFFsQpRJ2Y"
   },
   "source": [
    "The sample `RandomGuesser` algorithm shown here is - as the name suggests - a random guesser, i.e., it assigns random anomaly scores to the samples.\n",
    "\n",
    "An algorithm used for semisupervised anomaly detection needs to specify a `fit(X_train)` method for training and a `decision_function(X_test)` method for inference that returns an anomaly score per data point in the test set.\n",
    "\n",
    "It is of course possible to rename the method and field, use a method for accessing the anomaly scores, etc. Note that if this is done, the following code has to be changed accordingly. Adhering to the conventions described above (`fit(X_train)` and `decision_function(X_test)`) allows you to use the same interface as algorithms from [`PyOD`](https://pyod.readthedocs.io/en/latest/) as shown when [comparing algorithms using `oab`](https://colab.research.google.com/drive/1aV_itaYCJgzdZ1lQ7SUyHQ7z01xSPxDN?usp=sharing#scrollTo=QnAfCGTGL7xv)."
   ]
  },
  {
   "cell_type": "code",
   "execution_count": 3,
   "metadata": {
    "executionInfo": {
     "elapsed": 4308,
     "status": "ok",
     "timestamp": 1629876965663,
     "user": {
      "displayName": "Jan Deller",
      "photoUrl": "",
      "userId": "00505075318196950908"
     },
     "user_tz": -120
    },
    "id": "OoqO8UrFRBhO"
   },
   "outputs": [],
   "source": [
    "# import objects/functions from oab\n",
    "from oab.data.load_dataset import load_dataset\n",
    "from oab.evaluation import EvaluationObject\n",
    "\n",
    "# and import the RandomGuesser\n",
    "from RandomGuesserSemisupervised import RandomGuesserSemisupervised"
   ]
  },
  {
   "cell_type": "code",
   "execution_count": 4,
   "metadata": {
    "colab": {
     "base_uri": "https://localhost:8080/"
    },
    "executionInfo": {
     "elapsed": 754,
     "status": "ok",
     "timestamp": 1629876966407,
     "user": {
      "displayName": "Jan Deller",
      "photoUrl": "",
      "userId": "00505075318196950908"
     },
     "user_tz": -120
    },
    "id": "cg7L028uRGET",
    "outputId": "8455af5c-3ab7-46c9-ead6-ca7a879ae093"
   },
   "outputs": [
    {
     "name": "stdout",
     "output_type": "stream",
     "text": [
      "Credits: Dua, D. and Graff, C. (2019). UCI Machine Learning Repository [http://archive.ics.uci.edu/ml]. Irvine, CA: University of California, School of Information and Computer Science.\n"
     ]
    }
   ],
   "source": [
    "#load dataset\n",
    "wilt = load_dataset('wilt', semisupervised=True)\n",
    "\n",
    "# sampling parameters\n",
    "training_split = 0.7\n",
    "max_contamination_rate = 0.5\n",
    "n_steps = 10"
   ]
  },
  {
   "cell_type": "code",
   "execution_count": 5,
   "metadata": {
    "colab": {
     "base_uri": "https://localhost:8080/"
    },
    "executionInfo": {
     "elapsed": 226,
     "status": "ok",
     "timestamp": 1629877019322,
     "user": {
      "displayName": "Jan Deller",
      "photoUrl": "",
      "userId": "00505075318196950908"
     },
     "user_tz": -120
    },
    "id": "AlDOdMcJRjLK",
    "outputId": "c5aa1fd3-9191-43cf-d1b9-f05622708976"
   },
   "outputs": [
    {
     "name": "stdout",
     "output_type": "stream",
     "text": [
      "Evaluation on dataset wilt with normal labels ['n'] and anomaly labels ['w'].\n",
      "Total of 10 datasets. Per dataset:\n",
      "3193 training instances, 1626 test instances, training contamination rate 0.0, test contamination rate 0.15805658056580565.\n",
      "Mean \t Std_dev \t Metric\n",
      "0.501 \t 0.026 \t\t roc_auc\n",
      "0.161 \t 0.013 \t\t average_precision\n",
      "0.004 \t 0.015 \t\t adjusted_average_precision\n"
     ]
    }
   ],
   "source": [
    "# evaluate the random guesser\n",
    "eval_obj = EvaluationObject(\"Random\")\n",
    "\n",
    "for (X_train, X_test, y_test), settings in wilt.sample_multiple_with_training_split(training_split=training_split, \n",
    "                                                                 max_contamination_rate=max_contamination_rate, \n",
    "                                                                 n_steps=n_steps):\n",
    "    rg = RandomGuesserSemisupervised()\n",
    "    rg.fit(X_train) # data is fitted to RandomGuesser\n",
    "    pred = rg.decision_function(X_test) # and decision_scores_ is accessed\n",
    "    eval_obj.add(y_test, pred, settings)\n",
    "_ = eval_obj.evaluate()"
   ]
  },
  {
   "cell_type": "markdown",
   "metadata": {
    "id": "h34mFA3STgAB"
   },
   "source": [
    "As one would expect, the results are not better than random. (A random guess should have 0.5 as ROC AUC score and 0 as Adjusted Average Precision score.)"
   ]
  },
  {
   "cell_type": "code",
   "execution_count": null,
   "metadata": {
    "id": "4C-VwWGoPFyt"
   },
   "outputs": [],
   "source": []
  }
 ],
 "metadata": {
  "colab": {
   "authorship_tag": "ABX9TyPfwpWsxVLwVNFU9fOSN9lA",
   "collapsed_sections": [],
   "name": "OwnAlgorithmSemisupervised.ipynb",
   "provenance": []
  },
  "kernelspec": {
   "display_name": "Python 3",
   "language": "python",
   "name": "python3"
  },
  "language_info": {
   "codemirror_mode": {
    "name": "ipython",
    "version": 3
   },
   "file_extension": ".py",
   "mimetype": "text/x-python",
   "name": "python",
   "nbconvert_exporter": "python",
   "pygments_lexer": "ipython3",
   "version": "3.9.0"
  }
 },
 "nbformat": 4,
 "nbformat_minor": 4
}
