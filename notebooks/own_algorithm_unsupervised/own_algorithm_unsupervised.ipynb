{
 "cells": [
  {
   "cell_type": "markdown",
   "metadata": {
    "id": "1G2RLhw2Q3c6"
   },
   "source": [
    "In this notebook, you will see how an unsupervised anomaly detection algorithm can be imported into the `oab` framework to be evaluated.\n",
    "After installing `oab`, we will see what this algorithm can look like and how its performance is evaluated."
   ]
  },
  {
   "cell_type": "code",
   "execution_count": 1,
   "metadata": {
    "executionInfo": {
     "elapsed": 10238,
     "status": "ok",
     "timestamp": 1626964992173,
     "user": {
      "displayName": "Jan Deller",
      "photoUrl": "",
      "userId": "00505075318196950908"
     },
     "user_tz": -120
    },
    "id": "rD6MYMd-GV2U"
   },
   "outputs": [],
   "source": [
    "import sys\n",
    "sys.path.append('../..')\n",
    "\n",
    "%load_ext autoreload\n",
    "%autoreload 2"
   ]
  },
  {
   "cell_type": "code",
   "execution_count": 2,
   "metadata": {
    "colab": {
     "base_uri": "https://localhost:8080/"
    },
    "executionInfo": {
     "elapsed": 369,
     "status": "ok",
     "timestamp": 1626964992537,
     "user": {
      "displayName": "Jan Deller",
      "photoUrl": "",
      "userId": "00505075318196950908"
     },
     "user_tz": -120
    },
    "id": "pL5va56mQ5JB",
    "outputId": "f17bdaa4-5afd-4659-b580-e2ecf3b34be0"
   },
   "outputs": [
    {
     "name": "stdout",
     "output_type": "stream",
     "text": [
      "import numpy as np\n",
      "\n",
      "class RandomGuesser():\n",
      "\n",
      "    def fit(self, X):\n",
      "        \"Assign a random number to each sample\"\n",
      "        n_samples = X.shape[0]\n",
      "        self.decision_scores_ = np.random.randn(n_samples)\n"
     ]
    }
   ],
   "source": [
    "# download example algorithm and inspect content\n",
    "import wget\n",
    "wget.download('https://raw.githubusercontent.com/jandeller/test/main/RandomGuesser.py', \"RandomGuesser.py\")\n",
    "!cat RandomGuesser.py"
   ]
  },
  {
   "cell_type": "markdown",
   "metadata": {
    "id": "enGFFsQpRJ2Y"
   },
   "source": [
    "The sample `RandomGuesser` algorithm shown here is - as the name suggests - a random guesser, i.e., it assigns random anomaly scores to the samples.\n",
    "\n",
    "An algorithm used for unsupervised anomaly detection needs to specify a `fit(X)` method that eventually assigns values to `self.decision_scores_`, where the length of `self.decision_scores_` has to be the number of samples in `X`. \n",
    "\n",
    "It is of course possible to rename the method and field, make a method for accessing the anomaly scores, etc. Note that if this is done, the following code has to be changed accordingly. \n",
    "\n",
    "Adhering to the conventions described above has the advantage of using algorithms from [PyOD](https://pyod.readthedocs.io/en/latest/) as shown when [comparing algorithms using `oab`](https://colab.research.google.com/drive/1aV_itaYCJgzdZ1lQ7SUyHQ7z01xSPxDN?usp=sharing#scrollTo=QnAfCGTGL7xv)."
   ]
  },
  {
   "cell_type": "code",
   "execution_count": 3,
   "metadata": {
    "executionInfo": {
     "elapsed": 3159,
     "status": "ok",
     "timestamp": 1626965024634,
     "user": {
      "displayName": "Jan Deller",
      "photoUrl": "",
      "userId": "00505075318196950908"
     },
     "user_tz": -120
    },
    "id": "OoqO8UrFRBhO"
   },
   "outputs": [],
   "source": [
    "# import objects/functions from oab\n",
    "from oab.data.load_dataset import load_dataset\n",
    "from oab.evaluation import EvaluationObject\n",
    "\n",
    "# and import the RandomGuesser\n",
    "from RandomGuesser import RandomGuesser"
   ]
  },
  {
   "cell_type": "code",
   "execution_count": 4,
   "metadata": {
    "colab": {
     "base_uri": "https://localhost:8080/"
    },
    "executionInfo": {
     "elapsed": 873,
     "status": "ok",
     "timestamp": 1626965025503,
     "user": {
      "displayName": "Jan Deller",
      "photoUrl": "",
      "userId": "00505075318196950908"
     },
     "user_tz": -120
    },
    "id": "cg7L028uRGET",
    "outputId": "ac4d3c03-5f0a-4484-eb06-09075a226a31"
   },
   "outputs": [
    {
     "name": "stdout",
     "output_type": "stream",
     "text": [
      "Credits: Dua, D. and Graff, C. (2019). UCI Machine Learning Repository [http://archive.ics.uci.edu/ml]. Irvine, CA: University of California, School of Information and Computer Science.\n"
     ]
    }
   ],
   "source": [
    "#load dataset\n",
    "wilt = load_dataset('wilt')"
   ]
  },
  {
   "cell_type": "code",
   "execution_count": 5,
   "metadata": {
    "colab": {
     "base_uri": "https://localhost:8080/"
    },
    "executionInfo": {
     "elapsed": 238,
     "status": "ok",
     "timestamp": 1626965027446,
     "user": {
      "displayName": "Jan Deller",
      "photoUrl": "",
      "userId": "00505075318196950908"
     },
     "user_tz": -120
    },
    "id": "AlDOdMcJRjLK",
    "outputId": "8a5825e6-47de-46fb-caa2-f3aa637c1fa4"
   },
   "outputs": [
    {
     "name": "stdout",
     "output_type": "stream",
     "text": [
      "Evaluation on dataset wilt with normal labels ['n'] and anomaly labels ['w'].\n",
      "Total of 5 datasets. Per dataset:\n",
      "50 instances, contamination_rate 0.1.\n",
      "Mean \t Std_dev \t Metric\n",
      "0.543 \t 0.080 \t\t roc_auc\n",
      "0.187 \t 0.076 \t\t average_precision\n",
      "0.096 \t 0.084 \t\t adjusted_average_precision\n"
     ]
    }
   ],
   "source": [
    "# evaluate the random guesser\n",
    "eval_obj = EvaluationObject(\"Random\")\n",
    "\n",
    "for (x, y), settings in wilt.sample_multiple(n=50, n_steps=5, contamination_rate=0.1):\n",
    "    rg = RandomGuesser()\n",
    "    rg.fit(x) # data is fitted to RandomGuesser\n",
    "    pred = rg.decision_scores_ # and decision_scores_ is accessed\n",
    "    eval_obj.add(y, pred, settings)\n",
    "_ = eval_obj.evaluate()"
   ]
  },
  {
   "cell_type": "markdown",
   "metadata": {
    "id": "h34mFA3STgAB"
   },
   "source": [
    "As one would expect, the results are not better than random."
   ]
  },
  {
   "cell_type": "code",
   "execution_count": null,
   "metadata": {
    "id": "3c1UAfvuRz88"
   },
   "outputs": [],
   "source": []
  }
 ],
 "metadata": {
  "colab": {
   "authorship_tag": "ABX9TyPozRLEk3/YQNggpOl7hORf",
   "collapsed_sections": [],
   "name": "OwnAlgorithmUnsupervised.ipynb",
   "provenance": []
  },
  "kernelspec": {
   "display_name": "Python 3",
   "language": "python",
   "name": "python3"
  },
  "language_info": {
   "codemirror_mode": {
    "name": "ipython",
    "version": 3
   },
   "file_extension": ".py",
   "mimetype": "text/x-python",
   "name": "python",
   "nbconvert_exporter": "python",
   "pygments_lexer": "ipython3",
   "version": "3.9.0"
  }
 },
 "nbformat": 4,
 "nbformat_minor": 4
}
