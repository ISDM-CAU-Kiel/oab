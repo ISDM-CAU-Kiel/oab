{
 "cells": [
  {
   "cell_type": "markdown",
   "metadata": {
    "id": "s6j_OiZr6p14"
   },
   "source": [
    "In this notebook, you will see how different metrics can be selected when evaluating an algorithm's performance."
   ]
  },
  {
   "cell_type": "code",
   "execution_count": 1,
   "metadata": {
    "executionInfo": {
     "elapsed": 10059,
     "status": "ok",
     "timestamp": 1626964527823,
     "user": {
      "displayName": "Jan Deller",
      "photoUrl": "",
      "userId": "00505075318196950908"
     },
     "user_tz": -120
    },
    "id": "DcVnmVJp6oOo"
   },
   "outputs": [],
   "source": [
    "import sys\n",
    "sys.path.append('../..')\n",
    "\n",
    "%load_ext autoreload\n",
    "%autoreload 2"
   ]
  },
  {
   "cell_type": "code",
   "execution_count": 2,
   "metadata": {
    "executionInfo": {
     "elapsed": 3268,
     "status": "ok",
     "timestamp": 1626964531082,
     "user": {
      "displayName": "Jan Deller",
      "photoUrl": "",
      "userId": "00505075318196950908"
     },
     "user_tz": -120
    },
    "id": "ZB1QMjwz8gWj"
   },
   "outputs": [],
   "source": [
    "from oab.data.load_dataset import load_dataset\n",
    "from oab.evaluation import EvaluationObject, all_metrics\n",
    "\n",
    "from pyod.models.iforest import IForest"
   ]
  },
  {
   "cell_type": "code",
   "execution_count": 3,
   "metadata": {
    "colab": {
     "base_uri": "https://localhost:8080/"
    },
    "executionInfo": {
     "elapsed": 7037,
     "status": "ok",
     "timestamp": 1626964538110,
     "user": {
      "displayName": "Jan Deller",
      "photoUrl": "",
      "userId": "00505075318196950908"
     },
     "user_tz": -120
    },
    "id": "NuoTy1RG8gZM",
    "outputId": "ef264612-ac59-4129-db4b-45ac1357fae6"
   },
   "outputs": [
    {
     "name": "stdout",
     "output_type": "stream",
     "text": [
      "Credits: Dua, D. and Graff, C. (2019). UCI Machine Learning Repository [http://archive.ics.uci.edu/ml]. Irvine, CA: University of California, School of Information and Computer Science.\n"
     ]
    }
   ],
   "source": [
    "# load dataset\n",
    "forest = load_dataset('forest_cover')"
   ]
  },
  {
   "cell_type": "code",
   "execution_count": 4,
   "metadata": {
    "executionInfo": {
     "elapsed": 1171,
     "status": "ok",
     "timestamp": 1626964539276,
     "user": {
      "displayName": "Jan Deller",
      "photoUrl": "",
      "userId": "00505075318196950908"
     },
     "user_tz": -120
    },
    "id": "BTgyg4Re9QgJ"
   },
   "outputs": [],
   "source": [
    "# make experiments with iForest\n",
    "eval_obj = EvaluationObject(\"iForest\")\n",
    "\n",
    "for (x, y), settings in forest.sample_multiple(n=50, n_steps=5, contamination_rate=0.1):\n",
    "    iforest = IForest()\n",
    "    iforest.fit(x)\n",
    "    pred = iforest.decision_scores_\n",
    "    eval_obj.add(y, pred, settings)"
   ]
  },
  {
   "cell_type": "code",
   "execution_count": 5,
   "metadata": {
    "colab": {
     "base_uri": "https://localhost:8080/"
    },
    "executionInfo": {
     "elapsed": 17,
     "status": "ok",
     "timestamp": 1626964539278,
     "user": {
      "displayName": "Jan Deller",
      "photoUrl": "",
      "userId": "00505075318196950908"
     },
     "user_tz": -120
    },
    "id": "Xxb72a8I9V0o",
    "outputId": "6222a219-b0b1-453e-8525-c19bb17b78af"
   },
   "outputs": [
    {
     "name": "stdout",
     "output_type": "stream",
     "text": [
      "Evaluation on dataset forest_cover with normal labels [2] and anomaly labels [4].\n",
      "Total of 5 datasets. Per dataset:\n",
      "50 instances, contamination_rate 0.1.\n",
      "Mean \t Std_dev \t Metric\n",
      "0.925 \t 0.033 \t\t roc_auc\n",
      "0.583 \t 0.082 \t\t average_precision\n",
      "0.536 \t 0.091 \t\t adjusted_average_precision\n",
      "0.480 \t 0.098 \t\t precision_n\n",
      "0.422 \t 0.109 \t\t adjusted_precision_n\n",
      "0.532 \t 0.090 \t\t precision_recall_auc\n"
     ]
    }
   ],
   "source": [
    "# use all metrics for evaluation\n",
    "_ = eval_obj.evaluate(metrics=all_metrics)"
   ]
  },
  {
   "cell_type": "code",
   "execution_count": 6,
   "metadata": {
    "colab": {
     "base_uri": "https://localhost:8080/"
    },
    "executionInfo": {
     "elapsed": 15,
     "status": "ok",
     "timestamp": 1626964539279,
     "user": {
      "displayName": "Jan Deller",
      "photoUrl": "",
      "userId": "00505075318196950908"
     },
     "user_tz": -120
    },
    "id": "9wgZXcY09a0B",
    "outputId": "1c34535c-c932-4b55-d054-503a9db7b9e9"
   },
   "outputs": [
    {
     "name": "stdout",
     "output_type": "stream",
     "text": [
      "['roc_auc', 'average_precision', 'adjusted_average_precision', 'precision_n', 'adjusted_precision_n', 'precision_recall_auc']\n"
     ]
    }
   ],
   "source": [
    "# to use a subset, first see which ones are available\n",
    "print(all_metrics)"
   ]
  },
  {
   "cell_type": "code",
   "execution_count": 7,
   "metadata": {
    "colab": {
     "base_uri": "https://localhost:8080/"
    },
    "executionInfo": {
     "elapsed": 13,
     "status": "ok",
     "timestamp": 1626964539280,
     "user": {
      "displayName": "Jan Deller",
      "photoUrl": "",
      "userId": "00505075318196950908"
     },
     "user_tz": -120
    },
    "id": "I7daX3So9iW8",
    "outputId": "7b8b0341-f77c-4f60-d896-6800bb559d44"
   },
   "outputs": [
    {
     "name": "stdout",
     "output_type": "stream",
     "text": [
      "Evaluation on dataset forest_cover with normal labels [2] and anomaly labels [4].\n",
      "Total of 5 datasets. Per dataset:\n",
      "50 instances, contamination_rate 0.1.\n",
      "Mean \t Std_dev \t Metric\n",
      "0.925 \t 0.033 \t\t roc_auc\n",
      "0.532 \t 0.090 \t\t precision_recall_auc\n"
     ]
    }
   ],
   "source": [
    "# select an arbitrary subset\n",
    "metrics=['roc_auc', 'precision_recall_auc']\n",
    "_ = eval_obj.evaluate(metrics=metrics)"
   ]
  },
  {
   "cell_type": "code",
   "execution_count": null,
   "metadata": {
    "id": "WOC5m7Zj_HqS"
   },
   "outputs": [],
   "source": []
  }
 ],
 "metadata": {
  "colab": {
   "authorship_tag": "ABX9TyMAnWKMXMROdJHIHAnuxPMs",
   "collapsed_sections": [],
   "name": "Metrics.ipynb",
   "provenance": []
  },
  "kernelspec": {
   "display_name": "Python 3",
   "language": "python",
   "name": "python3"
  },
  "language_info": {
   "codemirror_mode": {
    "name": "ipython",
    "version": 3
   },
   "file_extension": ".py",
   "mimetype": "text/x-python",
   "name": "python",
   "nbconvert_exporter": "python",
   "pygments_lexer": "ipython3",
   "version": "3.9.0"
  }
 },
 "nbformat": 4,
 "nbformat_minor": 4
}
